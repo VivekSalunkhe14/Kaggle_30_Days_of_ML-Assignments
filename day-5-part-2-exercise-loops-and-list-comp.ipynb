{
 "cells": [
  {
   "cell_type": "markdown",
   "id": "37ba5a15",
   "metadata": {
    "papermill": {
     "duration": 0.018145,
     "end_time": "2021-08-24T08:21:27.591075",
     "exception": false,
     "start_time": "2021-08-24T08:21:27.572930",
     "status": "completed"
    },
    "tags": []
   },
   "source": [
    "**This notebook is an exercise in the [Python](https://www.kaggle.com/learn/python) course.  You can reference the tutorial at [this link](https://www.kaggle.com/colinmorris/loops-and-list-comprehensions).**\n",
    "\n",
    "---\n"
   ]
  },
  {
   "cell_type": "markdown",
   "id": "20827c4d",
   "metadata": {
    "papermill": {
     "duration": 0.01684,
     "end_time": "2021-08-24T08:21:27.625073",
     "exception": false,
     "start_time": "2021-08-24T08:21:27.608233",
     "status": "completed"
    },
    "tags": []
   },
   "source": [
    "With all you've learned, you can start writing much more interesting programs. See if you can solve the problems below.\n",
    "\n",
    "As always, run the setup code below before working on the questions."
   ]
  },
  {
   "cell_type": "code",
   "execution_count": 1,
   "id": "e28ae4d8",
   "metadata": {
    "execution": {
     "iopub.execute_input": "2021-08-24T08:21:27.669701Z",
     "iopub.status.busy": "2021-08-24T08:21:27.669067Z",
     "iopub.status.idle": "2021-08-24T08:21:27.716522Z",
     "shell.execute_reply": "2021-08-24T08:21:27.717061Z",
     "shell.execute_reply.started": "2021-08-24T07:47:09.578137Z"
    },
    "papermill": {
     "duration": 0.075668,
     "end_time": "2021-08-24T08:21:27.717351",
     "exception": false,
     "start_time": "2021-08-24T08:21:27.641683",
     "status": "completed"
    },
    "tags": []
   },
   "outputs": [
    {
     "name": "stdout",
     "output_type": "stream",
     "text": [
      "Setup complete.\n"
     ]
    }
   ],
   "source": [
    "from learntools.core import binder; binder.bind(globals())\n",
    "from learntools.python.ex5 import *\n",
    "print('Setup complete.')"
   ]
  },
  {
   "cell_type": "markdown",
   "id": "63c59e5d",
   "metadata": {
    "papermill": {
     "duration": 0.016559,
     "end_time": "2021-08-24T08:21:27.752095",
     "exception": false,
     "start_time": "2021-08-24T08:21:27.735536",
     "status": "completed"
    },
    "tags": []
   },
   "source": [
    "# 1.\n",
    "\n",
    "Have you ever felt debugging involved a bit of luck? The following program has a bug. Try to identify the bug and fix it."
   ]
  },
  {
   "cell_type": "code",
   "execution_count": 2,
   "id": "fc934b5f",
   "metadata": {
    "execution": {
     "iopub.execute_input": "2021-08-24T08:21:27.907007Z",
     "iopub.status.busy": "2021-08-24T08:21:27.906247Z",
     "iopub.status.idle": "2021-08-24T08:21:27.909042Z",
     "shell.execute_reply": "2021-08-24T08:21:27.909486Z",
     "shell.execute_reply.started": "2021-08-24T07:17:39.473537Z"
    },
    "papermill": {
     "duration": 0.130029,
     "end_time": "2021-08-24T08:21:27.909655",
     "exception": false,
     "start_time": "2021-08-24T08:21:27.779626",
     "status": "completed"
    },
    "tags": []
   },
   "outputs": [],
   "source": [
    "def has_lucky_number(nums):\n",
    "    \"\"\"Return whether the given list of numbers is lucky. A lucky list contains\n",
    "    at least one number divisible by 7.\n",
    "    \"\"\"\n",
    "    for num in nums:\n",
    "        if num % 7 == 0:\n",
    "            return True\n",
    "        else:\n",
    "            return False"
   ]
  },
  {
   "cell_type": "markdown",
   "id": "66eedda7",
   "metadata": {
    "papermill": {
     "duration": 0.016748,
     "end_time": "2021-08-24T08:21:27.943594",
     "exception": false,
     "start_time": "2021-08-24T08:21:27.926846",
     "status": "completed"
    },
    "tags": []
   },
   "source": [
    "Try to identify the bug and fix it in the cell below:"
   ]
  },
  {
   "cell_type": "code",
   "execution_count": 3,
   "id": "916009ba",
   "metadata": {
    "execution": {
     "iopub.execute_input": "2021-08-24T08:21:27.986596Z",
     "iopub.status.busy": "2021-08-24T08:21:27.985644Z",
     "iopub.status.idle": "2021-08-24T08:21:27.991155Z",
     "shell.execute_reply": "2021-08-24T08:21:27.991689Z",
     "shell.execute_reply.started": "2021-08-24T07:47:13.611110Z"
    },
    "papermill": {
     "duration": 0.031055,
     "end_time": "2021-08-24T08:21:27.991856",
     "exception": false,
     "start_time": "2021-08-24T08:21:27.960801",
     "status": "completed"
    },
    "tags": []
   },
   "outputs": [
    {
     "data": {
      "application/javascript": [
       "parent.postMessage({\"jupyterEvent\": \"custom.exercise_interaction\", \"data\": {\"outcomeType\": 1, \"valueTowardsCompletion\": 0.25, \"interactionType\": 1, \"questionType\": 2, \"questionId\": \"1_EarlyExitDebugging\", \"learnToolsVersion\": \"0.3.4\", \"failureMessage\": \"\", \"exceptionClass\": \"\", \"trace\": \"\"}}, \"*\")"
      ],
      "text/plain": [
       "<IPython.core.display.Javascript object>"
      ]
     },
     "metadata": {},
     "output_type": "display_data"
    },
    {
     "data": {
      "text/markdown": [
       "<span style=\"color:#33cc33\">Correct:</span> \n",
       "\n",
       "Remember that `return` causes a function to exit immediately. So our original implementation always ran for just one iteration. We can only return `False` if we've looked at every element of the list (and confirmed that none of them are lucky). Though we can return early if the answer is `True`:\n",
       "\n",
       "```python\n",
       "def has_lucky_number(nums):\n",
       "    for num in nums:\n",
       "        if num % 7 == 0:\n",
       "            return True\n",
       "    # We've exhausted the list without finding a lucky number\n",
       "    return False\n",
       "```\n",
       "\n",
       "Here's a one-line version using a list comprehension with Python's `any` function (you can read about what it does by calling `help(any)`):\n",
       "\n",
       "```python\n",
       "def has_lucky_number(nums):\n",
       "    return any([num % 7 == 0 for num in nums])\n",
       "```\n"
      ],
      "text/plain": [
       "Correct: \n",
       "\n",
       "Remember that `return` causes a function to exit immediately. So our original implementation always ran for just one iteration. We can only return `False` if we've looked at every element of the list (and confirmed that none of them are lucky). Though we can return early if the answer is `True`:\n",
       "\n",
       "```python\n",
       "def has_lucky_number(nums):\n",
       "    for num in nums:\n",
       "        if num % 7 == 0:\n",
       "            return True\n",
       "    # We've exhausted the list without finding a lucky number\n",
       "    return False\n",
       "```\n",
       "\n",
       "Here's a one-line version using a list comprehension with Python's `any` function (you can read about what it does by calling `help(any)`):\n",
       "\n",
       "```python\n",
       "def has_lucky_number(nums):\n",
       "    return any([num % 7 == 0 for num in nums])\n",
       "```"
      ]
     },
     "metadata": {},
     "output_type": "display_data"
    }
   ],
   "source": [
    "def has_lucky_number(nums):\n",
    "    \"\"\"Return whether the given list of numbers is lucky. A lucky list contains\n",
    "    at least one number divisible by 7.\n",
    "    \"\"\"\n",
    "    for num in nums:\n",
    "        if num % 7 == 0:\n",
    "            return True\n",
    "    return False\n",
    "\n",
    "# Check your answer\n",
    "q1.check()"
   ]
  },
  {
   "cell_type": "code",
   "execution_count": 4,
   "id": "e1df759c",
   "metadata": {
    "execution": {
     "iopub.execute_input": "2021-08-24T08:21:28.032061Z",
     "iopub.status.busy": "2021-08-24T08:21:28.031148Z",
     "iopub.status.idle": "2021-08-24T08:21:28.034374Z",
     "shell.execute_reply": "2021-08-24T08:21:28.034830Z"
    },
    "papermill": {
     "duration": 0.024716,
     "end_time": "2021-08-24T08:21:28.035020",
     "exception": false,
     "start_time": "2021-08-24T08:21:28.010304",
     "status": "completed"
    },
    "tags": []
   },
   "outputs": [],
   "source": [
    "#q1.hint()\n",
    "#q1.solution()"
   ]
  },
  {
   "cell_type": "markdown",
   "id": "55fefd1e",
   "metadata": {
    "papermill": {
     "duration": 0.018202,
     "end_time": "2021-08-24T08:21:28.072535",
     "exception": false,
     "start_time": "2021-08-24T08:21:28.054333",
     "status": "completed"
    },
    "tags": []
   },
   "source": [
    "# 2.\n",
    "Look at the Python expression below. What do you think we'll get when we run it? When you've made your prediction, uncomment the code and run the cell to see if you were right."
   ]
  },
  {
   "cell_type": "code",
   "execution_count": 5,
   "id": "285dde3f",
   "metadata": {
    "execution": {
     "iopub.execute_input": "2021-08-24T08:21:28.113017Z",
     "iopub.status.busy": "2021-08-24T08:21:28.112040Z",
     "iopub.status.idle": "2021-08-24T08:21:28.115948Z",
     "shell.execute_reply": "2021-08-24T08:21:28.116451Z",
     "shell.execute_reply.started": "2021-08-24T07:41:47.961856Z"
    },
    "papermill": {
     "duration": 0.025804,
     "end_time": "2021-08-24T08:21:28.116619",
     "exception": false,
     "start_time": "2021-08-24T08:21:28.090815",
     "status": "completed"
    },
    "tags": []
   },
   "outputs": [],
   "source": [
    "#[1, 2, 3, 4] > 2"
   ]
  },
  {
   "cell_type": "markdown",
   "id": "66228641",
   "metadata": {
    "papermill": {
     "duration": 0.018411,
     "end_time": "2021-08-24T08:21:28.153189",
     "exception": false,
     "start_time": "2021-08-24T08:21:28.134778",
     "status": "completed"
    },
    "tags": []
   },
   "source": [
    "R and Python have some libraries (like numpy and pandas) compare each element of the list to 2 (i.e. do an 'element-wise' comparison) and give us a list of booleans like `[False, False, True, True]`. \n",
    "\n",
    "Implement a function that reproduces this behaviour, returning a list of booleans corresponding to whether the corresponding element is greater than n."
   ]
  },
  {
   "cell_type": "code",
   "execution_count": 6,
   "id": "6b028519",
   "metadata": {
    "execution": {
     "iopub.execute_input": "2021-08-24T08:21:28.193712Z",
     "iopub.status.busy": "2021-08-24T08:21:28.192703Z",
     "iopub.status.idle": "2021-08-24T08:21:28.200826Z",
     "shell.execute_reply": "2021-08-24T08:21:28.201340Z",
     "shell.execute_reply.started": "2021-08-24T07:50:43.881375Z"
    },
    "papermill": {
     "duration": 0.029783,
     "end_time": "2021-08-24T08:21:28.201505",
     "exception": false,
     "start_time": "2021-08-24T08:21:28.171722",
     "status": "completed"
    },
    "tags": []
   },
   "outputs": [
    {
     "data": {
      "application/javascript": [
       "parent.postMessage({\"jupyterEvent\": \"custom.exercise_interaction\", \"data\": {\"outcomeType\": 1, \"valueTowardsCompletion\": 0.25, \"interactionType\": 1, \"questionType\": 2, \"questionId\": \"2_ElementWiseComparison\", \"learnToolsVersion\": \"0.3.4\", \"failureMessage\": \"\", \"exceptionClass\": \"\", \"trace\": \"\"}}, \"*\")"
      ],
      "text/plain": [
       "<IPython.core.display.Javascript object>"
      ]
     },
     "metadata": {},
     "output_type": "display_data"
    },
    {
     "data": {
      "text/markdown": [
       "<span style=\"color:#33cc33\">Correct:</span> \n",
       "\n",
       "Here's one solution:\n",
       "```python\n",
       "def elementwise_greater_than(L, thresh):\n",
       "    res = []\n",
       "    for ele in L:\n",
       "        res.append(ele > thresh)\n",
       "    return res\n",
       "```\n",
       "\n",
       "And here's the list comprehension version:\n",
       "```python\n",
       "def elementwise_greater_than(L, thresh):\n",
       "    return [ele > thresh for ele in L]\n",
       "```\n"
      ],
      "text/plain": [
       "Correct: \n",
       "\n",
       "Here's one solution:\n",
       "```python\n",
       "def elementwise_greater_than(L, thresh):\n",
       "    res = []\n",
       "    for ele in L:\n",
       "        res.append(ele > thresh)\n",
       "    return res\n",
       "```\n",
       "\n",
       "And here's the list comprehension version:\n",
       "```python\n",
       "def elementwise_greater_than(L, thresh):\n",
       "    return [ele > thresh for ele in L]\n",
       "```"
      ]
     },
     "metadata": {},
     "output_type": "display_data"
    }
   ],
   "source": [
    "def elementwise_greater_than(L, thresh):\n",
    "    \"\"\"Return a list with the same length as L, where the value at index i is \n",
    "    True if L[i] is greater than thresh, and False otherwise.\n",
    "    \n",
    "    >>> elementwise_greater_than([1, 2, 3, 4], 2)\n",
    "    [False, False, True, True]\n",
    "    \"\"\"\n",
    "    return [num > thresh for num in L]\n",
    "\n",
    "# Check your answer\n",
    "q2.check()"
   ]
  },
  {
   "cell_type": "code",
   "execution_count": 7,
   "id": "e505a27b",
   "metadata": {
    "execution": {
     "iopub.execute_input": "2021-08-24T08:21:28.243394Z",
     "iopub.status.busy": "2021-08-24T08:21:28.242471Z",
     "iopub.status.idle": "2021-08-24T08:21:28.245718Z",
     "shell.execute_reply": "2021-08-24T08:21:28.246220Z"
    },
    "papermill": {
     "duration": 0.025785,
     "end_time": "2021-08-24T08:21:28.246386",
     "exception": false,
     "start_time": "2021-08-24T08:21:28.220601",
     "status": "completed"
    },
    "tags": []
   },
   "outputs": [],
   "source": [
    "#q2.solution()"
   ]
  },
  {
   "cell_type": "markdown",
   "id": "0a19a113",
   "metadata": {
    "papermill": {
     "duration": 0.018835,
     "end_time": "2021-08-24T08:21:28.284576",
     "exception": false,
     "start_time": "2021-08-24T08:21:28.265741",
     "status": "completed"
    },
    "tags": []
   },
   "source": [
    "# 3.\n",
    "\n",
    "Complete the body of the function below according to its docstring."
   ]
  },
  {
   "cell_type": "code",
   "execution_count": 8,
   "id": "d2c1f45d",
   "metadata": {
    "execution": {
     "iopub.execute_input": "2021-08-24T08:21:28.326447Z",
     "iopub.status.busy": "2021-08-24T08:21:28.325483Z",
     "iopub.status.idle": "2021-08-24T08:21:28.334036Z",
     "shell.execute_reply": "2021-08-24T08:21:28.334526Z",
     "shell.execute_reply.started": "2021-08-24T07:53:37.653552Z"
    },
    "papermill": {
     "duration": 0.030982,
     "end_time": "2021-08-24T08:21:28.334692",
     "exception": false,
     "start_time": "2021-08-24T08:21:28.303710",
     "status": "completed"
    },
    "tags": []
   },
   "outputs": [
    {
     "data": {
      "application/javascript": [
       "parent.postMessage({\"jupyterEvent\": \"custom.exercise_interaction\", \"data\": {\"outcomeType\": 1, \"valueTowardsCompletion\": 0.25, \"interactionType\": 1, \"questionType\": 2, \"questionId\": \"3_BoringMenu\", \"learnToolsVersion\": \"0.3.4\", \"failureMessage\": \"\", \"exceptionClass\": \"\", \"trace\": \"\"}}, \"*\")"
      ],
      "text/plain": [
       "<IPython.core.display.Javascript object>"
      ]
     },
     "metadata": {},
     "output_type": "display_data"
    },
    {
     "data": {
      "text/markdown": [
       "<span style=\"color:#33cc33\">Correct:</span> \n",
       "\n",
       "\n",
       "\n",
       "```python\n",
       "def menu_is_boring(meals):\n",
       "    # Iterate over all indices of the list, except the last one\n",
       "    for i in range(len(meals)-1):\n",
       "        if meals[i] == meals[i+1]:\n",
       "            return True\n",
       "    return False\n",
       "```\n",
       "\n",
       "The key to our solution is the call to `range`. `range(len(meals))` would give us all the indices of `meals`. If we had used that range, the last iteration of the loop would be comparing the last element to the element after it, which is... `IndexError`! `range(len(meals)-1)` gives us all the indices except the index of the last element.\n",
       "\n",
       "But don't we need to check if `meals` is empty? Turns out that `range(0) == range(-1)` - they're both empty. So if `meals` has length 0 or 1, we just won't do any iterations of our for loop.\n"
      ],
      "text/plain": [
       "Correct: \n",
       "\n",
       "\n",
       "\n",
       "```python\n",
       "def menu_is_boring(meals):\n",
       "    # Iterate over all indices of the list, except the last one\n",
       "    for i in range(len(meals)-1):\n",
       "        if meals[i] == meals[i+1]:\n",
       "            return True\n",
       "    return False\n",
       "```\n",
       "\n",
       "The key to our solution is the call to `range`. `range(len(meals))` would give us all the indices of `meals`. If we had used that range, the last iteration of the loop would be comparing the last element to the element after it, which is... `IndexError`! `range(len(meals)-1)` gives us all the indices except the index of the last element.\n",
       "\n",
       "But don't we need to check if `meals` is empty? Turns out that `range(0) == range(-1)` - they're both empty. So if `meals` has length 0 or 1, we just won't do any iterations of our for loop."
      ]
     },
     "metadata": {},
     "output_type": "display_data"
    }
   ],
   "source": [
    "def menu_is_boring(meals):\n",
    "    \"\"\"Given a list of meals served over some period of time, return True if the\n",
    "    same meal has ever been served two days in a row, and False otherwise.\n",
    "    \"\"\"\n",
    "    previous_meal = None\n",
    "    for meal in meals:\n",
    "        if meal == previous_meal:\n",
    "            return True\n",
    "        previous_meal = meal\n",
    "    return False\n",
    "\n",
    "# Check your answer\n",
    "q3.check()"
   ]
  },
  {
   "cell_type": "code",
   "execution_count": 9,
   "id": "41d49d53",
   "metadata": {
    "execution": {
     "iopub.execute_input": "2021-08-24T08:21:28.379724Z",
     "iopub.status.busy": "2021-08-24T08:21:28.378814Z",
     "iopub.status.idle": "2021-08-24T08:21:28.382185Z",
     "shell.execute_reply": "2021-08-24T08:21:28.382720Z"
    },
    "papermill": {
     "duration": 0.027035,
     "end_time": "2021-08-24T08:21:28.382891",
     "exception": false,
     "start_time": "2021-08-24T08:21:28.355856",
     "status": "completed"
    },
    "tags": []
   },
   "outputs": [],
   "source": [
    "#q3.hint()\n",
    "#q3.solution()"
   ]
  },
  {
   "cell_type": "markdown",
   "id": "d299468c",
   "metadata": {
    "papermill": {
     "duration": 0.020092,
     "end_time": "2021-08-24T08:21:28.424088",
     "exception": false,
     "start_time": "2021-08-24T08:21:28.403996",
     "status": "completed"
    },
    "tags": []
   },
   "source": [
    "# 4. <span title=\"A bit spicy\" style=\"color: darkgreen \">🌶️</span>\n",
    "\n",
    "Next to the Blackjack table, the Python Challenge Casino has a slot machine. You can get a result from the slot machine by calling `play_slot_machine()`. The number it returns is your winnings in dollars. Usually it returns 0.  But sometimes you'll get lucky and get a big payday. Try running it below:"
   ]
  },
  {
   "cell_type": "code",
   "execution_count": 10,
   "id": "1944ca18",
   "metadata": {
    "execution": {
     "iopub.execute_input": "2021-08-24T08:21:28.468250Z",
     "iopub.status.busy": "2021-08-24T08:21:28.467295Z",
     "iopub.status.idle": "2021-08-24T08:21:28.473554Z",
     "shell.execute_reply": "2021-08-24T08:21:28.473065Z",
     "shell.execute_reply.started": "2021-08-24T08:11:00.872860Z"
    },
    "papermill": {
     "duration": 0.029289,
     "end_time": "2021-08-24T08:21:28.473690",
     "exception": false,
     "start_time": "2021-08-24T08:21:28.444401",
     "status": "completed"
    },
    "tags": []
   },
   "outputs": [
    {
     "data": {
      "text/plain": [
       "0"
      ]
     },
     "execution_count": 10,
     "metadata": {},
     "output_type": "execute_result"
    }
   ],
   "source": [
    "play_slot_machine()"
   ]
  },
  {
   "cell_type": "markdown",
   "id": "ccb56509",
   "metadata": {
    "papermill": {
     "duration": 0.020404,
     "end_time": "2021-08-24T08:21:28.514786",
     "exception": false,
     "start_time": "2021-08-24T08:21:28.494382",
     "status": "completed"
    },
    "tags": []
   },
   "source": [
    "By the way, did we mention that each play costs $1? Don't worry, we'll send you the bill later.\n",
    "\n",
    "On average, how much money can you expect to gain (or lose) every time you play the machine?  The casino keeps it a secret, but you can estimate the average value of each pull using a technique called the **Monte Carlo method**. To estimate the average outcome, we simulate the scenario many times, and return the average result.\n",
    "\n",
    "Complete the following function to calculate the average value per play of the slot machine."
   ]
  },
  {
   "cell_type": "code",
   "execution_count": 11,
   "id": "6ccbc65a",
   "metadata": {
    "execution": {
     "iopub.execute_input": "2021-08-24T08:21:28.562815Z",
     "iopub.status.busy": "2021-08-24T08:21:28.562136Z",
     "iopub.status.idle": "2021-08-24T08:21:28.564257Z",
     "shell.execute_reply": "2021-08-24T08:21:28.564711Z",
     "shell.execute_reply.started": "2021-08-24T08:18:58.090396Z"
    },
    "papermill": {
     "duration": 0.027949,
     "end_time": "2021-08-24T08:21:28.564888",
     "exception": false,
     "start_time": "2021-08-24T08:21:28.536939",
     "status": "completed"
    },
    "tags": []
   },
   "outputs": [],
   "source": [
    "def estimate_average_slot_payout(n_runs):\n",
    "    \"\"\"Run the slot machine n_runs times and return the average net profit per run.\n",
    "    Example calls (note that return value is nondeterministic!):\n",
    "    >>> estimate_average_slot_payout(1)\n",
    "    -1\n",
    "    >>> estimate_average_slot_payout(1)\n",
    "    0.5\n",
    "    \"\"\"\n",
    "    return (sum(play_slot_machine() for _ in range(n_runs)) - n_runs) / n_runs"
   ]
  },
  {
   "cell_type": "markdown",
   "id": "d087343f",
   "metadata": {
    "papermill": {
     "duration": 0.020754,
     "end_time": "2021-08-24T08:21:28.607001",
     "exception": false,
     "start_time": "2021-08-24T08:21:28.586247",
     "status": "completed"
    },
    "tags": []
   },
   "source": [
    "When you think you know the expected value per spin, run the code cell below to view the solution and get credit for answering the question."
   ]
  },
  {
   "cell_type": "code",
   "execution_count": 12,
   "id": "4540eda3",
   "metadata": {
    "execution": {
     "iopub.execute_input": "2021-08-24T08:21:28.652629Z",
     "iopub.status.busy": "2021-08-24T08:21:28.651993Z",
     "iopub.status.idle": "2021-08-24T08:21:32.558805Z",
     "shell.execute_reply": "2021-08-24T08:21:32.559335Z",
     "shell.execute_reply.started": "2021-08-24T08:19:00.214976Z"
    },
    "papermill": {
     "duration": 3.931202,
     "end_time": "2021-08-24T08:21:32.559506",
     "exception": false,
     "start_time": "2021-08-24T08:21:28.628304",
     "status": "completed"
    },
    "tags": []
   },
   "outputs": [
    {
     "data": {
      "text/plain": [
       "0.0245235"
      ]
     },
     "execution_count": 12,
     "metadata": {},
     "output_type": "execute_result"
    }
   ],
   "source": [
    "estimate_average_slot_payout(10000000)"
   ]
  },
  {
   "cell_type": "code",
   "execution_count": 13,
   "id": "089507a1",
   "metadata": {
    "execution": {
     "iopub.execute_input": "2021-08-24T08:21:32.605581Z",
     "iopub.status.busy": "2021-08-24T08:21:32.604817Z",
     "iopub.status.idle": "2021-08-24T08:21:32.612080Z",
     "shell.execute_reply": "2021-08-24T08:21:32.611336Z",
     "shell.execute_reply.started": "2021-08-24T08:15:14.392883Z"
    },
    "papermill": {
     "duration": 0.03169,
     "end_time": "2021-08-24T08:21:32.612279",
     "exception": false,
     "start_time": "2021-08-24T08:21:32.580589",
     "status": "completed"
    },
    "tags": []
   },
   "outputs": [
    {
     "data": {
      "application/javascript": [
       "parent.postMessage({\"jupyterEvent\": \"custom.exercise_interaction\", \"data\": {\"interactionType\": 3, \"questionType\": 4, \"questionId\": \"4_ExpectedSlotsPayout\", \"learnToolsVersion\": \"0.3.4\", \"valueTowardsCompletion\": 0.0, \"failureMessage\": \"\", \"exceptionClass\": \"\", \"trace\": \"\", \"outcomeType\": 4}}, \"*\")"
      ],
      "text/plain": [
       "<IPython.core.display.Javascript object>"
      ]
     },
     "metadata": {},
     "output_type": "display_data"
    },
    {
     "data": {
      "text/markdown": [
       "<span style=\"color:#33cc99\">Solution:</span> The exact expected value of one pull of the slot machine is 0.025 - i.e. a little more than 2 cents. See? Not every game in the Python Challenge Casino is rigged against the player!\n",
       "\n",
       "Because of the high variance of the outcome (there are some very rare high payout results that significantly affect the average) you might need to run your function with a very high value of `n_runs` to get a stable answer close to the true expectation.\n",
       "\n",
       "If your answer is way higher than 0.025, then maybe you forgot to account for the $1 cost per play?"
      ],
      "text/plain": [
       "Solution: The exact expected value of one pull of the slot machine is 0.025 - i.e. a little more than 2 cents. See? Not every game in the Python Challenge Casino is rigged against the player!\n",
       "\n",
       "Because of the high variance of the outcome (there are some very rare high payout results that significantly affect the average) you might need to run your function with a very high value of `n_runs` to get a stable answer close to the true expectation.\n",
       "\n",
       "If your answer is way higher than 0.025, then maybe you forgot to account for the $1 cost per play?"
      ]
     },
     "metadata": {},
     "output_type": "display_data"
    }
   ],
   "source": [
    "# Check your answer (Run this code cell to receive credit!)\n",
    "q4.solution()"
   ]
  },
  {
   "cell_type": "markdown",
   "id": "7d43e0a5",
   "metadata": {
    "papermill": {
     "duration": 0.021738,
     "end_time": "2021-08-24T08:21:32.657169",
     "exception": false,
     "start_time": "2021-08-24T08:21:32.635431",
     "status": "completed"
    },
    "tags": []
   },
   "source": [
    "# Keep Going\n",
    "\n",
    "Many programmers report that dictionaries are their favorite data structure. You'll get to **[learn about them](https://www.kaggle.com/colinmorris/strings-and-dictionaries)** (as well as strings) in the next lesson."
   ]
  },
  {
   "cell_type": "markdown",
   "id": "94dbfcf3",
   "metadata": {
    "papermill": {
     "duration": 0.02167,
     "end_time": "2021-08-24T08:21:32.701194",
     "exception": false,
     "start_time": "2021-08-24T08:21:32.679524",
     "status": "completed"
    },
    "tags": []
   },
   "source": [
    "---\n",
    "\n",
    "\n",
    "\n",
    "\n",
    "*Have questions or comments? Visit the [Learn Discussion forum](https://www.kaggle.com/learn-forum/161283) to chat with other Learners.*"
   ]
  }
 ],
 "metadata": {
  "kernelspec": {
   "display_name": "Python 3",
   "language": "python",
   "name": "python3"
  },
  "language_info": {
   "codemirror_mode": {
    "name": "ipython",
    "version": 3
   },
   "file_extension": ".py",
   "mimetype": "text/x-python",
   "name": "python",
   "nbconvert_exporter": "python",
   "pygments_lexer": "ipython3",
   "version": "3.7.10"
  },
  "papermill": {
   "default_parameters": {},
   "duration": 14.420006,
   "end_time": "2021-08-24T08:21:33.332402",
   "environment_variables": {},
   "exception": null,
   "input_path": "__notebook__.ipynb",
   "output_path": "__notebook__.ipynb",
   "parameters": {},
   "start_time": "2021-08-24T08:21:18.912396",
   "version": "2.3.3"
  }
 },
 "nbformat": 4,
 "nbformat_minor": 5
}
