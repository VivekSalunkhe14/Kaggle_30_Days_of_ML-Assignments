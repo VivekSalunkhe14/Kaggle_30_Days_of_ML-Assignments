{
 "cells": [
  {
   "cell_type": "markdown",
   "id": "1d3213ab",
   "metadata": {
    "papermill": {
     "duration": 0.017007,
     "end_time": "2021-08-24T09:12:09.905756",
     "exception": false,
     "start_time": "2021-08-24T09:12:09.888749",
     "status": "completed"
    },
    "tags": []
   },
   "source": [
    "**This notebook is an exercise in the [Python](https://www.kaggle.com/learn/python) course.  You can reference the tutorial at [this link](https://www.kaggle.com/colinmorris/strings-and-dictionaries).**\n",
    "\n",
    "---\n"
   ]
  },
  {
   "cell_type": "markdown",
   "id": "a4aea5b9",
   "metadata": {
    "papermill": {
     "duration": 0.016594,
     "end_time": "2021-08-24T09:12:09.939584",
     "exception": false,
     "start_time": "2021-08-24T09:12:09.922990",
     "status": "completed"
    },
    "tags": []
   },
   "source": [
    "You are almost done with the course. Nice job!\n",
    "\n",
    "We have a couple more interesting problems for you before you go. \n",
    "\n",
    "As always, run the setup code below before working on the questions."
   ]
  },
  {
   "cell_type": "code",
   "execution_count": 1,
   "id": "d1e3e2bc",
   "metadata": {
    "execution": {
     "iopub.execute_input": "2021-08-24T09:12:09.982766Z",
     "iopub.status.busy": "2021-08-24T09:12:09.982121Z",
     "iopub.status.idle": "2021-08-24T09:12:10.120183Z",
     "shell.execute_reply": "2021-08-24T09:12:10.121140Z",
     "shell.execute_reply.started": "2021-08-24T08:24:03.948960Z"
    },
    "papermill": {
     "duration": 0.165993,
     "end_time": "2021-08-24T09:12:10.121559",
     "exception": false,
     "start_time": "2021-08-24T09:12:09.955566",
     "status": "completed"
    },
    "tags": []
   },
   "outputs": [
    {
     "name": "stdout",
     "output_type": "stream",
     "text": [
      "Setup complete.\n"
     ]
    }
   ],
   "source": [
    "from learntools.core import binder; binder.bind(globals())\n",
    "from learntools.python.ex6 import *\n",
    "print('Setup complete.')"
   ]
  },
  {
   "cell_type": "markdown",
   "id": "6e226c98",
   "metadata": {
    "papermill": {
     "duration": 0.020421,
     "end_time": "2021-08-24T09:12:10.166708",
     "exception": false,
     "start_time": "2021-08-24T09:12:10.146287",
     "status": "completed"
    },
    "tags": []
   },
   "source": [
    "Let's start with a string lightning round to warm up. What are the lengths of the strings below?\n",
    "\n",
    "For each of the five strings below, predict what `len()` would return when passed that string. Use the variable `length` to record your answer, then run the cell to check whether you were right.  \n",
    "\n",
    "# 0a."
   ]
  },
  {
   "cell_type": "code",
   "execution_count": 2,
   "id": "74d517ee",
   "metadata": {
    "execution": {
     "iopub.execute_input": "2021-08-24T09:12:10.212073Z",
     "iopub.status.busy": "2021-08-24T09:12:10.211342Z",
     "iopub.status.idle": "2021-08-24T09:12:10.216663Z",
     "shell.execute_reply": "2021-08-24T09:12:10.217105Z",
     "shell.execute_reply.started": "2021-08-24T08:24:18.908112Z"
    },
    "papermill": {
     "duration": 0.031224,
     "end_time": "2021-08-24T09:12:10.217271",
     "exception": false,
     "start_time": "2021-08-24T09:12:10.186047",
     "status": "completed"
    },
    "tags": []
   },
   "outputs": [
    {
     "data": {
      "application/javascript": [
       "parent.postMessage({\"jupyterEvent\": \"custom.exercise_interaction\", \"data\": {\"outcomeType\": 1, \"valueTowardsCompletion\": 0.3333333333333333, \"interactionType\": 1, \"questionType\": 1, \"questionId\": \"0.1_ZA\", \"learnToolsVersion\": \"0.3.4\", \"failureMessage\": \"\", \"exceptionClass\": \"\", \"trace\": \"\"}}, \"*\")"
      ],
      "text/plain": [
       "<IPython.core.display.Javascript object>"
      ]
     },
     "metadata": {},
     "output_type": "display_data"
    },
    {
     "data": {
      "text/markdown": [
       "<span style=\"color:#33cc33\">Correct:</span> \n",
       "\n",
       "The empty string has length zero. Note that the empty string is also the only string that Python considers as False when converting to boolean."
      ],
      "text/plain": [
       "Correct: \n",
       "\n",
       "The empty string has length zero. Note that the empty string is also the only string that Python considers as False when converting to boolean."
      ]
     },
     "metadata": {},
     "output_type": "display_data"
    }
   ],
   "source": [
    "a = \"\"\n",
    "length = 0\n",
    "q0.a.check()"
   ]
  },
  {
   "cell_type": "markdown",
   "id": "26102dc8",
   "metadata": {
    "papermill": {
     "duration": 0.016905,
     "end_time": "2021-08-24T09:12:10.251669",
     "exception": false,
     "start_time": "2021-08-24T09:12:10.234764",
     "status": "completed"
    },
    "tags": []
   },
   "source": [
    "# 0b."
   ]
  },
  {
   "cell_type": "code",
   "execution_count": 3,
   "id": "00619f0f",
   "metadata": {
    "execution": {
     "iopub.execute_input": "2021-08-24T09:12:10.291377Z",
     "iopub.status.busy": "2021-08-24T09:12:10.290707Z",
     "iopub.status.idle": "2021-08-24T09:12:10.295302Z",
     "shell.execute_reply": "2021-08-24T09:12:10.295844Z",
     "shell.execute_reply.started": "2021-08-24T08:25:14.566341Z"
    },
    "papermill": {
     "duration": 0.027198,
     "end_time": "2021-08-24T09:12:10.296028",
     "exception": false,
     "start_time": "2021-08-24T09:12:10.268830",
     "status": "completed"
    },
    "tags": []
   },
   "outputs": [
    {
     "data": {
      "application/javascript": [
       "parent.postMessage({\"jupyterEvent\": \"custom.exercise_interaction\", \"data\": {\"outcomeType\": 1, \"valueTowardsCompletion\": 0.3333333333333333, \"interactionType\": 1, \"questionType\": 1, \"questionId\": \"0.2_ZB\", \"learnToolsVersion\": \"0.3.4\", \"failureMessage\": \"\", \"exceptionClass\": \"\", \"trace\": \"\"}}, \"*\")"
      ],
      "text/plain": [
       "<IPython.core.display.Javascript object>"
      ]
     },
     "metadata": {},
     "output_type": "display_data"
    },
    {
     "data": {
      "text/markdown": [
       "<span style=\"color:#33cc33\">Correct:</span> \n",
       "\n",
       "Keep in mind Python includes spaces (and punctuation) when counting string length."
      ],
      "text/plain": [
       "Correct: \n",
       "\n",
       "Keep in mind Python includes spaces (and punctuation) when counting string length."
      ]
     },
     "metadata": {},
     "output_type": "display_data"
    }
   ],
   "source": [
    "b = \"it's ok\"\n",
    "length = 7\n",
    "q0.b.check()"
   ]
  },
  {
   "cell_type": "markdown",
   "id": "fa820759",
   "metadata": {
    "papermill": {
     "duration": 0.018067,
     "end_time": "2021-08-24T09:12:10.332663",
     "exception": false,
     "start_time": "2021-08-24T09:12:10.314596",
     "status": "completed"
    },
    "tags": []
   },
   "source": [
    "# 0c."
   ]
  },
  {
   "cell_type": "code",
   "execution_count": 4,
   "id": "ca0a250f",
   "metadata": {
    "execution": {
     "iopub.execute_input": "2021-08-24T09:12:10.372275Z",
     "iopub.status.busy": "2021-08-24T09:12:10.371655Z",
     "iopub.status.idle": "2021-08-24T09:12:10.377740Z",
     "shell.execute_reply": "2021-08-24T09:12:10.378207Z",
     "shell.execute_reply.started": "2021-08-24T08:25:45.771853Z"
    },
    "papermill": {
     "duration": 0.027373,
     "end_time": "2021-08-24T09:12:10.378391",
     "exception": false,
     "start_time": "2021-08-24T09:12:10.351018",
     "status": "completed"
    },
    "tags": []
   },
   "outputs": [
    {
     "data": {
      "application/javascript": [
       "parent.postMessage({\"jupyterEvent\": \"custom.exercise_interaction\", \"data\": {\"outcomeType\": 1, \"valueTowardsCompletion\": 0.3333333333333333, \"interactionType\": 1, \"questionType\": 1, \"questionId\": \"0.3_ZC\", \"learnToolsVersion\": \"0.3.4\", \"failureMessage\": \"\", \"exceptionClass\": \"\", \"trace\": \"\"}}, \"*\")"
      ],
      "text/plain": [
       "<IPython.core.display.Javascript object>"
      ]
     },
     "metadata": {},
     "output_type": "display_data"
    },
    {
     "data": {
      "text/markdown": [
       "<span style=\"color:#33cc33\">Correct:</span> \n",
       "\n",
       "Even though we use different syntax to create it, the string `c` is identical to `b`. In particular, note that the backslash is not part of the string, so it doesn't contribute to its length."
      ],
      "text/plain": [
       "Correct: \n",
       "\n",
       "Even though we use different syntax to create it, the string `c` is identical to `b`. In particular, note that the backslash is not part of the string, so it doesn't contribute to its length."
      ]
     },
     "metadata": {},
     "output_type": "display_data"
    }
   ],
   "source": [
    "c = 'it\\'s ok'\n",
    "length = 7\n",
    "q0.c.check()"
   ]
  },
  {
   "cell_type": "markdown",
   "id": "3cb7230e",
   "metadata": {
    "papermill": {
     "duration": 0.019193,
     "end_time": "2021-08-24T09:12:10.417102",
     "exception": false,
     "start_time": "2021-08-24T09:12:10.397909",
     "status": "completed"
    },
    "tags": []
   },
   "source": [
    "# 0d."
   ]
  },
  {
   "cell_type": "code",
   "execution_count": 5,
   "id": "5b3f90fa",
   "metadata": {
    "execution": {
     "iopub.execute_input": "2021-08-24T09:12:10.458448Z",
     "iopub.status.busy": "2021-08-24T09:12:10.457863Z",
     "iopub.status.idle": "2021-08-24T09:12:10.464424Z",
     "shell.execute_reply": "2021-08-24T09:12:10.464932Z",
     "shell.execute_reply.started": "2021-08-24T08:26:14.638378Z"
    },
    "papermill": {
     "duration": 0.028793,
     "end_time": "2021-08-24T09:12:10.465090",
     "exception": false,
     "start_time": "2021-08-24T09:12:10.436297",
     "status": "completed"
    },
    "tags": []
   },
   "outputs": [
    {
     "data": {
      "application/javascript": [
       "parent.postMessage({\"jupyterEvent\": \"custom.exercise_interaction\", \"data\": {\"outcomeType\": 1, \"valueTowardsCompletion\": 0.3333333333333333, \"interactionType\": 1, \"questionType\": 1, \"questionId\": \"0.4_ZD\", \"learnToolsVersion\": \"0.3.4\", \"failureMessage\": \"\", \"exceptionClass\": \"\", \"trace\": \"\"}}, \"*\")"
      ],
      "text/plain": [
       "<IPython.core.display.Javascript object>"
      ]
     },
     "metadata": {},
     "output_type": "display_data"
    },
    {
     "data": {
      "text/markdown": [
       "<span style=\"color:#33cc33\">Correct:</span> \n",
       "\n",
       "The fact that this string was created using triple-quote syntax doesn't make any difference in terms of its content or length. This string is exactly the same as `'hey'`."
      ],
      "text/plain": [
       "Correct: \n",
       "\n",
       "The fact that this string was created using triple-quote syntax doesn't make any difference in terms of its content or length. This string is exactly the same as `'hey'`."
      ]
     },
     "metadata": {},
     "output_type": "display_data"
    }
   ],
   "source": [
    "d = \"\"\"hey\"\"\"\n",
    "length = 3\n",
    "q0.d.check()"
   ]
  },
  {
   "cell_type": "markdown",
   "id": "472e08e0",
   "metadata": {
    "papermill": {
     "duration": 0.01975,
     "end_time": "2021-08-24T09:12:10.505095",
     "exception": false,
     "start_time": "2021-08-24T09:12:10.485345",
     "status": "completed"
    },
    "tags": []
   },
   "source": [
    "# 0e."
   ]
  },
  {
   "cell_type": "code",
   "execution_count": 6,
   "id": "b46dbf1f",
   "metadata": {
    "execution": {
     "iopub.execute_input": "2021-08-24T09:12:10.548300Z",
     "iopub.status.busy": "2021-08-24T09:12:10.547691Z",
     "iopub.status.idle": "2021-08-24T09:12:10.554540Z",
     "shell.execute_reply": "2021-08-24T09:12:10.555053Z",
     "shell.execute_reply.started": "2021-08-24T08:49:13.936775Z"
    },
    "papermill": {
     "duration": 0.03004,
     "end_time": "2021-08-24T09:12:10.555208",
     "exception": false,
     "start_time": "2021-08-24T09:12:10.525168",
     "status": "completed"
    },
    "tags": []
   },
   "outputs": [
    {
     "data": {
      "application/javascript": [
       "parent.postMessage({\"jupyterEvent\": \"custom.exercise_interaction\", \"data\": {\"outcomeType\": 1, \"valueTowardsCompletion\": 0.3333333333333333, \"interactionType\": 1, \"questionType\": 1, \"questionId\": \"0.5_ZE\", \"learnToolsVersion\": \"0.3.4\", \"failureMessage\": \"\", \"exceptionClass\": \"\", \"trace\": \"\"}}, \"*\")"
      ],
      "text/plain": [
       "<IPython.core.display.Javascript object>"
      ]
     },
     "metadata": {},
     "output_type": "display_data"
    },
    {
     "data": {
      "text/markdown": [
       "<span style=\"color:#33cc33\">Correct:</span> \n",
       "\n",
       "The newline character is just a single character! (Even though we represent it to Python using a combination of two characters.)"
      ],
      "text/plain": [
       "Correct: \n",
       "\n",
       "The newline character is just a single character! (Even though we represent it to Python using a combination of two characters.)"
      ]
     },
     "metadata": {},
     "output_type": "display_data"
    }
   ],
   "source": [
    "e = '\\n'\n",
    "length = 1\n",
    "q0.e.check()"
   ]
  },
  {
   "cell_type": "markdown",
   "id": "475e123c",
   "metadata": {
    "papermill": {
     "duration": 0.026735,
     "end_time": "2021-08-24T09:12:10.603118",
     "exception": false,
     "start_time": "2021-08-24T09:12:10.576383",
     "status": "completed"
    },
    "tags": []
   },
   "source": [
    "# 1.\n",
    "\n",
    "There is a saying that \"Data scientists spend 80% of their time cleaning data, and 20% of their time complaining about cleaning data.\" Let's see if you can write a function to help clean US zip code data. Given a string, it should return whether or not that string represents a valid zip code. For our purposes, a valid zip code is any string consisting of exactly 5 digits.\n",
    "\n",
    "HINT: `str` has a method that will be useful here. Use `help(str)` to review a list of string methods."
   ]
  },
  {
   "cell_type": "code",
   "execution_count": 7,
   "id": "de63ae2f",
   "metadata": {
    "execution": {
     "iopub.execute_input": "2021-08-24T09:12:10.655388Z",
     "iopub.status.busy": "2021-08-24T09:12:10.654461Z",
     "iopub.status.idle": "2021-08-24T09:12:10.661322Z",
     "shell.execute_reply": "2021-08-24T09:12:10.662058Z",
     "shell.execute_reply.started": "2021-08-24T08:49:16.627183Z"
    },
    "papermill": {
     "duration": 0.033674,
     "end_time": "2021-08-24T09:12:10.662288",
     "exception": false,
     "start_time": "2021-08-24T09:12:10.628614",
     "status": "completed"
    },
    "tags": []
   },
   "outputs": [
    {
     "data": {
      "application/javascript": [
       "parent.postMessage({\"jupyterEvent\": \"custom.exercise_interaction\", \"data\": {\"outcomeType\": 1, \"valueTowardsCompletion\": 0.3333333333333333, \"interactionType\": 1, \"questionType\": 2, \"questionId\": \"1_ZipValidator\", \"learnToolsVersion\": \"0.3.4\", \"failureMessage\": \"\", \"exceptionClass\": \"\", \"trace\": \"\"}}, \"*\")"
      ],
      "text/plain": [
       "<IPython.core.display.Javascript object>"
      ]
     },
     "metadata": {},
     "output_type": "display_data"
    },
    {
     "data": {
      "text/markdown": [
       "<span style=\"color:#33cc33\">Correct</span>"
      ],
      "text/plain": [
       "Correct"
      ]
     },
     "metadata": {},
     "output_type": "display_data"
    }
   ],
   "source": [
    "def is_valid_zip(zip_code):\n",
    "    \"\"\"Returns whether the input string is a valid (5 digit) zip code\n",
    "    \"\"\"\n",
    "    if len(zip_code) == 5 and zip_code.isdigit():\n",
    "        return True\n",
    "    return False\n",
    "\n",
    "# Check your answer\n",
    "q1.check()"
   ]
  },
  {
   "cell_type": "code",
   "execution_count": 8,
   "id": "9c9dbdf2",
   "metadata": {
    "execution": {
     "iopub.execute_input": "2021-08-24T09:12:10.713415Z",
     "iopub.status.busy": "2021-08-24T09:12:10.712813Z",
     "iopub.status.idle": "2021-08-24T09:12:10.718830Z",
     "shell.execute_reply": "2021-08-24T09:12:10.719349Z",
     "shell.execute_reply.started": "2021-08-24T09:04:00.447908Z"
    },
    "papermill": {
     "duration": 0.031311,
     "end_time": "2021-08-24T09:12:10.719510",
     "exception": false,
     "start_time": "2021-08-24T09:12:10.688199",
     "status": "completed"
    },
    "tags": []
   },
   "outputs": [
    {
     "data": {
      "application/javascript": [
       "parent.postMessage({\"jupyterEvent\": \"custom.exercise_interaction\", \"data\": {\"interactionType\": 3, \"questionType\": 2, \"questionId\": \"1_ZipValidator\", \"learnToolsVersion\": \"0.3.4\", \"valueTowardsCompletion\": 0.0, \"failureMessage\": \"\", \"exceptionClass\": \"\", \"trace\": \"\", \"outcomeType\": 4}}, \"*\")"
      ],
      "text/plain": [
       "<IPython.core.display.Javascript object>"
      ]
     },
     "metadata": {},
     "output_type": "display_data"
    },
    {
     "data": {
      "text/markdown": [
       "<span style=\"color:#33cc99\">Solution:</span> \n",
       "```python\n",
       "def is_valid_zip(zip_str):\n",
       "    return len(zip_str) == 5 and zip_str.isdigit()\n",
       "```"
      ],
      "text/plain": [
       "Solution: \n",
       "```python\n",
       "def is_valid_zip(zip_str):\n",
       "    return len(zip_str) == 5 and zip_str.isdigit()\n",
       "```"
      ]
     },
     "metadata": {},
     "output_type": "display_data"
    }
   ],
   "source": [
    "#q1.hint()\n",
    "q1.solution()"
   ]
  },
  {
   "cell_type": "markdown",
   "id": "3b17084d",
   "metadata": {
    "papermill": {
     "duration": 0.022929,
     "end_time": "2021-08-24T09:12:10.765988",
     "exception": false,
     "start_time": "2021-08-24T09:12:10.743059",
     "status": "completed"
    },
    "tags": []
   },
   "source": [
    "# 2.\n",
    "\n",
    "A researcher has gathered thousands of news articles. But she wants to focus her attention on articles including a specific word. Complete the function below to help her filter her list of articles.\n",
    "\n",
    "Your function should meet the following criteria:\n",
    "\n",
    "- Do not include documents where the keyword string shows up only as a part of a larger word. For example, if she were looking for the keyword “closed”, you would not include the string “enclosed.” \n",
    "- She does not want you to distinguish upper case from lower case letters. So the phrase “Closed the case.” would be included when the keyword is “closed”\n",
    "- Do not let periods or commas affect what is matched. “It is closed.” would be included when the keyword is “closed”. But you can assume there are no other types of punctuation."
   ]
  },
  {
   "cell_type": "code",
   "execution_count": 9,
   "id": "b161a031",
   "metadata": {
    "execution": {
     "iopub.execute_input": "2021-08-24T09:12:10.815793Z",
     "iopub.status.busy": "2021-08-24T09:12:10.815156Z",
     "iopub.status.idle": "2021-08-24T09:12:10.825075Z",
     "shell.execute_reply": "2021-08-24T09:12:10.824431Z",
     "shell.execute_reply.started": "2021-08-24T09:03:21.905269Z"
    },
    "papermill": {
     "duration": 0.035829,
     "end_time": "2021-08-24T09:12:10.825211",
     "exception": false,
     "start_time": "2021-08-24T09:12:10.789382",
     "status": "completed"
    },
    "tags": []
   },
   "outputs": [
    {
     "data": {
      "application/javascript": [
       "parent.postMessage({\"jupyterEvent\": \"custom.exercise_interaction\", \"data\": {\"outcomeType\": 1, \"valueTowardsCompletion\": 0.3333333333333333, \"interactionType\": 1, \"questionType\": 2, \"questionId\": \"2_WordSearch\", \"learnToolsVersion\": \"0.3.4\", \"failureMessage\": \"\", \"exceptionClass\": \"\", \"trace\": \"\"}}, \"*\")"
      ],
      "text/plain": [
       "<IPython.core.display.Javascript object>"
      ]
     },
     "metadata": {},
     "output_type": "display_data"
    },
    {
     "data": {
      "text/markdown": [
       "<span style=\"color:#33cc33\">Correct</span>"
      ],
      "text/plain": [
       "Correct"
      ]
     },
     "metadata": {},
     "output_type": "display_data"
    }
   ],
   "source": [
    "def word_search(doc_list, keyword):\n",
    "    \"\"\"\n",
    "    Takes a list of documents (each document is a string) and a keyword. \n",
    "    Returns list of the index values into the original list for all documents \n",
    "    containing the keyword.\n",
    "\n",
    "    Example:\n",
    "    doc_list = [\"The Learn Python Challenge Casino.\", \"They bought a car\", \"Casinoville\"]\n",
    "    >>> word_search(doc_list, 'casino')\n",
    "    >>> [0]\n",
    "    \"\"\"\n",
    "    indices = []\n",
    "    keyword = keyword.lower()\n",
    "    for counter,doc in enumerate(doc_list):\n",
    "        doc = doc.lower()\n",
    "        doc = doc.replace(\".\",\"\")\n",
    "        doc = doc.replace(\",\",\"\")\n",
    "        doc_new = doc.split()\n",
    "        if keyword in doc_new:\n",
    "            indices.append(counter)\n",
    "        counter += 1\n",
    "    return indices\n",
    "\n",
    "# Check your answer\n",
    "q2.check()"
   ]
  },
  {
   "cell_type": "code",
   "execution_count": 10,
   "id": "80104403",
   "metadata": {
    "execution": {
     "iopub.execute_input": "2021-08-24T09:12:10.879751Z",
     "iopub.status.busy": "2021-08-24T09:12:10.878805Z",
     "iopub.status.idle": "2021-08-24T09:12:10.884580Z",
     "shell.execute_reply": "2021-08-24T09:12:10.883962Z",
     "shell.execute_reply.started": "2021-08-24T09:04:06.472549Z"
    },
    "papermill": {
     "duration": 0.034334,
     "end_time": "2021-08-24T09:12:10.884714",
     "exception": false,
     "start_time": "2021-08-24T09:12:10.850380",
     "status": "completed"
    },
    "tags": []
   },
   "outputs": [
    {
     "data": {
      "application/javascript": [
       "parent.postMessage({\"jupyterEvent\": \"custom.exercise_interaction\", \"data\": {\"interactionType\": 3, \"questionType\": 2, \"questionId\": \"2_WordSearch\", \"learnToolsVersion\": \"0.3.4\", \"valueTowardsCompletion\": 0.0, \"failureMessage\": \"\", \"exceptionClass\": \"\", \"trace\": \"\", \"outcomeType\": 4}}, \"*\")"
      ],
      "text/plain": [
       "<IPython.core.display.Javascript object>"
      ]
     },
     "metadata": {},
     "output_type": "display_data"
    },
    {
     "data": {
      "text/markdown": [
       "<span style=\"color:#33cc99\">Solution:</span> \n",
       "```python\n",
       "def word_search(documents, keyword):\n",
       "    # list to hold the indices of matching documents\n",
       "    indices = [] \n",
       "    # Iterate through the indices (i) and elements (doc) of documents\n",
       "    for i, doc in enumerate(documents):\n",
       "        # Split the string doc into a list of words (according to whitespace)\n",
       "        tokens = doc.split()\n",
       "        # Make a transformed list where we 'normalize' each word to facilitate matching.\n",
       "        # Periods and commas are removed from the end of each word, and it's set to all lowercase.\n",
       "        normalized = [token.rstrip('.,').lower() for token in tokens]\n",
       "        # Is there a match? If so, update the list of matching indices.\n",
       "        if keyword.lower() in normalized:\n",
       "            indices.append(i)\n",
       "    return indices\n",
       "```"
      ],
      "text/plain": [
       "Solution: \n",
       "```python\n",
       "def word_search(documents, keyword):\n",
       "    # list to hold the indices of matching documents\n",
       "    indices = [] \n",
       "    # Iterate through the indices (i) and elements (doc) of documents\n",
       "    for i, doc in enumerate(documents):\n",
       "        # Split the string doc into a list of words (according to whitespace)\n",
       "        tokens = doc.split()\n",
       "        # Make a transformed list where we 'normalize' each word to facilitate matching.\n",
       "        # Periods and commas are removed from the end of each word, and it's set to all lowercase.\n",
       "        normalized = [token.rstrip('.,').lower() for token in tokens]\n",
       "        # Is there a match? If so, update the list of matching indices.\n",
       "        if keyword.lower() in normalized:\n",
       "            indices.append(i)\n",
       "    return indices\n",
       "```"
      ]
     },
     "metadata": {},
     "output_type": "display_data"
    }
   ],
   "source": [
    "#q2.hint()\n",
    "q2.solution()"
   ]
  },
  {
   "cell_type": "markdown",
   "id": "f67ce1de",
   "metadata": {
    "papermill": {
     "duration": 0.024931,
     "end_time": "2021-08-24T09:12:10.934923",
     "exception": false,
     "start_time": "2021-08-24T09:12:10.909992",
     "status": "completed"
    },
    "tags": []
   },
   "source": [
    "# 3.\n",
    "\n",
    "Now the researcher wants to supply multiple keywords to search for. Complete the function below to help her.\n",
    "\n",
    "(You're encouraged to use the `word_search` function you just wrote when implementing this function. Reusing code in this way makes your programs more robust and readable - and it saves typing!)"
   ]
  },
  {
   "cell_type": "code",
   "execution_count": 11,
   "id": "53f1b844",
   "metadata": {
    "execution": {
     "iopub.execute_input": "2021-08-24T09:12:10.993048Z",
     "iopub.status.busy": "2021-08-24T09:12:10.992387Z",
     "iopub.status.idle": "2021-08-24T09:12:10.997999Z",
     "shell.execute_reply": "2021-08-24T09:12:10.997500Z",
     "shell.execute_reply.started": "2021-08-24T09:11:31.986622Z"
    },
    "papermill": {
     "duration": 0.037994,
     "end_time": "2021-08-24T09:12:10.998135",
     "exception": false,
     "start_time": "2021-08-24T09:12:10.960141",
     "status": "completed"
    },
    "tags": []
   },
   "outputs": [
    {
     "data": {
      "application/javascript": [
       "parent.postMessage({\"jupyterEvent\": \"custom.exercise_interaction\", \"data\": {\"outcomeType\": 1, \"valueTowardsCompletion\": 0.3333333333333333, \"interactionType\": 1, \"questionType\": 2, \"questionId\": \"3_MultiWordSearch\", \"learnToolsVersion\": \"0.3.4\", \"failureMessage\": \"\", \"exceptionClass\": \"\", \"trace\": \"\"}}, \"*\")"
      ],
      "text/plain": [
       "<IPython.core.display.Javascript object>"
      ]
     },
     "metadata": {},
     "output_type": "display_data"
    },
    {
     "data": {
      "text/markdown": [
       "<span style=\"color:#33cc33\">Correct</span>"
      ],
      "text/plain": [
       "Correct"
      ]
     },
     "metadata": {},
     "output_type": "display_data"
    }
   ],
   "source": [
    "def multi_word_search(doc_list, keywords):\n",
    "    \"\"\"\n",
    "    Takes list of documents (each document is a string) and a list of keywords.  \n",
    "    Returns a dictionary where each key is a keyword, and the value is a list of indices\n",
    "    (from doc_list) of the documents containing that keyword\n",
    "\n",
    "    >>> doc_list = [\"The Learn Python Challenge Casino.\", \"They bought a car and a casino\", \"Casinoville\"]\n",
    "    >>> keywords = ['casino', 'they']\n",
    "    >>> multi_word_search(doc_list, keywords)\n",
    "    {'casino': [0, 1], 'they': [1]}\n",
    "    \"\"\"\n",
    "    keyword_dict = {}\n",
    "    for keyword in keywords:\n",
    "        indices = word_search(doc_list, keyword)\n",
    "        keyword_dict[keyword] = indices \n",
    "    return keyword_dict\n",
    "# Check your answer\n",
    "q3.check()"
   ]
  },
  {
   "cell_type": "code",
   "execution_count": 12,
   "id": "f4529651",
   "metadata": {
    "execution": {
     "iopub.execute_input": "2021-08-24T09:12:11.054856Z",
     "iopub.status.busy": "2021-08-24T09:12:11.054166Z",
     "iopub.status.idle": "2021-08-24T09:12:11.057440Z",
     "shell.execute_reply": "2021-08-24T09:12:11.056886Z"
    },
    "papermill": {
     "duration": 0.033317,
     "end_time": "2021-08-24T09:12:11.057586",
     "exception": false,
     "start_time": "2021-08-24T09:12:11.024269",
     "status": "completed"
    },
    "tags": []
   },
   "outputs": [],
   "source": [
    "#q3.solution()"
   ]
  },
  {
   "cell_type": "markdown",
   "id": "44b31f5f",
   "metadata": {
    "papermill": {
     "duration": 0.026097,
     "end_time": "2021-08-24T09:12:11.110600",
     "exception": false,
     "start_time": "2021-08-24T09:12:11.084503",
     "status": "completed"
    },
    "tags": []
   },
   "source": [
    "# Keep Going\n",
    "\n",
    "You've learned a lot. But even the best programmers rely heavily on \"libraries\" of code from other programmers. You'll learn about that in **[the last lesson](https://www.kaggle.com/colinmorris/working-with-external-libraries)**.\n"
   ]
  },
  {
   "cell_type": "markdown",
   "id": "8452afc0",
   "metadata": {
    "papermill": {
     "duration": 0.02598,
     "end_time": "2021-08-24T09:12:11.162917",
     "exception": false,
     "start_time": "2021-08-24T09:12:11.136937",
     "status": "completed"
    },
    "tags": []
   },
   "source": [
    "---\n",
    "\n",
    "\n",
    "\n",
    "\n",
    "*Have questions or comments? Visit the [Learn Discussion forum](https://www.kaggle.com/learn-forum/161283) to chat with other Learners.*"
   ]
  }
 ],
 "metadata": {
  "kernelspec": {
   "display_name": "Python 3",
   "language": "python",
   "name": "python3"
  },
  "language_info": {
   "codemirror_mode": {
    "name": "ipython",
    "version": 3
   },
   "file_extension": ".py",
   "mimetype": "text/x-python",
   "name": "python",
   "nbconvert_exporter": "python",
   "pygments_lexer": "ipython3",
   "version": "3.7.10"
  },
  "papermill": {
   "default_parameters": {},
   "duration": 10.808544,
   "end_time": "2021-08-24T09:12:12.611003",
   "environment_variables": {},
   "exception": null,
   "input_path": "__notebook__.ipynb",
   "output_path": "__notebook__.ipynb",
   "parameters": {},
   "start_time": "2021-08-24T09:12:01.802459",
   "version": "2.3.3"
  }
 },
 "nbformat": 4,
 "nbformat_minor": 5
}
