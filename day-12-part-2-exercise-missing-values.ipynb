{
 "cells": [
  {
   "cell_type": "markdown",
   "id": "26d14787",
   "metadata": {
    "papermill": {
     "duration": 0.030468,
     "end_time": "2021-08-27T14:01:25.317197",
     "exception": false,
     "start_time": "2021-08-27T14:01:25.286729",
     "status": "completed"
    },
    "tags": []
   },
   "source": [
    "**This notebook is an exercise in the [Intermediate Machine Learning](https://www.kaggle.com/learn/intermediate-machine-learning) course.  You can reference the tutorial at [this link](https://www.kaggle.com/alexisbcook/missing-values).**\n",
    "\n",
    "---\n"
   ]
  },
  {
   "cell_type": "markdown",
   "id": "ba72ccc0",
   "metadata": {
    "papermill": {
     "duration": 0.029208,
     "end_time": "2021-08-27T14:01:25.376057",
     "exception": false,
     "start_time": "2021-08-27T14:01:25.346849",
     "status": "completed"
    },
    "tags": []
   },
   "source": [
    "Now it's your turn to test your new knowledge of **missing values** handling. You'll probably find it makes a big difference.\n",
    "\n",
    "# Setup\n",
    "\n",
    "The questions will give you feedback on your work. Run the following cell to set up the feedback system."
   ]
  },
  {
   "cell_type": "code",
   "execution_count": 1,
   "id": "4b9a3e66",
   "metadata": {
    "execution": {
     "iopub.execute_input": "2021-08-27T14:01:25.447511Z",
     "iopub.status.busy": "2021-08-27T14:01:25.446803Z",
     "iopub.status.idle": "2021-08-27T14:01:25.572382Z",
     "shell.execute_reply": "2021-08-27T14:01:25.571330Z",
     "shell.execute_reply.started": "2021-08-27T13:47:26.245188Z"
    },
    "papermill": {
     "duration": 0.166287,
     "end_time": "2021-08-27T14:01:25.572621",
     "exception": false,
     "start_time": "2021-08-27T14:01:25.406334",
     "status": "completed"
    },
    "tags": []
   },
   "outputs": [
    {
     "name": "stdout",
     "output_type": "stream",
     "text": [
      "Setup Complete\n"
     ]
    }
   ],
   "source": [
    "# Set up code checking\n",
    "import os\n",
    "if not os.path.exists(\"../input/train.csv\"):\n",
    "    os.symlink(\"../input/home-data-for-ml-course/train.csv\", \"../input/train.csv\")  \n",
    "    os.symlink(\"../input/home-data-for-ml-course/test.csv\", \"../input/test.csv\") \n",
    "from learntools.core import binder\n",
    "binder.bind(globals())\n",
    "from learntools.ml_intermediate.ex2 import *\n",
    "print(\"Setup Complete\")"
   ]
  },
  {
   "cell_type": "markdown",
   "id": "a1be86d1",
   "metadata": {
    "papermill": {
     "duration": 0.039288,
     "end_time": "2021-08-27T14:01:25.643872",
     "exception": false,
     "start_time": "2021-08-27T14:01:25.604584",
     "status": "completed"
    },
    "tags": []
   },
   "source": [
    "In this exercise, you will work with data from the [Housing Prices Competition for Kaggle Learn Users](https://www.kaggle.com/c/home-data-for-ml-course). \n",
    "\n",
    "![Ames Housing dataset image](https://i.imgur.com/lTJVG4e.png)\n",
    "\n",
    "Run the next code cell without changes to load the training and validation sets in `X_train`, `X_valid`, `y_train`, and `y_valid`.  The test set is loaded in `X_test`."
   ]
  },
  {
   "cell_type": "code",
   "execution_count": 2,
   "id": "f9a1dab0",
   "metadata": {
    "execution": {
     "iopub.execute_input": "2021-08-27T14:01:25.724856Z",
     "iopub.status.busy": "2021-08-27T14:01:25.724159Z",
     "iopub.status.idle": "2021-08-27T14:01:26.751826Z",
     "shell.execute_reply": "2021-08-27T14:01:26.751275Z",
     "shell.execute_reply.started": "2021-08-27T13:47:26.359606Z"
    },
    "papermill": {
     "duration": 1.068609,
     "end_time": "2021-08-27T14:01:26.751978",
     "exception": false,
     "start_time": "2021-08-27T14:01:25.683369",
     "status": "completed"
    },
    "tags": []
   },
   "outputs": [],
   "source": [
    "import pandas as pd\n",
    "from sklearn.model_selection import train_test_split\n",
    "\n",
    "# Read the data\n",
    "X_full = pd.read_csv('../input/train.csv', index_col='Id')\n",
    "X_test_full = pd.read_csv('../input/test.csv', index_col='Id')\n",
    "\n",
    "# Remove rows with missing target, separate target from predictors\n",
    "X_full.dropna(axis=0, subset=['SalePrice'], inplace=True)\n",
    "y = X_full.SalePrice\n",
    "X_full.drop(['SalePrice'], axis=1, inplace=True)\n",
    "\n",
    "# To keep things simple, we'll use only numerical predictors\n",
    "X = X_full.select_dtypes(exclude=['object'])\n",
    "X_test = X_test_full.select_dtypes(exclude=['object'])\n",
    "\n",
    "# Break off validation set from training data\n",
    "X_train, X_valid, y_train, y_valid = train_test_split(X, y, train_size=0.8, test_size=0.2,\n",
    "                                                      random_state=0)"
   ]
  },
  {
   "cell_type": "markdown",
   "id": "03bc7690",
   "metadata": {
    "papermill": {
     "duration": 0.029717,
     "end_time": "2021-08-27T14:01:26.810974",
     "exception": false,
     "start_time": "2021-08-27T14:01:26.781257",
     "status": "completed"
    },
    "tags": []
   },
   "source": [
    "Use the next code cell to print the first five rows of the data."
   ]
  },
  {
   "cell_type": "code",
   "execution_count": 3,
   "id": "d803af8e",
   "metadata": {
    "execution": {
     "iopub.execute_input": "2021-08-27T14:01:26.878772Z",
     "iopub.status.busy": "2021-08-27T14:01:26.878024Z",
     "iopub.status.idle": "2021-08-27T14:01:26.904404Z",
     "shell.execute_reply": "2021-08-27T14:01:26.904943Z",
     "shell.execute_reply.started": "2021-08-27T13:47:27.507769Z"
    },
    "papermill": {
     "duration": 0.065149,
     "end_time": "2021-08-27T14:01:26.905107",
     "exception": false,
     "start_time": "2021-08-27T14:01:26.839958",
     "status": "completed"
    },
    "tags": []
   },
   "outputs": [
    {
     "data": {
      "text/html": [
       "<div>\n",
       "<style scoped>\n",
       "    .dataframe tbody tr th:only-of-type {\n",
       "        vertical-align: middle;\n",
       "    }\n",
       "\n",
       "    .dataframe tbody tr th {\n",
       "        vertical-align: top;\n",
       "    }\n",
       "\n",
       "    .dataframe thead th {\n",
       "        text-align: right;\n",
       "    }\n",
       "</style>\n",
       "<table border=\"1\" class=\"dataframe\">\n",
       "  <thead>\n",
       "    <tr style=\"text-align: right;\">\n",
       "      <th></th>\n",
       "      <th>MSSubClass</th>\n",
       "      <th>LotFrontage</th>\n",
       "      <th>LotArea</th>\n",
       "      <th>OverallQual</th>\n",
       "      <th>OverallCond</th>\n",
       "      <th>YearBuilt</th>\n",
       "      <th>YearRemodAdd</th>\n",
       "      <th>MasVnrArea</th>\n",
       "      <th>BsmtFinSF1</th>\n",
       "      <th>BsmtFinSF2</th>\n",
       "      <th>...</th>\n",
       "      <th>GarageArea</th>\n",
       "      <th>WoodDeckSF</th>\n",
       "      <th>OpenPorchSF</th>\n",
       "      <th>EnclosedPorch</th>\n",
       "      <th>3SsnPorch</th>\n",
       "      <th>ScreenPorch</th>\n",
       "      <th>PoolArea</th>\n",
       "      <th>MiscVal</th>\n",
       "      <th>MoSold</th>\n",
       "      <th>YrSold</th>\n",
       "    </tr>\n",
       "    <tr>\n",
       "      <th>Id</th>\n",
       "      <th></th>\n",
       "      <th></th>\n",
       "      <th></th>\n",
       "      <th></th>\n",
       "      <th></th>\n",
       "      <th></th>\n",
       "      <th></th>\n",
       "      <th></th>\n",
       "      <th></th>\n",
       "      <th></th>\n",
       "      <th></th>\n",
       "      <th></th>\n",
       "      <th></th>\n",
       "      <th></th>\n",
       "      <th></th>\n",
       "      <th></th>\n",
       "      <th></th>\n",
       "      <th></th>\n",
       "      <th></th>\n",
       "      <th></th>\n",
       "      <th></th>\n",
       "    </tr>\n",
       "  </thead>\n",
       "  <tbody>\n",
       "    <tr>\n",
       "      <th>619</th>\n",
       "      <td>20</td>\n",
       "      <td>90.0</td>\n",
       "      <td>11694</td>\n",
       "      <td>9</td>\n",
       "      <td>5</td>\n",
       "      <td>2007</td>\n",
       "      <td>2007</td>\n",
       "      <td>452.0</td>\n",
       "      <td>48</td>\n",
       "      <td>0</td>\n",
       "      <td>...</td>\n",
       "      <td>774</td>\n",
       "      <td>0</td>\n",
       "      <td>108</td>\n",
       "      <td>0</td>\n",
       "      <td>0</td>\n",
       "      <td>260</td>\n",
       "      <td>0</td>\n",
       "      <td>0</td>\n",
       "      <td>7</td>\n",
       "      <td>2007</td>\n",
       "    </tr>\n",
       "    <tr>\n",
       "      <th>871</th>\n",
       "      <td>20</td>\n",
       "      <td>60.0</td>\n",
       "      <td>6600</td>\n",
       "      <td>5</td>\n",
       "      <td>5</td>\n",
       "      <td>1962</td>\n",
       "      <td>1962</td>\n",
       "      <td>0.0</td>\n",
       "      <td>0</td>\n",
       "      <td>0</td>\n",
       "      <td>...</td>\n",
       "      <td>308</td>\n",
       "      <td>0</td>\n",
       "      <td>0</td>\n",
       "      <td>0</td>\n",
       "      <td>0</td>\n",
       "      <td>0</td>\n",
       "      <td>0</td>\n",
       "      <td>0</td>\n",
       "      <td>8</td>\n",
       "      <td>2009</td>\n",
       "    </tr>\n",
       "    <tr>\n",
       "      <th>93</th>\n",
       "      <td>30</td>\n",
       "      <td>80.0</td>\n",
       "      <td>13360</td>\n",
       "      <td>5</td>\n",
       "      <td>7</td>\n",
       "      <td>1921</td>\n",
       "      <td>2006</td>\n",
       "      <td>0.0</td>\n",
       "      <td>713</td>\n",
       "      <td>0</td>\n",
       "      <td>...</td>\n",
       "      <td>432</td>\n",
       "      <td>0</td>\n",
       "      <td>0</td>\n",
       "      <td>44</td>\n",
       "      <td>0</td>\n",
       "      <td>0</td>\n",
       "      <td>0</td>\n",
       "      <td>0</td>\n",
       "      <td>8</td>\n",
       "      <td>2009</td>\n",
       "    </tr>\n",
       "    <tr>\n",
       "      <th>818</th>\n",
       "      <td>20</td>\n",
       "      <td>NaN</td>\n",
       "      <td>13265</td>\n",
       "      <td>8</td>\n",
       "      <td>5</td>\n",
       "      <td>2002</td>\n",
       "      <td>2002</td>\n",
       "      <td>148.0</td>\n",
       "      <td>1218</td>\n",
       "      <td>0</td>\n",
       "      <td>...</td>\n",
       "      <td>857</td>\n",
       "      <td>150</td>\n",
       "      <td>59</td>\n",
       "      <td>0</td>\n",
       "      <td>0</td>\n",
       "      <td>0</td>\n",
       "      <td>0</td>\n",
       "      <td>0</td>\n",
       "      <td>7</td>\n",
       "      <td>2008</td>\n",
       "    </tr>\n",
       "    <tr>\n",
       "      <th>303</th>\n",
       "      <td>20</td>\n",
       "      <td>118.0</td>\n",
       "      <td>13704</td>\n",
       "      <td>7</td>\n",
       "      <td>5</td>\n",
       "      <td>2001</td>\n",
       "      <td>2002</td>\n",
       "      <td>150.0</td>\n",
       "      <td>0</td>\n",
       "      <td>0</td>\n",
       "      <td>...</td>\n",
       "      <td>843</td>\n",
       "      <td>468</td>\n",
       "      <td>81</td>\n",
       "      <td>0</td>\n",
       "      <td>0</td>\n",
       "      <td>0</td>\n",
       "      <td>0</td>\n",
       "      <td>0</td>\n",
       "      <td>1</td>\n",
       "      <td>2006</td>\n",
       "    </tr>\n",
       "  </tbody>\n",
       "</table>\n",
       "<p>5 rows × 36 columns</p>\n",
       "</div>"
      ],
      "text/plain": [
       "     MSSubClass  LotFrontage  LotArea  OverallQual  OverallCond  YearBuilt  \\\n",
       "Id                                                                           \n",
       "619          20         90.0    11694            9            5       2007   \n",
       "871          20         60.0     6600            5            5       1962   \n",
       "93           30         80.0    13360            5            7       1921   \n",
       "818          20          NaN    13265            8            5       2002   \n",
       "303          20        118.0    13704            7            5       2001   \n",
       "\n",
       "     YearRemodAdd  MasVnrArea  BsmtFinSF1  BsmtFinSF2  ...  GarageArea  \\\n",
       "Id                                                     ...               \n",
       "619          2007       452.0          48           0  ...         774   \n",
       "871          1962         0.0           0           0  ...         308   \n",
       "93           2006         0.0         713           0  ...         432   \n",
       "818          2002       148.0        1218           0  ...         857   \n",
       "303          2002       150.0           0           0  ...         843   \n",
       "\n",
       "     WoodDeckSF  OpenPorchSF  EnclosedPorch  3SsnPorch  ScreenPorch  PoolArea  \\\n",
       "Id                                                                              \n",
       "619           0          108              0          0          260         0   \n",
       "871           0            0              0          0            0         0   \n",
       "93            0            0             44          0            0         0   \n",
       "818         150           59              0          0            0         0   \n",
       "303         468           81              0          0            0         0   \n",
       "\n",
       "     MiscVal  MoSold  YrSold  \n",
       "Id                            \n",
       "619        0       7    2007  \n",
       "871        0       8    2009  \n",
       "93         0       8    2009  \n",
       "818        0       7    2008  \n",
       "303        0       1    2006  \n",
       "\n",
       "[5 rows x 36 columns]"
      ]
     },
     "execution_count": 3,
     "metadata": {},
     "output_type": "execute_result"
    }
   ],
   "source": [
    "X_train.head()"
   ]
  },
  {
   "cell_type": "markdown",
   "id": "b37b5fb7",
   "metadata": {
    "papermill": {
     "duration": 0.029502,
     "end_time": "2021-08-27T14:01:26.965215",
     "exception": false,
     "start_time": "2021-08-27T14:01:26.935713",
     "status": "completed"
    },
    "tags": []
   },
   "source": [
    "You can already see a few missing values in the first several rows.  In the next step, you'll obtain a more comprehensive understanding of the missing values in the dataset.\n",
    "\n",
    "# Step 1: Preliminary investigation\n",
    "\n",
    "Run the code cell below without changes."
   ]
  },
  {
   "cell_type": "code",
   "execution_count": 4,
   "id": "48aff835",
   "metadata": {
    "execution": {
     "iopub.execute_input": "2021-08-27T14:01:27.032965Z",
     "iopub.status.busy": "2021-08-27T14:01:27.032297Z",
     "iopub.status.idle": "2021-08-27T14:01:27.036988Z",
     "shell.execute_reply": "2021-08-27T14:01:27.037809Z",
     "shell.execute_reply.started": "2021-08-27T13:47:30.012337Z"
    },
    "papermill": {
     "duration": 0.043169,
     "end_time": "2021-08-27T14:01:27.038055",
     "exception": false,
     "start_time": "2021-08-27T14:01:26.994886",
     "status": "completed"
    },
    "tags": []
   },
   "outputs": [
    {
     "name": "stdout",
     "output_type": "stream",
     "text": [
      "(1168, 36)\n",
      "LotFrontage    212\n",
      "MasVnrArea       6\n",
      "GarageYrBlt     58\n",
      "dtype: int64\n"
     ]
    }
   ],
   "source": [
    "# Shape of training data (num_rows, num_columns)\n",
    "print(X_train.shape)\n",
    "\n",
    "# Number of missing values in each column of training data\n",
    "missing_val_count_by_column = (X_train.isnull().sum())\n",
    "print(missing_val_count_by_column[missing_val_count_by_column > 0])"
   ]
  },
  {
   "cell_type": "markdown",
   "id": "13c1f7a7",
   "metadata": {
    "papermill": {
     "duration": 0.030071,
     "end_time": "2021-08-27T14:01:27.099757",
     "exception": false,
     "start_time": "2021-08-27T14:01:27.069686",
     "status": "completed"
    },
    "tags": []
   },
   "source": [
    "### Part A\n",
    "\n",
    "Use the above output to answer the questions below."
   ]
  },
  {
   "cell_type": "code",
   "execution_count": 5,
   "id": "f53738a7",
   "metadata": {
    "execution": {
     "iopub.execute_input": "2021-08-27T14:01:27.168782Z",
     "iopub.status.busy": "2021-08-27T14:01:27.167677Z",
     "iopub.status.idle": "2021-08-27T14:01:27.175207Z",
     "shell.execute_reply": "2021-08-27T14:01:27.174522Z",
     "shell.execute_reply.started": "2021-08-27T13:47:32.136272Z"
    },
    "papermill": {
     "duration": 0.04522,
     "end_time": "2021-08-27T14:01:27.175348",
     "exception": false,
     "start_time": "2021-08-27T14:01:27.130128",
     "status": "completed"
    },
    "tags": []
   },
   "outputs": [
    {
     "data": {
      "application/javascript": [
       "parent.postMessage({\"jupyterEvent\": \"custom.exercise_interaction\", \"data\": {\"outcomeType\": 1, \"valueTowardsCompletion\": 1.0, \"interactionType\": 1, \"questionType\": 1, \"questionId\": \"1.1_InvestigateEquality\", \"learnToolsVersion\": \"0.3.4\", \"failureMessage\": \"\", \"exceptionClass\": \"\", \"trace\": \"\"}}, \"*\")"
      ],
      "text/plain": [
       "<IPython.core.display.Javascript object>"
      ]
     },
     "metadata": {},
     "output_type": "display_data"
    },
    {
     "data": {
      "text/markdown": [
       "<span style=\"color:#33cc33\">Correct</span>"
      ],
      "text/plain": [
       "Correct"
      ]
     },
     "metadata": {},
     "output_type": "display_data"
    }
   ],
   "source": [
    "# Fill in the line below: How many rows are in the training data?\n",
    "num_rows = X_train.shape[0]\n",
    "\n",
    "# Fill in the line below: How many columns in the training data\n",
    "# have missing values?\n",
    "num_cols_with_missing = len(missing_val_count_by_column[missing_val_count_by_column > 0])\n",
    "\n",
    "# Fill in the line below: How many missing entries are contained in \n",
    "# all of the training data?\n",
    "tot_missing = sum(missing_val_count_by_column.values)\n",
    "\n",
    "# Check your answers\n",
    "step_1.a.check()"
   ]
  },
  {
   "cell_type": "code",
   "execution_count": 6,
   "id": "cb95425c",
   "metadata": {
    "execution": {
     "iopub.execute_input": "2021-08-27T14:01:27.242485Z",
     "iopub.status.busy": "2021-08-27T14:01:27.241824Z",
     "iopub.status.idle": "2021-08-27T14:01:27.244945Z",
     "shell.execute_reply": "2021-08-27T14:01:27.244301Z"
    },
    "papermill": {
     "duration": 0.038132,
     "end_time": "2021-08-27T14:01:27.245079",
     "exception": false,
     "start_time": "2021-08-27T14:01:27.206947",
     "status": "completed"
    },
    "tags": []
   },
   "outputs": [],
   "source": [
    "# Lines below will give you a hint or solution code\n",
    "#step_1.a.hint()\n",
    "#step_1.a.solution()"
   ]
  },
  {
   "cell_type": "markdown",
   "id": "14a30555",
   "metadata": {
    "papermill": {
     "duration": 0.031085,
     "end_time": "2021-08-27T14:01:27.307523",
     "exception": false,
     "start_time": "2021-08-27T14:01:27.276438",
     "status": "completed"
    },
    "tags": []
   },
   "source": [
    "### Part B\n",
    "Considering your answers above, what do you think is likely the best approach to dealing with the missing values?"
   ]
  },
  {
   "cell_type": "code",
   "execution_count": 7,
   "id": "ccfaba93",
   "metadata": {
    "execution": {
     "iopub.execute_input": "2021-08-27T14:01:27.375690Z",
     "iopub.status.busy": "2021-08-27T14:01:27.374983Z",
     "iopub.status.idle": "2021-08-27T14:01:27.380843Z",
     "shell.execute_reply": "2021-08-27T14:01:27.381498Z",
     "shell.execute_reply.started": "2021-08-27T13:47:34.671728Z"
    },
    "papermill": {
     "duration": 0.043177,
     "end_time": "2021-08-27T14:01:27.381704",
     "exception": false,
     "start_time": "2021-08-27T14:01:27.338527",
     "status": "completed"
    },
    "tags": []
   },
   "outputs": [
    {
     "data": {
      "application/javascript": [
       "parent.postMessage({\"jupyterEvent\": \"custom.exercise_interaction\", \"data\": {\"outcomeType\": 1, \"valueTowardsCompletion\": 1.0, \"interactionType\": 1, \"questionType\": 4, \"questionId\": \"1.2_InvestigateThought\", \"learnToolsVersion\": \"0.3.4\", \"failureMessage\": \"\", \"exceptionClass\": \"\", \"trace\": \"\"}}, \"*\")"
      ],
      "text/plain": [
       "<IPython.core.display.Javascript object>"
      ]
     },
     "metadata": {},
     "output_type": "display_data"
    },
    {
     "data": {
      "text/markdown": [
       "<span style=\"color:#33cc33\">Correct:</span> \n",
       "\n",
       "Since there are relatively few missing entries in the data (the column with the greatest percentage of missing values is missing less than 20% of its entries), we can expect that dropping columns is unlikely to yield good results.  This is because we'd be throwing away a lot of valuable data, and so imputation will likely perform better."
      ],
      "text/plain": [
       "Correct: \n",
       "\n",
       "Since there are relatively few missing entries in the data (the column with the greatest percentage of missing values is missing less than 20% of its entries), we can expect that dropping columns is unlikely to yield good results.  This is because we'd be throwing away a lot of valuable data, and so imputation will likely perform better."
      ]
     },
     "metadata": {},
     "output_type": "display_data"
    }
   ],
   "source": [
    "# Check your answer (Run this code cell to receive credit!)\n",
    "step_1.b.check()"
   ]
  },
  {
   "cell_type": "code",
   "execution_count": 8,
   "id": "af6d8f2d",
   "metadata": {
    "execution": {
     "iopub.execute_input": "2021-08-27T14:01:27.453332Z",
     "iopub.status.busy": "2021-08-27T14:01:27.452560Z",
     "iopub.status.idle": "2021-08-27T14:01:27.455579Z",
     "shell.execute_reply": "2021-08-27T14:01:27.455005Z"
    },
    "papermill": {
     "duration": 0.040656,
     "end_time": "2021-08-27T14:01:27.455717",
     "exception": false,
     "start_time": "2021-08-27T14:01:27.415061",
     "status": "completed"
    },
    "tags": []
   },
   "outputs": [],
   "source": [
    "#step_1.b.hint()"
   ]
  },
  {
   "cell_type": "markdown",
   "id": "65b8ffd7",
   "metadata": {
    "papermill": {
     "duration": 0.032998,
     "end_time": "2021-08-27T14:01:27.521975",
     "exception": false,
     "start_time": "2021-08-27T14:01:27.488977",
     "status": "completed"
    },
    "tags": []
   },
   "source": [
    "To compare different approaches to dealing with missing values, you'll use the same `score_dataset()` function from the tutorial.  This function reports the [mean absolute error](https://en.wikipedia.org/wiki/Mean_absolute_error) (MAE) from a random forest model."
   ]
  },
  {
   "cell_type": "code",
   "execution_count": 9,
   "id": "c2ea46d1",
   "metadata": {
    "execution": {
     "iopub.execute_input": "2021-08-27T14:01:27.593739Z",
     "iopub.status.busy": "2021-08-27T14:01:27.593068Z",
     "iopub.status.idle": "2021-08-27T14:01:27.770942Z",
     "shell.execute_reply": "2021-08-27T14:01:27.770335Z",
     "shell.execute_reply.started": "2021-08-27T13:47:36.809494Z"
    },
    "papermill": {
     "duration": 0.216259,
     "end_time": "2021-08-27T14:01:27.771093",
     "exception": false,
     "start_time": "2021-08-27T14:01:27.554834",
     "status": "completed"
    },
    "tags": []
   },
   "outputs": [],
   "source": [
    "from sklearn.ensemble import RandomForestRegressor\n",
    "from sklearn.metrics import mean_absolute_error\n",
    "\n",
    "# Function for comparing different approaches\n",
    "def score_dataset(X_train, X_valid, y_train, y_valid):\n",
    "    model = RandomForestRegressor(n_estimators=100, random_state=0)\n",
    "    model.fit(X_train, y_train)\n",
    "    preds = model.predict(X_valid)\n",
    "    return mean_absolute_error(y_valid, preds)"
   ]
  },
  {
   "cell_type": "markdown",
   "id": "b2f23b00",
   "metadata": {
    "papermill": {
     "duration": 0.033193,
     "end_time": "2021-08-27T14:01:27.838673",
     "exception": false,
     "start_time": "2021-08-27T14:01:27.805480",
     "status": "completed"
    },
    "tags": []
   },
   "source": [
    "# Step 2: Drop columns with missing values\n",
    "\n",
    "In this step, you'll preprocess the data in `X_train` and `X_valid` to remove columns with missing values.  Set the preprocessed DataFrames to `reduced_X_train` and `reduced_X_valid`, respectively.  "
   ]
  },
  {
   "cell_type": "code",
   "execution_count": 10,
   "id": "49dd2d92",
   "metadata": {
    "execution": {
     "iopub.execute_input": "2021-08-27T14:01:27.939374Z",
     "iopub.status.busy": "2021-08-27T14:01:27.938284Z",
     "iopub.status.idle": "2021-08-27T14:01:27.945416Z",
     "shell.execute_reply": "2021-08-27T14:01:27.944720Z",
     "shell.execute_reply.started": "2021-08-27T13:47:38.739535Z"
    },
    "papermill": {
     "duration": 0.073347,
     "end_time": "2021-08-27T14:01:27.945562",
     "exception": false,
     "start_time": "2021-08-27T14:01:27.872215",
     "status": "completed"
    },
    "tags": []
   },
   "outputs": [
    {
     "data": {
      "application/javascript": [
       "parent.postMessage({\"jupyterEvent\": \"custom.exercise_interaction\", \"data\": {\"outcomeType\": 1, \"valueTowardsCompletion\": 1.0, \"interactionType\": 1, \"questionType\": 2, \"questionId\": \"2_DropMissing\", \"learnToolsVersion\": \"0.3.4\", \"failureMessage\": \"\", \"exceptionClass\": \"\", \"trace\": \"\"}}, \"*\")"
      ],
      "text/plain": [
       "<IPython.core.display.Javascript object>"
      ]
     },
     "metadata": {},
     "output_type": "display_data"
    },
    {
     "data": {
      "text/markdown": [
       "<span style=\"color:#33cc33\">Correct</span>"
      ],
      "text/plain": [
       "Correct"
      ]
     },
     "metadata": {},
     "output_type": "display_data"
    }
   ],
   "source": [
    "# Fill in the line below: get names of columns with missing values\n",
    "missing_value_cols = [cols for cols in X_train.columns if X_train[cols].isnull().any()] # Your code here\n",
    "\n",
    "# Fill in the lines below: drop columns in training and validation data\n",
    "reduced_X_train = X_train.drop(missing_value_cols, axis=1)\n",
    "reduced_X_valid = X_valid.drop(missing_value_cols, axis=1)\n",
    "\n",
    "# Check your answers\n",
    "step_2.check()"
   ]
  },
  {
   "cell_type": "code",
   "execution_count": 11,
   "id": "b9ddf044",
   "metadata": {
    "execution": {
     "iopub.execute_input": "2021-08-27T14:01:28.017980Z",
     "iopub.status.busy": "2021-08-27T14:01:28.017123Z",
     "iopub.status.idle": "2021-08-27T14:01:28.020478Z",
     "shell.execute_reply": "2021-08-27T14:01:28.019759Z"
    },
    "papermill": {
     "duration": 0.041099,
     "end_time": "2021-08-27T14:01:28.020635",
     "exception": false,
     "start_time": "2021-08-27T14:01:27.979536",
     "status": "completed"
    },
    "tags": []
   },
   "outputs": [],
   "source": [
    "# Lines below will give you a hint or solution code\n",
    "#step_2.hint()\n",
    "#step_2.solution()"
   ]
  },
  {
   "cell_type": "markdown",
   "id": "e136b2c4",
   "metadata": {
    "papermill": {
     "duration": 0.034099,
     "end_time": "2021-08-27T14:01:28.089963",
     "exception": false,
     "start_time": "2021-08-27T14:01:28.055864",
     "status": "completed"
    },
    "tags": []
   },
   "source": [
    "Run the next code cell without changes to obtain the MAE for this approach."
   ]
  },
  {
   "cell_type": "code",
   "execution_count": 12,
   "id": "2f698a21",
   "metadata": {
    "execution": {
     "iopub.execute_input": "2021-08-27T14:01:28.165228Z",
     "iopub.status.busy": "2021-08-27T14:01:28.164515Z",
     "iopub.status.idle": "2021-08-27T14:01:29.283694Z",
     "shell.execute_reply": "2021-08-27T14:01:29.284266Z",
     "shell.execute_reply.started": "2021-08-27T13:47:41.915595Z"
    },
    "papermill": {
     "duration": 1.160548,
     "end_time": "2021-08-27T14:01:29.284445",
     "exception": false,
     "start_time": "2021-08-27T14:01:28.123897",
     "status": "completed"
    },
    "tags": []
   },
   "outputs": [
    {
     "name": "stdout",
     "output_type": "stream",
     "text": [
      "MAE (Drop columns with missing values):\n",
      "17837.82570776256\n"
     ]
    }
   ],
   "source": [
    "print(\"MAE (Drop columns with missing values):\")\n",
    "print(score_dataset(reduced_X_train, reduced_X_valid, y_train, y_valid))"
   ]
  },
  {
   "cell_type": "markdown",
   "id": "3b8a864e",
   "metadata": {
    "papermill": {
     "duration": 0.034142,
     "end_time": "2021-08-27T14:01:29.353449",
     "exception": false,
     "start_time": "2021-08-27T14:01:29.319307",
     "status": "completed"
    },
    "tags": []
   },
   "source": [
    "# Step 3: Imputation\n",
    "\n",
    "### Part A\n",
    "\n",
    "Use the next code cell to impute missing values with the mean value along each column.  Set the preprocessed DataFrames to `imputed_X_train` and `imputed_X_valid`.  Make sure that the column names match those in `X_train` and `X_valid`."
   ]
  },
  {
   "cell_type": "code",
   "execution_count": 13,
   "id": "df076f3b",
   "metadata": {
    "execution": {
     "iopub.execute_input": "2021-08-27T14:01:29.428732Z",
     "iopub.status.busy": "2021-08-27T14:01:29.427943Z",
     "iopub.status.idle": "2021-08-27T14:01:29.468262Z",
     "shell.execute_reply": "2021-08-27T14:01:29.467524Z",
     "shell.execute_reply.started": "2021-08-27T13:50:01.770086Z"
    },
    "papermill": {
     "duration": 0.080653,
     "end_time": "2021-08-27T14:01:29.468419",
     "exception": false,
     "start_time": "2021-08-27T14:01:29.387766",
     "status": "completed"
    },
    "tags": []
   },
   "outputs": [
    {
     "data": {
      "application/javascript": [
       "parent.postMessage({\"jupyterEvent\": \"custom.exercise_interaction\", \"data\": {\"outcomeType\": 1, \"valueTowardsCompletion\": 1.0, \"interactionType\": 1, \"questionType\": 2, \"questionId\": \"3.1_ImputeCode\", \"learnToolsVersion\": \"0.3.4\", \"failureMessage\": \"\", \"exceptionClass\": \"\", \"trace\": \"\"}}, \"*\")"
      ],
      "text/plain": [
       "<IPython.core.display.Javascript object>"
      ]
     },
     "metadata": {},
     "output_type": "display_data"
    },
    {
     "data": {
      "text/markdown": [
       "<span style=\"color:#33cc33\">Correct</span>"
      ],
      "text/plain": [
       "Correct"
      ]
     },
     "metadata": {},
     "output_type": "display_data"
    }
   ],
   "source": [
    "from sklearn.impute import SimpleImputer\n",
    "\n",
    "# Fill in the lines below: imputation\n",
    "imp = SimpleImputer() # Your code here\n",
    "\n",
    "X_train_temp = X_train.copy()\n",
    "X_valid_temp = X_valid.copy()\n",
    "\n",
    "imp.fit(X_train_temp)\n",
    "\n",
    "imputed_X_train = imp.transform(X_train_temp)\n",
    "imputed_X_valid = imp.transform(X_valid_temp)\n",
    "\n",
    "# Fill in the lines below: imputation removed column names; put them back\n",
    "imputed_X_train = pd.DataFrame(imputed_X_train, columns=X_train.columns)\n",
    "imputed_X_valid = pd.DataFrame(imputed_X_valid, columns=X_train.columns)\n",
    "\n",
    "# Check your answers\n",
    "step_3.a.check()"
   ]
  },
  {
   "cell_type": "code",
   "execution_count": 14,
   "id": "0dbca62a",
   "metadata": {
    "execution": {
     "iopub.execute_input": "2021-08-27T14:01:29.545203Z",
     "iopub.status.busy": "2021-08-27T14:01:29.544526Z",
     "iopub.status.idle": "2021-08-27T14:01:29.547545Z",
     "shell.execute_reply": "2021-08-27T14:01:29.548047Z"
    },
    "papermill": {
     "duration": 0.043112,
     "end_time": "2021-08-27T14:01:29.548232",
     "exception": false,
     "start_time": "2021-08-27T14:01:29.505120",
     "status": "completed"
    },
    "tags": []
   },
   "outputs": [],
   "source": [
    "# Lines below will give you a hint or solution code\n",
    "#step_3.a.hint()\n",
    "#step_3.a.solution()"
   ]
  },
  {
   "cell_type": "markdown",
   "id": "b66ac931",
   "metadata": {
    "papermill": {
     "duration": 0.036429,
     "end_time": "2021-08-27T14:01:29.621301",
     "exception": false,
     "start_time": "2021-08-27T14:01:29.584872",
     "status": "completed"
    },
    "tags": []
   },
   "source": [
    "Run the next code cell without changes to obtain the MAE for this approach."
   ]
  },
  {
   "cell_type": "code",
   "execution_count": 15,
   "id": "3edf42e0",
   "metadata": {
    "execution": {
     "iopub.execute_input": "2021-08-27T14:01:29.697586Z",
     "iopub.status.busy": "2021-08-27T14:01:29.696870Z",
     "iopub.status.idle": "2021-08-27T14:01:30.928279Z",
     "shell.execute_reply": "2021-08-27T14:01:30.928808Z",
     "shell.execute_reply.started": "2021-08-27T13:50:04.847283Z"
    },
    "papermill": {
     "duration": 1.271414,
     "end_time": "2021-08-27T14:01:30.929000",
     "exception": false,
     "start_time": "2021-08-27T14:01:29.657586",
     "status": "completed"
    },
    "tags": []
   },
   "outputs": [
    {
     "name": "stdout",
     "output_type": "stream",
     "text": [
      "MAE (Imputation):\n",
      "18062.894611872147\n"
     ]
    }
   ],
   "source": [
    "print(\"MAE (Imputation):\")\n",
    "print(score_dataset(imputed_X_train, imputed_X_valid, y_train, y_valid))"
   ]
  },
  {
   "cell_type": "markdown",
   "id": "9bc16b61",
   "metadata": {
    "papermill": {
     "duration": 0.037383,
     "end_time": "2021-08-27T14:01:31.003869",
     "exception": false,
     "start_time": "2021-08-27T14:01:30.966486",
     "status": "completed"
    },
    "tags": []
   },
   "source": [
    "### Part B\n",
    "\n",
    "Compare the MAE from each approach.  Does anything surprise you about the results?  Why do you think one approach performed better than the other?"
   ]
  },
  {
   "cell_type": "code",
   "execution_count": 16,
   "id": "b4308c4e",
   "metadata": {
    "execution": {
     "iopub.execute_input": "2021-08-27T14:01:31.082475Z",
     "iopub.status.busy": "2021-08-27T14:01:31.081378Z",
     "iopub.status.idle": "2021-08-27T14:01:31.087730Z",
     "shell.execute_reply": "2021-08-27T14:01:31.088387Z",
     "shell.execute_reply.started": "2021-08-27T13:51:07.000004Z"
    },
    "papermill": {
     "duration": 0.048421,
     "end_time": "2021-08-27T14:01:31.088549",
     "exception": false,
     "start_time": "2021-08-27T14:01:31.040128",
     "status": "completed"
    },
    "tags": []
   },
   "outputs": [
    {
     "data": {
      "application/javascript": [
       "parent.postMessage({\"jupyterEvent\": \"custom.exercise_interaction\", \"data\": {\"outcomeType\": 1, \"valueTowardsCompletion\": 1.0, \"interactionType\": 1, \"questionType\": 4, \"questionId\": \"3.2_ImputeThought\", \"learnToolsVersion\": \"0.3.4\", \"failureMessage\": \"\", \"exceptionClass\": \"\", \"trace\": \"\"}}, \"*\")"
      ],
      "text/plain": [
       "<IPython.core.display.Javascript object>"
      ]
     },
     "metadata": {},
     "output_type": "display_data"
    },
    {
     "data": {
      "text/markdown": [
       "<span style=\"color:#33cc33\">Correct:</span> \n",
       "\n",
       "Given that thre are so few missing values in the dataset, we'd expect imputation to perform better than dropping columns entirely.  However, we see that dropping columns performs slightly better!  While this can probably partially be attributed to noise in the dataset, another potential explanation is that the imputation method is not a great match to this dataset.  That is, maybe instead of filling in the mean value, it makes more sense to set every missing value to a value of 0, to fill in the most frequently encountered value, or to use some other method.  For instance, consider the `GarageYrBlt` column (which indicates the year that the garage was built).  It's likely that in some cases, a missing value could indicate a house that does not have a garage.  Does it make more sense to fill in the median value along each column in this case?  Or could we get better results by filling in the minimum value along each column?  It's not quite clear what's best in this case, but perhaps we can rule out some options immediately - for instance, setting missing values in this column to 0 is likely to yield horrible results!"
      ],
      "text/plain": [
       "Correct: \n",
       "\n",
       "Given that thre are so few missing values in the dataset, we'd expect imputation to perform better than dropping columns entirely.  However, we see that dropping columns performs slightly better!  While this can probably partially be attributed to noise in the dataset, another potential explanation is that the imputation method is not a great match to this dataset.  That is, maybe instead of filling in the mean value, it makes more sense to set every missing value to a value of 0, to fill in the most frequently encountered value, or to use some other method.  For instance, consider the `GarageYrBlt` column (which indicates the year that the garage was built).  It's likely that in some cases, a missing value could indicate a house that does not have a garage.  Does it make more sense to fill in the median value along each column in this case?  Or could we get better results by filling in the minimum value along each column?  It's not quite clear what's best in this case, but perhaps we can rule out some options immediately - for instance, setting missing values in this column to 0 is likely to yield horrible results!"
      ]
     },
     "metadata": {},
     "output_type": "display_data"
    }
   ],
   "source": [
    "# Check your answer (Run this code cell to receive credit!)\n",
    "step_3.b.check()"
   ]
  },
  {
   "cell_type": "code",
   "execution_count": 17,
   "id": "ce25d753",
   "metadata": {
    "execution": {
     "iopub.execute_input": "2021-08-27T14:01:31.167231Z",
     "iopub.status.busy": "2021-08-27T14:01:31.166170Z",
     "iopub.status.idle": "2021-08-27T14:01:31.170084Z",
     "shell.execute_reply": "2021-08-27T14:01:31.170729Z"
    },
    "papermill": {
     "duration": 0.044937,
     "end_time": "2021-08-27T14:01:31.170883",
     "exception": false,
     "start_time": "2021-08-27T14:01:31.125946",
     "status": "completed"
    },
    "tags": []
   },
   "outputs": [],
   "source": [
    "#step_3.b.hint()"
   ]
  },
  {
   "cell_type": "markdown",
   "id": "9710caca",
   "metadata": {
    "papermill": {
     "duration": 0.03734,
     "end_time": "2021-08-27T14:01:31.245640",
     "exception": false,
     "start_time": "2021-08-27T14:01:31.208300",
     "status": "completed"
    },
    "tags": []
   },
   "source": [
    "# Step 4: Generate test predictions\n",
    "\n",
    "In this final step, you'll use any approach of your choosing to deal with missing values.  Once you've preprocessed the training and validation features, you'll train and evaluate a random forest model.  Then, you'll preprocess the test data before generating predictions that can be submitted to the competition!\n",
    "\n",
    "### Part A\n",
    "\n",
    "Use the next code cell to preprocess the training and validation data.  Set the preprocessed DataFrames to `final_X_train` and `final_X_valid`.  **You can use any approach of your choosing here!**  in order for this step to be marked as correct, you need only ensure:\n",
    "- the preprocessed DataFrames have the same number of columns,\n",
    "- the preprocessed DataFrames have no missing values, \n",
    "- `final_X_train` and `y_train` have the same number of rows, and\n",
    "- `final_X_valid` and `y_valid` have the same number of rows."
   ]
  },
  {
   "cell_type": "code",
   "execution_count": 18,
   "id": "3c9f4dbc",
   "metadata": {
    "execution": {
     "iopub.execute_input": "2021-08-27T14:01:31.324349Z",
     "iopub.status.busy": "2021-08-27T14:01:31.323271Z",
     "iopub.status.idle": "2021-08-27T14:01:31.361507Z",
     "shell.execute_reply": "2021-08-27T14:01:31.362033Z",
     "shell.execute_reply.started": "2021-08-27T13:55:03.294759Z"
    },
    "papermill": {
     "duration": 0.079161,
     "end_time": "2021-08-27T14:01:31.362221",
     "exception": false,
     "start_time": "2021-08-27T14:01:31.283060",
     "status": "completed"
    },
    "tags": []
   },
   "outputs": [
    {
     "data": {
      "application/javascript": [
       "parent.postMessage({\"jupyterEvent\": \"custom.exercise_interaction\", \"data\": {\"outcomeType\": 1, \"valueTowardsCompletion\": 1.0, \"interactionType\": 1, \"questionType\": 2, \"questionId\": \"4.1_PredsCodeA\", \"learnToolsVersion\": \"0.3.4\", \"failureMessage\": \"\", \"exceptionClass\": \"\", \"trace\": \"\"}}, \"*\")"
      ],
      "text/plain": [
       "<IPython.core.display.Javascript object>"
      ]
     },
     "metadata": {},
     "output_type": "display_data"
    },
    {
     "data": {
      "text/markdown": [
       "<span style=\"color:#33cc33\">Correct</span>"
      ],
      "text/plain": [
       "Correct"
      ]
     },
     "metadata": {},
     "output_type": "display_data"
    }
   ],
   "source": [
    "# Preprocessed training and validation features\n",
    "from sklearn.impute import SimpleImputer\n",
    "\n",
    "# Fill in the lines below: imputation\n",
    "imp = SimpleImputer(strategy=\"median\") # Your code here\n",
    "\n",
    "X_train_temp = X_train.copy()\n",
    "X_valid_temp = X_valid.copy()\n",
    "\n",
    "imp.fit(X_train_temp)\n",
    "\n",
    "imputed_X_train = imp.transform(X_train_temp)\n",
    "imputed_X_valid = imp.transform(X_valid_temp)\n",
    "\n",
    "# Fill in the lines below: imputation removed column names; put them back\n",
    "final_X_train = pd.DataFrame(imputed_X_train, columns=X_train.columns)\n",
    "final_X_valid = pd.DataFrame(imputed_X_valid, columns=X_train.columns)\n",
    "\n",
    "# Check your answers\n",
    "step_4.a.check()"
   ]
  },
  {
   "cell_type": "code",
   "execution_count": 19,
   "id": "d7bcddc2",
   "metadata": {
    "execution": {
     "iopub.execute_input": "2021-08-27T14:01:31.444475Z",
     "iopub.status.busy": "2021-08-27T14:01:31.443439Z",
     "iopub.status.idle": "2021-08-27T14:01:31.447975Z",
     "shell.execute_reply": "2021-08-27T14:01:31.447378Z"
    },
    "papermill": {
     "duration": 0.046806,
     "end_time": "2021-08-27T14:01:31.448110",
     "exception": false,
     "start_time": "2021-08-27T14:01:31.401304",
     "status": "completed"
    },
    "tags": []
   },
   "outputs": [],
   "source": [
    "# Lines below will give you a hint or solution code\n",
    "#step_4.a.hint()\n",
    "#step_4.a.solution()"
   ]
  },
  {
   "cell_type": "markdown",
   "id": "e3d4dd47",
   "metadata": {
    "papermill": {
     "duration": 0.039032,
     "end_time": "2021-08-27T14:01:31.526888",
     "exception": false,
     "start_time": "2021-08-27T14:01:31.487856",
     "status": "completed"
    },
    "tags": []
   },
   "source": [
    "Run the next code cell to train and evaluate a random forest model.  (*Note that we don't use the `score_dataset()` function above, because we will soon use the trained model to generate test predictions!*)"
   ]
  },
  {
   "cell_type": "code",
   "execution_count": 20,
   "id": "9d939c9b",
   "metadata": {
    "execution": {
     "iopub.execute_input": "2021-08-27T14:01:31.618470Z",
     "iopub.status.busy": "2021-08-27T14:01:31.613208Z",
     "iopub.status.idle": "2021-08-27T14:01:32.850446Z",
     "shell.execute_reply": "2021-08-27T14:01:32.849572Z",
     "shell.execute_reply.started": "2021-08-27T13:55:12.945660Z"
    },
    "papermill": {
     "duration": 1.284399,
     "end_time": "2021-08-27T14:01:32.850658",
     "exception": false,
     "start_time": "2021-08-27T14:01:31.566259",
     "status": "completed"
    },
    "tags": []
   },
   "outputs": [
    {
     "name": "stdout",
     "output_type": "stream",
     "text": [
      "MAE (Your approach):\n",
      "17791.59899543379\n"
     ]
    }
   ],
   "source": [
    "# Define and fit model\n",
    "model = RandomForestRegressor(n_estimators=100, random_state=0)\n",
    "model.fit(final_X_train, y_train)\n",
    "\n",
    "# Get validation predictions and MAE\n",
    "preds_valid = model.predict(final_X_valid)\n",
    "print(\"MAE (Your approach):\")\n",
    "print(mean_absolute_error(y_valid, preds_valid))"
   ]
  },
  {
   "cell_type": "markdown",
   "id": "5614e994",
   "metadata": {
    "papermill": {
     "duration": 0.040288,
     "end_time": "2021-08-27T14:01:32.931921",
     "exception": false,
     "start_time": "2021-08-27T14:01:32.891633",
     "status": "completed"
    },
    "tags": []
   },
   "source": [
    "### Part B\n",
    "\n",
    "Use the next code cell to preprocess your test data.  Make sure that you use a method that agrees with how you preprocessed the training and validation data, and set the preprocessed test features to `final_X_test`.\n",
    "\n",
    "Then, use the preprocessed test features and the trained model to generate test predictions in `preds_test`.\n",
    "\n",
    "In order for this step to be marked correct, you need only ensure:\n",
    "- the preprocessed test DataFrame has no missing values, and\n",
    "- `final_X_test` has the same number of rows as `X_test`."
   ]
  },
  {
   "cell_type": "code",
   "execution_count": 21,
   "id": "c8cae42a",
   "metadata": {
    "execution": {
     "iopub.execute_input": "2021-08-27T14:01:33.019992Z",
     "iopub.status.busy": "2021-08-27T14:01:33.019327Z",
     "iopub.status.idle": "2021-08-27T14:01:33.071883Z",
     "shell.execute_reply": "2021-08-27T14:01:33.071198Z",
     "shell.execute_reply.started": "2021-08-27T13:56:56.148148Z"
    },
    "papermill": {
     "duration": 0.100168,
     "end_time": "2021-08-27T14:01:33.072034",
     "exception": false,
     "start_time": "2021-08-27T14:01:32.971866",
     "status": "completed"
    },
    "tags": []
   },
   "outputs": [
    {
     "data": {
      "application/javascript": [
       "parent.postMessage({\"jupyterEvent\": \"custom.exercise_interaction\", \"data\": {\"outcomeType\": 1, \"valueTowardsCompletion\": 1.0, \"interactionType\": 1, \"questionType\": 2, \"questionId\": \"4.2_PredsCodeB\", \"learnToolsVersion\": \"0.3.4\", \"failureMessage\": \"\", \"exceptionClass\": \"\", \"trace\": \"\"}}, \"*\")"
      ],
      "text/plain": [
       "<IPython.core.display.Javascript object>"
      ]
     },
     "metadata": {},
     "output_type": "display_data"
    },
    {
     "data": {
      "text/markdown": [
       "<span style=\"color:#33cc33\">Correct</span>"
      ],
      "text/plain": [
       "Correct"
      ]
     },
     "metadata": {},
     "output_type": "display_data"
    }
   ],
   "source": [
    "# Fill in the line below: preprocess test data\n",
    "imp_X_test = imp.transform(X_test)\n",
    "\n",
    "final_X_test = pd.DataFrame(imp_X_test, columns=X_test.columns)\n",
    "\n",
    "# Fill in the line below: get test predictions\n",
    "preds_test = model.predict(final_X_test)\n",
    "\n",
    "# Check your answers\n",
    "step_4.b.check()"
   ]
  },
  {
   "cell_type": "code",
   "execution_count": 22,
   "id": "3ab8285c",
   "metadata": {
    "execution": {
     "iopub.execute_input": "2021-08-27T14:01:33.159043Z",
     "iopub.status.busy": "2021-08-27T14:01:33.158122Z",
     "iopub.status.idle": "2021-08-27T14:01:33.161186Z",
     "shell.execute_reply": "2021-08-27T14:01:33.160599Z"
    },
    "papermill": {
     "duration": 0.048181,
     "end_time": "2021-08-27T14:01:33.161352",
     "exception": false,
     "start_time": "2021-08-27T14:01:33.113171",
     "status": "completed"
    },
    "tags": []
   },
   "outputs": [],
   "source": [
    "# Lines below will give you a hint or solution code\n",
    "#step_4.b.hint()\n",
    "#step_4.b.solution()"
   ]
  },
  {
   "cell_type": "markdown",
   "id": "af4c7968",
   "metadata": {
    "papermill": {
     "duration": 0.042043,
     "end_time": "2021-08-27T14:01:33.245206",
     "exception": false,
     "start_time": "2021-08-27T14:01:33.203163",
     "status": "completed"
    },
    "tags": []
   },
   "source": [
    "Run the next code cell without changes to save your results to a CSV file that can be submitted directly to the competition."
   ]
  },
  {
   "cell_type": "code",
   "execution_count": 23,
   "id": "e16c59cc",
   "metadata": {
    "execution": {
     "iopub.execute_input": "2021-08-27T14:01:33.336225Z",
     "iopub.status.busy": "2021-08-27T14:01:33.335014Z",
     "iopub.status.idle": "2021-08-27T14:01:33.346120Z",
     "shell.execute_reply": "2021-08-27T14:01:33.345504Z",
     "shell.execute_reply.started": "2021-08-27T13:57:47.174576Z"
    },
    "papermill": {
     "duration": 0.059024,
     "end_time": "2021-08-27T14:01:33.346333",
     "exception": false,
     "start_time": "2021-08-27T14:01:33.287309",
     "status": "completed"
    },
    "tags": []
   },
   "outputs": [],
   "source": [
    "# Save test predictions to file\n",
    "output = pd.DataFrame({'Id': X_test.index,\n",
    "                       'SalePrice': preds_test})\n",
    "output.to_csv('submission_new.csv', index=False)"
   ]
  },
  {
   "cell_type": "markdown",
   "id": "af2780e2",
   "metadata": {
    "papermill": {
     "duration": 0.041624,
     "end_time": "2021-08-27T14:01:33.430414",
     "exception": false,
     "start_time": "2021-08-27T14:01:33.388790",
     "status": "completed"
    },
    "tags": []
   },
   "source": [
    "# Submit your results\n",
    "\n",
    "Once you have successfully completed Step 4, you're ready to submit your results to the leaderboard!  (_You also learned how to do this in the previous exercise.  If you need a reminder of how to do this, please use the instructions below._)  \n",
    "\n",
    "First, you'll need to join the competition if you haven't already.  So open a new window by clicking on [this link](https://www.kaggle.com/c/home-data-for-ml-course).  Then click on the **Join Competition** button.\n",
    "\n",
    "![join competition image](https://i.imgur.com/wLmFtH3.png)\n",
    "\n",
    "Next, follow the instructions below:\n",
    "1. Begin by clicking on the blue **Save Version** button in the top right corner of the window.  This will generate a pop-up window.  \n",
    "2. Ensure that the **Save and Run All** option is selected, and then click on the blue **Save** button.\n",
    "3. This generates a window in the bottom left corner of the notebook.  After it has finished running, click on the number to the right of the **Save Version** button.  This pulls up a list of versions on the right of the screen.  Click on the ellipsis **(...)** to the right of the most recent version, and select **Open in Viewer**.  This brings you into view mode of the same page. You will need to scroll down to get back to these instructions.\n",
    "4. Click on the **Output** tab on the right of the screen.  Then, click on the file you would like to submit, and click on the blue **Submit** button to submit your results to the leaderboard.\n",
    "\n",
    "You have now successfully submitted to the competition!\n",
    "\n",
    "If you want to keep working to improve your performance, select the blue **Edit** button in the top right of the screen. Then you can change your code and repeat the process. There's a lot of room to improve, and you will climb up the leaderboard as you work.\n",
    "\n",
    "\n",
    "# Keep going\n",
    "\n",
    "Move on to learn what **[categorical variables](https://www.kaggle.com/alexisbcook/categorical-variables)** are, along with how to incorporate them into your machine learning models.  Categorical variables are very common in real-world data, but you'll get an error if you try to plug them into your models without processing them first!"
   ]
  },
  {
   "cell_type": "markdown",
   "id": "d391c9a8",
   "metadata": {
    "papermill": {
     "duration": 0.042346,
     "end_time": "2021-08-27T14:01:33.514823",
     "exception": false,
     "start_time": "2021-08-27T14:01:33.472477",
     "status": "completed"
    },
    "tags": []
   },
   "source": [
    "---\n",
    "\n",
    "\n",
    "\n",
    "\n",
    "*Have questions or comments? Visit the [Learn Discussion forum](https://www.kaggle.com/learn-forum/161289) to chat with other Learners.*"
   ]
  }
 ],
 "metadata": {
  "kernelspec": {
   "display_name": "Python 3",
   "language": "python",
   "name": "python3"
  },
  "language_info": {
   "codemirror_mode": {
    "name": "ipython",
    "version": 3
   },
   "file_extension": ".py",
   "mimetype": "text/x-python",
   "name": "python",
   "nbconvert_exporter": "python",
   "pygments_lexer": "ipython3",
   "version": "3.7.10"
  },
  "papermill": {
   "default_parameters": {},
   "duration": 17.741054,
   "end_time": "2021-08-27T14:01:34.933225",
   "environment_variables": {},
   "exception": null,
   "input_path": "__notebook__.ipynb",
   "output_path": "__notebook__.ipynb",
   "parameters": {},
   "start_time": "2021-08-27T14:01:17.192171",
   "version": "2.3.3"
  }
 },
 "nbformat": 4,
 "nbformat_minor": 5
}
