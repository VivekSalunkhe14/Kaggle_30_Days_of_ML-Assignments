{
 "cells": [
  {
   "cell_type": "markdown",
   "id": "6a027537",
   "metadata": {
    "papermill": {
     "duration": 0.033154,
     "end_time": "2021-08-28T15:09:12.424457",
     "exception": false,
     "start_time": "2021-08-28T15:09:12.391303",
     "status": "completed"
    },
    "tags": []
   },
   "source": [
    "**This notebook is an exercise in the [Intermediate Machine Learning](https://www.kaggle.com/learn/intermediate-machine-learning) course.  You can reference the tutorial at [this link](https://www.kaggle.com/alexisbcook/categorical-variables).**\n",
    "\n",
    "---\n"
   ]
  },
  {
   "cell_type": "markdown",
   "id": "802a9c18",
   "metadata": {
    "papermill": {
     "duration": 0.029349,
     "end_time": "2021-08-28T15:09:12.485377",
     "exception": false,
     "start_time": "2021-08-28T15:09:12.456028",
     "status": "completed"
    },
    "tags": []
   },
   "source": [
    "By encoding **categorical variables**, you'll obtain your best results thus far!\n",
    "\n",
    "# Setup\n",
    "\n",
    "The questions below will give you feedback on your work. Run the following cell to set up the feedback system."
   ]
  },
  {
   "cell_type": "code",
   "execution_count": 1,
   "id": "57702692",
   "metadata": {
    "execution": {
     "iopub.execute_input": "2021-08-28T15:09:12.558895Z",
     "iopub.status.busy": "2021-08-28T15:09:12.553937Z",
     "iopub.status.idle": "2021-08-28T15:09:12.694523Z",
     "shell.execute_reply": "2021-08-28T15:09:12.693782Z",
     "shell.execute_reply.started": "2021-08-28T14:40:04.042569Z"
    },
    "papermill": {
     "duration": 0.179521,
     "end_time": "2021-08-28T15:09:12.694682",
     "exception": false,
     "start_time": "2021-08-28T15:09:12.515161",
     "status": "completed"
    },
    "tags": []
   },
   "outputs": [
    {
     "name": "stdout",
     "output_type": "stream",
     "text": [
      "Setup Complete\n"
     ]
    }
   ],
   "source": [
    "# Set up code checking\n",
    "import os\n",
    "if not os.path.exists(\"../input/train.csv\"):\n",
    "    os.symlink(\"../input/home-data-for-ml-course/train.csv\", \"../input/train.csv\")  \n",
    "    os.symlink(\"../input/home-data-for-ml-course/test.csv\", \"../input/test.csv\") \n",
    "from learntools.core import binder\n",
    "binder.bind(globals())\n",
    "from learntools.ml_intermediate.ex3 import *\n",
    "print(\"Setup Complete\")"
   ]
  },
  {
   "cell_type": "markdown",
   "id": "09ef33a5",
   "metadata": {
    "papermill": {
     "duration": 0.029943,
     "end_time": "2021-08-28T15:09:12.755749",
     "exception": false,
     "start_time": "2021-08-28T15:09:12.725806",
     "status": "completed"
    },
    "tags": []
   },
   "source": [
    "In this exercise, you will work with data from the [Housing Prices Competition for Kaggle Learn Users](https://www.kaggle.com/c/home-data-for-ml-course). \n",
    "\n",
    "![Ames Housing dataset image](https://i.imgur.com/lTJVG4e.png)\n",
    "\n",
    "Run the next code cell without changes to load the training and validation sets in `X_train`, `X_valid`, `y_train`, and `y_valid`.  The test set is loaded in `X_test`."
   ]
  },
  {
   "cell_type": "code",
   "execution_count": 2,
   "id": "6bc6b992",
   "metadata": {
    "execution": {
     "iopub.execute_input": "2021-08-28T15:09:12.825731Z",
     "iopub.status.busy": "2021-08-28T15:09:12.824784Z",
     "iopub.status.idle": "2021-08-28T15:09:13.955484Z",
     "shell.execute_reply": "2021-08-28T15:09:13.954759Z",
     "shell.execute_reply.started": "2021-08-28T14:40:04.183567Z"
    },
    "papermill": {
     "duration": 1.169691,
     "end_time": "2021-08-28T15:09:13.955627",
     "exception": false,
     "start_time": "2021-08-28T15:09:12.785936",
     "status": "completed"
    },
    "tags": []
   },
   "outputs": [],
   "source": [
    "import pandas as pd\n",
    "from sklearn.model_selection import train_test_split\n",
    "\n",
    "# Read the data\n",
    "X = pd.read_csv('../input/train.csv', index_col='Id') \n",
    "X_test = pd.read_csv('../input/test.csv', index_col='Id')\n",
    "\n",
    "# Remove rows with missing target, separate target from predictors\n",
    "X.dropna(axis=0, subset=['SalePrice'], inplace=True)\n",
    "y = X.SalePrice\n",
    "X.drop(['SalePrice'], axis=1, inplace=True)\n",
    "\n",
    "# To keep things simple, we'll drop columns with missing values\n",
    "cols_with_missing = [col for col in X.columns if X[col].isnull().any()] \n",
    "X.drop(cols_with_missing, axis=1, inplace=True)\n",
    "X_test.drop(cols_with_missing, axis=1, inplace=True)\n",
    "\n",
    "# Break off validation set from training data\n",
    "X_train, X_valid, y_train, y_valid = train_test_split(X, y,\n",
    "                                                      train_size=0.8, test_size=0.2,\n",
    "                                                      random_state=0)"
   ]
  },
  {
   "cell_type": "markdown",
   "id": "ef7b3208",
   "metadata": {
    "papermill": {
     "duration": 0.033906,
     "end_time": "2021-08-28T15:09:14.021369",
     "exception": false,
     "start_time": "2021-08-28T15:09:13.987463",
     "status": "completed"
    },
    "tags": []
   },
   "source": [
    "Use the next code cell to print the first five rows of the data."
   ]
  },
  {
   "cell_type": "code",
   "execution_count": 3,
   "id": "6ed599d5",
   "metadata": {
    "execution": {
     "iopub.execute_input": "2021-08-28T15:09:14.093782Z",
     "iopub.status.busy": "2021-08-28T15:09:14.093104Z",
     "iopub.status.idle": "2021-08-28T15:09:14.124188Z",
     "shell.execute_reply": "2021-08-28T15:09:14.124774Z",
     "shell.execute_reply.started": "2021-08-28T14:40:05.228762Z"
    },
    "papermill": {
     "duration": 0.072071,
     "end_time": "2021-08-28T15:09:14.124969",
     "exception": false,
     "start_time": "2021-08-28T15:09:14.052898",
     "status": "completed"
    },
    "tags": []
   },
   "outputs": [
    {
     "data": {
      "text/html": [
       "<div>\n",
       "<style scoped>\n",
       "    .dataframe tbody tr th:only-of-type {\n",
       "        vertical-align: middle;\n",
       "    }\n",
       "\n",
       "    .dataframe tbody tr th {\n",
       "        vertical-align: top;\n",
       "    }\n",
       "\n",
       "    .dataframe thead th {\n",
       "        text-align: right;\n",
       "    }\n",
       "</style>\n",
       "<table border=\"1\" class=\"dataframe\">\n",
       "  <thead>\n",
       "    <tr style=\"text-align: right;\">\n",
       "      <th></th>\n",
       "      <th>MSSubClass</th>\n",
       "      <th>MSZoning</th>\n",
       "      <th>LotArea</th>\n",
       "      <th>Street</th>\n",
       "      <th>LotShape</th>\n",
       "      <th>LandContour</th>\n",
       "      <th>Utilities</th>\n",
       "      <th>LotConfig</th>\n",
       "      <th>LandSlope</th>\n",
       "      <th>Neighborhood</th>\n",
       "      <th>...</th>\n",
       "      <th>OpenPorchSF</th>\n",
       "      <th>EnclosedPorch</th>\n",
       "      <th>3SsnPorch</th>\n",
       "      <th>ScreenPorch</th>\n",
       "      <th>PoolArea</th>\n",
       "      <th>MiscVal</th>\n",
       "      <th>MoSold</th>\n",
       "      <th>YrSold</th>\n",
       "      <th>SaleType</th>\n",
       "      <th>SaleCondition</th>\n",
       "    </tr>\n",
       "    <tr>\n",
       "      <th>Id</th>\n",
       "      <th></th>\n",
       "      <th></th>\n",
       "      <th></th>\n",
       "      <th></th>\n",
       "      <th></th>\n",
       "      <th></th>\n",
       "      <th></th>\n",
       "      <th></th>\n",
       "      <th></th>\n",
       "      <th></th>\n",
       "      <th></th>\n",
       "      <th></th>\n",
       "      <th></th>\n",
       "      <th></th>\n",
       "      <th></th>\n",
       "      <th></th>\n",
       "      <th></th>\n",
       "      <th></th>\n",
       "      <th></th>\n",
       "      <th></th>\n",
       "      <th></th>\n",
       "    </tr>\n",
       "  </thead>\n",
       "  <tbody>\n",
       "    <tr>\n",
       "      <th>619</th>\n",
       "      <td>20</td>\n",
       "      <td>RL</td>\n",
       "      <td>11694</td>\n",
       "      <td>Pave</td>\n",
       "      <td>Reg</td>\n",
       "      <td>Lvl</td>\n",
       "      <td>AllPub</td>\n",
       "      <td>Inside</td>\n",
       "      <td>Gtl</td>\n",
       "      <td>NridgHt</td>\n",
       "      <td>...</td>\n",
       "      <td>108</td>\n",
       "      <td>0</td>\n",
       "      <td>0</td>\n",
       "      <td>260</td>\n",
       "      <td>0</td>\n",
       "      <td>0</td>\n",
       "      <td>7</td>\n",
       "      <td>2007</td>\n",
       "      <td>New</td>\n",
       "      <td>Partial</td>\n",
       "    </tr>\n",
       "    <tr>\n",
       "      <th>871</th>\n",
       "      <td>20</td>\n",
       "      <td>RL</td>\n",
       "      <td>6600</td>\n",
       "      <td>Pave</td>\n",
       "      <td>Reg</td>\n",
       "      <td>Lvl</td>\n",
       "      <td>AllPub</td>\n",
       "      <td>Inside</td>\n",
       "      <td>Gtl</td>\n",
       "      <td>NAmes</td>\n",
       "      <td>...</td>\n",
       "      <td>0</td>\n",
       "      <td>0</td>\n",
       "      <td>0</td>\n",
       "      <td>0</td>\n",
       "      <td>0</td>\n",
       "      <td>0</td>\n",
       "      <td>8</td>\n",
       "      <td>2009</td>\n",
       "      <td>WD</td>\n",
       "      <td>Normal</td>\n",
       "    </tr>\n",
       "    <tr>\n",
       "      <th>93</th>\n",
       "      <td>30</td>\n",
       "      <td>RL</td>\n",
       "      <td>13360</td>\n",
       "      <td>Pave</td>\n",
       "      <td>IR1</td>\n",
       "      <td>HLS</td>\n",
       "      <td>AllPub</td>\n",
       "      <td>Inside</td>\n",
       "      <td>Gtl</td>\n",
       "      <td>Crawfor</td>\n",
       "      <td>...</td>\n",
       "      <td>0</td>\n",
       "      <td>44</td>\n",
       "      <td>0</td>\n",
       "      <td>0</td>\n",
       "      <td>0</td>\n",
       "      <td>0</td>\n",
       "      <td>8</td>\n",
       "      <td>2009</td>\n",
       "      <td>WD</td>\n",
       "      <td>Normal</td>\n",
       "    </tr>\n",
       "    <tr>\n",
       "      <th>818</th>\n",
       "      <td>20</td>\n",
       "      <td>RL</td>\n",
       "      <td>13265</td>\n",
       "      <td>Pave</td>\n",
       "      <td>IR1</td>\n",
       "      <td>Lvl</td>\n",
       "      <td>AllPub</td>\n",
       "      <td>CulDSac</td>\n",
       "      <td>Gtl</td>\n",
       "      <td>Mitchel</td>\n",
       "      <td>...</td>\n",
       "      <td>59</td>\n",
       "      <td>0</td>\n",
       "      <td>0</td>\n",
       "      <td>0</td>\n",
       "      <td>0</td>\n",
       "      <td>0</td>\n",
       "      <td>7</td>\n",
       "      <td>2008</td>\n",
       "      <td>WD</td>\n",
       "      <td>Normal</td>\n",
       "    </tr>\n",
       "    <tr>\n",
       "      <th>303</th>\n",
       "      <td>20</td>\n",
       "      <td>RL</td>\n",
       "      <td>13704</td>\n",
       "      <td>Pave</td>\n",
       "      <td>IR1</td>\n",
       "      <td>Lvl</td>\n",
       "      <td>AllPub</td>\n",
       "      <td>Corner</td>\n",
       "      <td>Gtl</td>\n",
       "      <td>CollgCr</td>\n",
       "      <td>...</td>\n",
       "      <td>81</td>\n",
       "      <td>0</td>\n",
       "      <td>0</td>\n",
       "      <td>0</td>\n",
       "      <td>0</td>\n",
       "      <td>0</td>\n",
       "      <td>1</td>\n",
       "      <td>2006</td>\n",
       "      <td>WD</td>\n",
       "      <td>Normal</td>\n",
       "    </tr>\n",
       "  </tbody>\n",
       "</table>\n",
       "<p>5 rows × 60 columns</p>\n",
       "</div>"
      ],
      "text/plain": [
       "     MSSubClass MSZoning  LotArea Street LotShape LandContour Utilities  \\\n",
       "Id                                                                        \n",
       "619          20       RL    11694   Pave      Reg         Lvl    AllPub   \n",
       "871          20       RL     6600   Pave      Reg         Lvl    AllPub   \n",
       "93           30       RL    13360   Pave      IR1         HLS    AllPub   \n",
       "818          20       RL    13265   Pave      IR1         Lvl    AllPub   \n",
       "303          20       RL    13704   Pave      IR1         Lvl    AllPub   \n",
       "\n",
       "    LotConfig LandSlope Neighborhood  ... OpenPorchSF EnclosedPorch 3SsnPorch  \\\n",
       "Id                                    ...                                       \n",
       "619    Inside       Gtl      NridgHt  ...         108             0         0   \n",
       "871    Inside       Gtl        NAmes  ...           0             0         0   \n",
       "93     Inside       Gtl      Crawfor  ...           0            44         0   \n",
       "818   CulDSac       Gtl      Mitchel  ...          59             0         0   \n",
       "303    Corner       Gtl      CollgCr  ...          81             0         0   \n",
       "\n",
       "    ScreenPorch  PoolArea  MiscVal  MoSold  YrSold SaleType SaleCondition  \n",
       "Id                                                                         \n",
       "619         260         0        0       7    2007      New       Partial  \n",
       "871           0         0        0       8    2009       WD        Normal  \n",
       "93            0         0        0       8    2009       WD        Normal  \n",
       "818           0         0        0       7    2008       WD        Normal  \n",
       "303           0         0        0       1    2006       WD        Normal  \n",
       "\n",
       "[5 rows x 60 columns]"
      ]
     },
     "execution_count": 3,
     "metadata": {},
     "output_type": "execute_result"
    }
   ],
   "source": [
    "X_train.head()"
   ]
  },
  {
   "cell_type": "markdown",
   "id": "dffd7527",
   "metadata": {
    "papermill": {
     "duration": 0.030907,
     "end_time": "2021-08-28T15:09:14.187399",
     "exception": false,
     "start_time": "2021-08-28T15:09:14.156492",
     "status": "completed"
    },
    "tags": []
   },
   "source": [
    "Notice that the dataset contains both numerical and categorical variables.  You'll need to encode the categorical data before training a model.\n",
    "\n",
    "To compare different models, you'll use the same `score_dataset()` function from the tutorial.  This function reports the [mean absolute error](https://en.wikipedia.org/wiki/Mean_absolute_error) (MAE) from a random forest model."
   ]
  },
  {
   "cell_type": "code",
   "execution_count": 4,
   "id": "b2d8343f",
   "metadata": {
    "execution": {
     "iopub.execute_input": "2021-08-28T15:09:14.257674Z",
     "iopub.status.busy": "2021-08-28T15:09:14.256941Z",
     "iopub.status.idle": "2021-08-28T15:09:14.476624Z",
     "shell.execute_reply": "2021-08-28T15:09:14.476089Z",
     "shell.execute_reply.started": "2021-08-28T14:40:05.263886Z"
    },
    "papermill": {
     "duration": 0.25781,
     "end_time": "2021-08-28T15:09:14.476771",
     "exception": false,
     "start_time": "2021-08-28T15:09:14.218961",
     "status": "completed"
    },
    "tags": []
   },
   "outputs": [],
   "source": [
    "from sklearn.ensemble import RandomForestRegressor\n",
    "from sklearn.metrics import mean_absolute_error\n",
    "\n",
    "# function for comparing different approaches\n",
    "def score_dataset(X_train, X_valid, y_train, y_valid):\n",
    "    model = RandomForestRegressor(n_estimators=100, random_state=0)\n",
    "    model.fit(X_train, y_train)\n",
    "    preds = model.predict(X_valid)\n",
    "    return mean_absolute_error(y_valid, preds)"
   ]
  },
  {
   "cell_type": "markdown",
   "id": "81bfeff0",
   "metadata": {
    "papermill": {
     "duration": 0.030775,
     "end_time": "2021-08-28T15:09:14.539202",
     "exception": false,
     "start_time": "2021-08-28T15:09:14.508427",
     "status": "completed"
    },
    "tags": []
   },
   "source": [
    "# Step 1: Drop columns with categorical data\n",
    "\n",
    "You'll get started with the most straightforward approach.  Use the code cell below to preprocess the data in `X_train` and `X_valid` to remove columns with categorical data.  Set the preprocessed DataFrames to `drop_X_train` and `drop_X_valid`, respectively.  "
   ]
  },
  {
   "cell_type": "code",
   "execution_count": 5,
   "id": "ed928295",
   "metadata": {
    "execution": {
     "iopub.execute_input": "2021-08-28T15:09:14.618124Z",
     "iopub.status.busy": "2021-08-28T15:09:14.617404Z",
     "iopub.status.idle": "2021-08-28T15:09:14.624197Z",
     "shell.execute_reply": "2021-08-28T15:09:14.623557Z",
     "shell.execute_reply.started": "2021-08-28T14:40:05.456436Z"
    },
    "papermill": {
     "duration": 0.051017,
     "end_time": "2021-08-28T15:09:14.624331",
     "exception": false,
     "start_time": "2021-08-28T15:09:14.573314",
     "status": "completed"
    },
    "tags": []
   },
   "outputs": [
    {
     "data": {
      "application/javascript": [
       "parent.postMessage({\"jupyterEvent\": \"custom.exercise_interaction\", \"data\": {\"outcomeType\": 1, \"valueTowardsCompletion\": 0.5, \"interactionType\": 1, \"questionType\": 2, \"questionId\": \"1_Drop\", \"learnToolsVersion\": \"0.3.4\", \"failureMessage\": \"\", \"exceptionClass\": \"\", \"trace\": \"\"}}, \"*\")"
      ],
      "text/plain": [
       "<IPython.core.display.Javascript object>"
      ]
     },
     "metadata": {},
     "output_type": "display_data"
    },
    {
     "data": {
      "text/markdown": [
       "<span style=\"color:#33cc33\">Correct</span>"
      ],
      "text/plain": [
       "Correct"
      ]
     },
     "metadata": {},
     "output_type": "display_data"
    }
   ],
   "source": [
    "# Fill in the lines below: drop columns in training and validation data\n",
    "cat_cols = [cols for cols in X_train.columns if X_train[cols].dtype == 'object']\n",
    "\n",
    "drop_X_train = X_train.drop(cat_cols, axis=1)\n",
    "drop_X_valid = X_valid.drop(cat_cols, axis=1)\n",
    "\n",
    "# Check your answers\n",
    "step_1.check()"
   ]
  },
  {
   "cell_type": "code",
   "execution_count": 6,
   "id": "210292bf",
   "metadata": {
    "execution": {
     "iopub.execute_input": "2021-08-28T15:09:14.692504Z",
     "iopub.status.busy": "2021-08-28T15:09:14.691745Z",
     "iopub.status.idle": "2021-08-28T15:09:14.693779Z",
     "shell.execute_reply": "2021-08-28T15:09:14.694295Z"
    },
    "papermill": {
     "duration": 0.03825,
     "end_time": "2021-08-28T15:09:14.694474",
     "exception": false,
     "start_time": "2021-08-28T15:09:14.656224",
     "status": "completed"
    },
    "tags": []
   },
   "outputs": [],
   "source": [
    "# Lines below will give you a hint or solution code\n",
    "#step_1.hint()\n",
    "#step_1.solution()"
   ]
  },
  {
   "cell_type": "markdown",
   "id": "e5763518",
   "metadata": {
    "papermill": {
     "duration": 0.033175,
     "end_time": "2021-08-28T15:09:14.760585",
     "exception": false,
     "start_time": "2021-08-28T15:09:14.727410",
     "status": "completed"
    },
    "tags": []
   },
   "source": [
    "Run the next code cell to get the MAE for this approach."
   ]
  },
  {
   "cell_type": "code",
   "execution_count": 7,
   "id": "62b2e751",
   "metadata": {
    "execution": {
     "iopub.execute_input": "2021-08-28T15:09:14.828615Z",
     "iopub.status.busy": "2021-08-28T15:09:14.827928Z",
     "iopub.status.idle": "2021-08-28T15:09:16.103546Z",
     "shell.execute_reply": "2021-08-28T15:09:16.104270Z",
     "shell.execute_reply.started": "2021-08-28T14:40:05.472509Z"
    },
    "papermill": {
     "duration": 1.311222,
     "end_time": "2021-08-28T15:09:16.104517",
     "exception": false,
     "start_time": "2021-08-28T15:09:14.793295",
     "status": "completed"
    },
    "tags": []
   },
   "outputs": [
    {
     "name": "stdout",
     "output_type": "stream",
     "text": [
      "MAE from Approach 1 (Drop categorical variables):\n",
      "17837.82570776256\n"
     ]
    }
   ],
   "source": [
    "print(\"MAE from Approach 1 (Drop categorical variables):\")\n",
    "print(score_dataset(drop_X_train, drop_X_valid, y_train, y_valid))"
   ]
  },
  {
   "cell_type": "markdown",
   "id": "63187a4a",
   "metadata": {
    "papermill": {
     "duration": 0.034538,
     "end_time": "2021-08-28T15:09:16.172467",
     "exception": false,
     "start_time": "2021-08-28T15:09:16.137929",
     "status": "completed"
    },
    "tags": []
   },
   "source": [
    "Before jumping into ordinal encoding, we'll investigate the dataset.  Specifically, we'll look at the `'Condition2'` column.  The code cell below prints the unique entries in both the training and validation sets."
   ]
  },
  {
   "cell_type": "code",
   "execution_count": 8,
   "id": "36ad3ba9",
   "metadata": {
    "execution": {
     "iopub.execute_input": "2021-08-28T15:09:16.249228Z",
     "iopub.status.busy": "2021-08-28T15:09:16.248479Z",
     "iopub.status.idle": "2021-08-28T15:09:16.253450Z",
     "shell.execute_reply": "2021-08-28T15:09:16.253944Z",
     "shell.execute_reply.started": "2021-08-28T14:40:06.759186Z"
    },
    "papermill": {
     "duration": 0.047829,
     "end_time": "2021-08-28T15:09:16.254129",
     "exception": false,
     "start_time": "2021-08-28T15:09:16.206300",
     "status": "completed"
    },
    "tags": []
   },
   "outputs": [
    {
     "name": "stdout",
     "output_type": "stream",
     "text": [
      "Unique values in 'Condition2' column in training data: ['Norm' 'PosA' 'Feedr' 'PosN' 'Artery' 'RRAe']\n",
      "\n",
      "Unique values in 'Condition2' column in validation data: ['Norm' 'RRAn' 'RRNn' 'Artery' 'Feedr' 'PosN']\n"
     ]
    }
   ],
   "source": [
    "print(\"Unique values in 'Condition2' column in training data:\", X_train['Condition2'].unique())\n",
    "print(\"\\nUnique values in 'Condition2' column in validation data:\", X_valid['Condition2'].unique())"
   ]
  },
  {
   "cell_type": "markdown",
   "id": "abd758b3",
   "metadata": {
    "papermill": {
     "duration": 0.032729,
     "end_time": "2021-08-28T15:09:16.323316",
     "exception": false,
     "start_time": "2021-08-28T15:09:16.290587",
     "status": "completed"
    },
    "tags": []
   },
   "source": [
    "# Step 2: Ordinal encoding\n",
    "\n",
    "### Part A\n",
    "\n",
    "If you now write code to: \n",
    "- fit an ordinal encoder to the training data, and then \n",
    "- use it to transform both the training and validation data, \n",
    "\n",
    "you'll get an error.  Can you see why this is the case?  (_You'll need  to use the above output to answer this question._)"
   ]
  },
  {
   "cell_type": "code",
   "execution_count": 9,
   "id": "8fede07f",
   "metadata": {
    "execution": {
     "iopub.execute_input": "2021-08-28T15:09:16.402639Z",
     "iopub.status.busy": "2021-08-28T15:09:16.401594Z",
     "iopub.status.idle": "2021-08-28T15:09:16.410019Z",
     "shell.execute_reply": "2021-08-28T15:09:16.409300Z",
     "shell.execute_reply.started": "2021-08-28T14:40:06.769918Z"
    },
    "papermill": {
     "duration": 0.049001,
     "end_time": "2021-08-28T15:09:16.410160",
     "exception": false,
     "start_time": "2021-08-28T15:09:16.361159",
     "status": "completed"
    },
    "tags": []
   },
   "outputs": [
    {
     "data": {
      "application/javascript": [
       "parent.postMessage({\"jupyterEvent\": \"custom.exercise_interaction\", \"data\": {\"outcomeType\": 1, \"valueTowardsCompletion\": 0.5, \"interactionType\": 1, \"questionType\": 4, \"questionId\": \"2.1_LabelA\", \"learnToolsVersion\": \"0.3.4\", \"failureMessage\": \"\", \"exceptionClass\": \"\", \"trace\": \"\"}}, \"*\")"
      ],
      "text/plain": [
       "<IPython.core.display.Javascript object>"
      ]
     },
     "metadata": {},
     "output_type": "display_data"
    },
    {
     "data": {
      "text/markdown": [
       "<span style=\"color:#33cc33\">Correct:</span> \n",
       "\n",
       "Fitting an ordinal encoder to a column in the training data creates a corresponding integer-valued label for each unique value **that appears in the training data**. In the case that the validation data contains values that don't also appear in the training data, the encoder will throw an error, because these values won't have an integer assigned to them.  Notice that the `'Condition2'` column in the validation data contains the values `'RRAn'` and `'RRNn'`, but these don't appear in the training data -- thus, if we try to use an ordinal encoder with scikit-learn, the code will throw an error."
      ],
      "text/plain": [
       "Correct: \n",
       "\n",
       "Fitting an ordinal encoder to a column in the training data creates a corresponding integer-valued label for each unique value **that appears in the training data**. In the case that the validation data contains values that don't also appear in the training data, the encoder will throw an error, because these values won't have an integer assigned to them.  Notice that the `'Condition2'` column in the validation data contains the values `'RRAn'` and `'RRNn'`, but these don't appear in the training data -- thus, if we try to use an ordinal encoder with scikit-learn, the code will throw an error."
      ]
     },
     "metadata": {},
     "output_type": "display_data"
    }
   ],
   "source": [
    "# Check your answer (Run this code cell to receive credit!)\n",
    "step_2.a.check()"
   ]
  },
  {
   "cell_type": "code",
   "execution_count": 10,
   "id": "1cfc00dd",
   "metadata": {
    "execution": {
     "iopub.execute_input": "2021-08-28T15:09:16.493741Z",
     "iopub.status.busy": "2021-08-28T15:09:16.492648Z",
     "iopub.status.idle": "2021-08-28T15:09:16.496266Z",
     "shell.execute_reply": "2021-08-28T15:09:16.495690Z"
    },
    "papermill": {
     "duration": 0.045991,
     "end_time": "2021-08-28T15:09:16.496405",
     "exception": false,
     "start_time": "2021-08-28T15:09:16.450414",
     "status": "completed"
    },
    "tags": []
   },
   "outputs": [],
   "source": [
    "#step_2.a.hint()"
   ]
  },
  {
   "cell_type": "markdown",
   "id": "9941a1a0",
   "metadata": {
    "papermill": {
     "duration": 0.037842,
     "end_time": "2021-08-28T15:09:16.571342",
     "exception": false,
     "start_time": "2021-08-28T15:09:16.533500",
     "status": "completed"
    },
    "tags": []
   },
   "source": [
    "This is a common problem that you'll encounter with real-world data, and there are many approaches to fixing this issue.  For instance, you can write a custom ordinal encoder to deal with new categories.  The simplest approach, however, is to drop the problematic categorical columns.  \n",
    "\n",
    "Run the code cell below to save the problematic columns to a Python list `bad_label_cols`.  Likewise, columns that can be safely ordinal encoded are stored in `good_label_cols`."
   ]
  },
  {
   "cell_type": "code",
   "execution_count": 11,
   "id": "5011067c",
   "metadata": {
    "execution": {
     "iopub.execute_input": "2021-08-28T15:09:16.655369Z",
     "iopub.status.busy": "2021-08-28T15:09:16.653924Z",
     "iopub.status.idle": "2021-08-28T15:09:16.658131Z",
     "shell.execute_reply": "2021-08-28T15:09:16.657615Z",
     "shell.execute_reply.started": "2021-08-28T14:40:06.785418Z"
    },
    "papermill": {
     "duration": 0.052703,
     "end_time": "2021-08-28T15:09:16.658276",
     "exception": false,
     "start_time": "2021-08-28T15:09:16.605573",
     "status": "completed"
    },
    "tags": []
   },
   "outputs": [
    {
     "name": "stdout",
     "output_type": "stream",
     "text": [
      "Categorical columns that will be ordinal encoded: ['MSZoning', 'Street', 'LotShape', 'LandContour', 'Utilities', 'LotConfig', 'LandSlope', 'Neighborhood', 'Condition1', 'BldgType', 'HouseStyle', 'RoofStyle', 'Exterior1st', 'Exterior2nd', 'ExterQual', 'ExterCond', 'Foundation', 'Heating', 'HeatingQC', 'CentralAir', 'KitchenQual', 'PavedDrive', 'SaleType', 'SaleCondition']\n",
      "\n",
      "Categorical columns that will be dropped from the dataset: ['Condition2', 'Functional', 'RoofMatl']\n"
     ]
    }
   ],
   "source": [
    "# Categorical columns in the training data\n",
    "object_cols = [col for col in X_train.columns if X_train[col].dtype == \"object\"]\n",
    "\n",
    "# Columns that can be safely ordinal encoded\n",
    "good_label_cols = [col for col in object_cols if \n",
    "                   set(X_valid[col]).issubset(set(X_train[col]))]\n",
    "        \n",
    "# Problematic columns that will be dropped from the dataset\n",
    "bad_label_cols = list(set(object_cols)-set(good_label_cols))\n",
    "        \n",
    "print('Categorical columns that will be ordinal encoded:', good_label_cols)\n",
    "print('\\nCategorical columns that will be dropped from the dataset:', bad_label_cols)"
   ]
  },
  {
   "cell_type": "markdown",
   "id": "395d6514",
   "metadata": {
    "papermill": {
     "duration": 0.033688,
     "end_time": "2021-08-28T15:09:16.729211",
     "exception": false,
     "start_time": "2021-08-28T15:09:16.695523",
     "status": "completed"
    },
    "tags": []
   },
   "source": [
    "### Part B\n",
    "\n",
    "Use the next code cell to ordinal encode the data in `X_train` and `X_valid`.  Set the preprocessed DataFrames to `label_X_train` and `label_X_valid`, respectively.  \n",
    "- We have provided code below to drop the categorical columns in `bad_label_cols` from the dataset. \n",
    "- You should ordinal encode the categorical columns in `good_label_cols`.  "
   ]
  },
  {
   "cell_type": "code",
   "execution_count": 12,
   "id": "a5fcf790",
   "metadata": {
    "execution": {
     "iopub.execute_input": "2021-08-28T15:09:16.810462Z",
     "iopub.status.busy": "2021-08-28T15:09:16.809087Z",
     "iopub.status.idle": "2021-08-28T15:09:16.855228Z",
     "shell.execute_reply": "2021-08-28T15:09:16.854700Z",
     "shell.execute_reply.started": "2021-08-28T14:40:06.812229Z"
    },
    "papermill": {
     "duration": 0.091966,
     "end_time": "2021-08-28T15:09:16.855375",
     "exception": false,
     "start_time": "2021-08-28T15:09:16.763409",
     "status": "completed"
    },
    "tags": []
   },
   "outputs": [
    {
     "data": {
      "application/javascript": [
       "parent.postMessage({\"jupyterEvent\": \"custom.exercise_interaction\", \"data\": {\"outcomeType\": 1, \"valueTowardsCompletion\": 0.5, \"interactionType\": 1, \"questionType\": 2, \"questionId\": \"2.2_LabelB\", \"learnToolsVersion\": \"0.3.4\", \"failureMessage\": \"\", \"exceptionClass\": \"\", \"trace\": \"\"}}, \"*\")"
      ],
      "text/plain": [
       "<IPython.core.display.Javascript object>"
      ]
     },
     "metadata": {},
     "output_type": "display_data"
    },
    {
     "data": {
      "text/markdown": [
       "<span style=\"color:#33cc33\">Correct</span>"
      ],
      "text/plain": [
       "Correct"
      ]
     },
     "metadata": {},
     "output_type": "display_data"
    }
   ],
   "source": [
    "from sklearn.preprocessing import OrdinalEncoder\n",
    "\n",
    "# Drop categorical columns that will not be encoded\n",
    "label_X_train = X_train.drop(bad_label_cols, axis=1)\n",
    "label_X_valid = X_valid.drop(bad_label_cols, axis=1)\n",
    "\n",
    "ord_train_data = X_train[good_label_cols].copy()\n",
    "ord_valid_data = X_valid[good_label_cols].copy()\n",
    "\n",
    "ordinal_encoder = OrdinalEncoder()\n",
    "ord_train_data = pd.DataFrame(ordinal_encoder.fit_transform(ord_train_data))\n",
    "ord_valid_data = pd.DataFrame(ordinal_encoder.transform(ord_valid_data))\n",
    "\n",
    "ord_train_data.index = X_train.index\n",
    "ord_valid_data.index = X_valid.index\n",
    "\n",
    "label_X_train = label_X_train.drop(good_label_cols, axis=1)\n",
    "label_X_valid = label_X_valid.drop(good_label_cols, axis=1)\n",
    "\n",
    "label_X_train = pd.concat([label_X_train, ord_train_data], axis=1)\n",
    "label_X_valid = pd.concat([label_X_valid, ord_valid_data], axis=1)\n",
    "\n",
    "# Check your answer\n",
    "step_2.b.check()"
   ]
  },
  {
   "cell_type": "code",
   "execution_count": 13,
   "id": "2bddbcac",
   "metadata": {
    "execution": {
     "iopub.execute_input": "2021-08-28T15:09:16.932001Z",
     "iopub.status.busy": "2021-08-28T15:09:16.931285Z",
     "iopub.status.idle": "2021-08-28T15:09:16.934595Z",
     "shell.execute_reply": "2021-08-28T15:09:16.934066Z"
    },
    "papermill": {
     "duration": 0.042518,
     "end_time": "2021-08-28T15:09:16.934725",
     "exception": false,
     "start_time": "2021-08-28T15:09:16.892207",
     "status": "completed"
    },
    "tags": []
   },
   "outputs": [],
   "source": [
    "# Lines below will give you a hint or solution code\n",
    "#step_2.b.hint()\n",
    "#step_2.b.solution()"
   ]
  },
  {
   "cell_type": "markdown",
   "id": "8410b79c",
   "metadata": {
    "papermill": {
     "duration": 0.035427,
     "end_time": "2021-08-28T15:09:17.006350",
     "exception": false,
     "start_time": "2021-08-28T15:09:16.970923",
     "status": "completed"
    },
    "tags": []
   },
   "source": [
    "Run the next code cell to get the MAE for this approach."
   ]
  },
  {
   "cell_type": "code",
   "execution_count": 14,
   "id": "4b196a5b",
   "metadata": {
    "execution": {
     "iopub.execute_input": "2021-08-28T15:09:17.086982Z",
     "iopub.status.busy": "2021-08-28T15:09:17.085944Z",
     "iopub.status.idle": "2021-08-28T15:09:18.717726Z",
     "shell.execute_reply": "2021-08-28T15:09:18.717071Z",
     "shell.execute_reply.started": "2021-08-28T14:40:06.875975Z"
    },
    "papermill": {
     "duration": 1.67555,
     "end_time": "2021-08-28T15:09:18.717885",
     "exception": false,
     "start_time": "2021-08-28T15:09:17.042335",
     "status": "completed"
    },
    "tags": []
   },
   "outputs": [
    {
     "name": "stdout",
     "output_type": "stream",
     "text": [
      "MAE from Approach 2 (Ordinal Encoding):\n",
      "17217.052374429226\n"
     ]
    }
   ],
   "source": [
    "print(\"MAE from Approach 2 (Ordinal Encoding):\") \n",
    "print(score_dataset(label_X_train, label_X_valid, y_train, y_valid))"
   ]
  },
  {
   "cell_type": "markdown",
   "id": "271ea93f",
   "metadata": {
    "papermill": {
     "duration": 0.036986,
     "end_time": "2021-08-28T15:09:18.793432",
     "exception": false,
     "start_time": "2021-08-28T15:09:18.756446",
     "status": "completed"
    },
    "tags": []
   },
   "source": [
    "So far, you've tried two different approaches to dealing with categorical variables.  And, you've seen that encoding categorical data yields better results than removing columns from the dataset.\n",
    "\n",
    "Soon, you'll try one-hot encoding.  Before then, there's one additional topic we need to cover.  Begin by running the next code cell without changes.  "
   ]
  },
  {
   "cell_type": "code",
   "execution_count": 15,
   "id": "98d333ca",
   "metadata": {
    "execution": {
     "iopub.execute_input": "2021-08-28T15:09:18.874757Z",
     "iopub.status.busy": "2021-08-28T15:09:18.873250Z",
     "iopub.status.idle": "2021-08-28T15:09:18.892129Z",
     "shell.execute_reply": "2021-08-28T15:09:18.891495Z",
     "shell.execute_reply.started": "2021-08-28T14:40:08.497759Z"
    },
    "papermill": {
     "duration": 0.062681,
     "end_time": "2021-08-28T15:09:18.892268",
     "exception": false,
     "start_time": "2021-08-28T15:09:18.829587",
     "status": "completed"
    },
    "tags": []
   },
   "outputs": [
    {
     "data": {
      "text/plain": [
       "[('Street', 2),\n",
       " ('Utilities', 2),\n",
       " ('CentralAir', 2),\n",
       " ('LandSlope', 3),\n",
       " ('PavedDrive', 3),\n",
       " ('LotShape', 4),\n",
       " ('LandContour', 4),\n",
       " ('ExterQual', 4),\n",
       " ('KitchenQual', 4),\n",
       " ('MSZoning', 5),\n",
       " ('LotConfig', 5),\n",
       " ('BldgType', 5),\n",
       " ('ExterCond', 5),\n",
       " ('HeatingQC', 5),\n",
       " ('Condition2', 6),\n",
       " ('RoofStyle', 6),\n",
       " ('Foundation', 6),\n",
       " ('Heating', 6),\n",
       " ('Functional', 6),\n",
       " ('SaleCondition', 6),\n",
       " ('RoofMatl', 7),\n",
       " ('HouseStyle', 8),\n",
       " ('Condition1', 9),\n",
       " ('SaleType', 9),\n",
       " ('Exterior1st', 15),\n",
       " ('Exterior2nd', 16),\n",
       " ('Neighborhood', 25)]"
      ]
     },
     "execution_count": 15,
     "metadata": {},
     "output_type": "execute_result"
    }
   ],
   "source": [
    "# Get number of unique entries in each column with categorical data\n",
    "object_nunique = list(map(lambda col: X_train[col].nunique(), object_cols))\n",
    "d = dict(zip(object_cols, object_nunique))\n",
    "\n",
    "# Print number of unique entries by column, in ascending order\n",
    "sorted(d.items(), key=lambda x: x[1])"
   ]
  },
  {
   "cell_type": "markdown",
   "id": "cbf45e58",
   "metadata": {
    "papermill": {
     "duration": 0.038953,
     "end_time": "2021-08-28T15:09:18.969157",
     "exception": false,
     "start_time": "2021-08-28T15:09:18.930204",
     "status": "completed"
    },
    "tags": []
   },
   "source": [
    "# Step 3: Investigating cardinality\n",
    "\n",
    "### Part A\n",
    "\n",
    "The output above shows, for each column with categorical data, the number of unique values in the column.  For instance, the `'Street'` column in the training data has two unique values: `'Grvl'` and `'Pave'`, corresponding to a gravel road and a paved road, respectively.\n",
    "\n",
    "We refer to the number of unique entries of a categorical variable as the **cardinality** of that categorical variable.  For instance, the `'Street'` variable has cardinality 2.\n",
    "\n",
    "Use the output above to answer the questions below."
   ]
  },
  {
   "cell_type": "code",
   "execution_count": 16,
   "id": "97f4cb51",
   "metadata": {
    "execution": {
     "iopub.execute_input": "2021-08-28T15:09:19.049800Z",
     "iopub.status.busy": "2021-08-28T15:09:19.049127Z",
     "iopub.status.idle": "2021-08-28T15:09:19.057630Z",
     "shell.execute_reply": "2021-08-28T15:09:19.056971Z",
     "shell.execute_reply.started": "2021-08-28T14:43:30.420314Z"
    },
    "papermill": {
     "duration": 0.051641,
     "end_time": "2021-08-28T15:09:19.057771",
     "exception": false,
     "start_time": "2021-08-28T15:09:19.006130",
     "status": "completed"
    },
    "tags": []
   },
   "outputs": [
    {
     "data": {
      "application/javascript": [
       "parent.postMessage({\"jupyterEvent\": \"custom.exercise_interaction\", \"data\": {\"outcomeType\": 1, \"valueTowardsCompletion\": 0.5, \"interactionType\": 1, \"questionType\": 1, \"questionId\": \"3.1_CardinalityA\", \"learnToolsVersion\": \"0.3.4\", \"failureMessage\": \"\", \"exceptionClass\": \"\", \"trace\": \"\"}}, \"*\")"
      ],
      "text/plain": [
       "<IPython.core.display.Javascript object>"
      ]
     },
     "metadata": {},
     "output_type": "display_data"
    },
    {
     "data": {
      "text/markdown": [
       "<span style=\"color:#33cc33\">Correct</span>"
      ],
      "text/plain": [
       "Correct"
      ]
     },
     "metadata": {},
     "output_type": "display_data"
    }
   ],
   "source": [
    "# Fill in the line below: How many categorical variables in the training data\n",
    "# have cardinality greater than 10?\n",
    "high_cardinality_numcols = len({k:v for k, v in d.items() if v > 10})\n",
    "\n",
    "# Fill in the line below: How many columns are needed to one-hot encode the \n",
    "# 'Neighborhood' variable in the training data?\n",
    "num_cols_neighborhood = 25\n",
    "\n",
    "# Check your answers\n",
    "step_3.a.check()"
   ]
  },
  {
   "cell_type": "code",
   "execution_count": 17,
   "id": "49a7d3b4",
   "metadata": {
    "execution": {
     "iopub.execute_input": "2021-08-28T15:09:19.140308Z",
     "iopub.status.busy": "2021-08-28T15:09:19.139614Z",
     "iopub.status.idle": "2021-08-28T15:09:19.143079Z",
     "shell.execute_reply": "2021-08-28T15:09:19.142364Z"
    },
    "papermill": {
     "duration": 0.046508,
     "end_time": "2021-08-28T15:09:19.143231",
     "exception": false,
     "start_time": "2021-08-28T15:09:19.096723",
     "status": "completed"
    },
    "tags": []
   },
   "outputs": [],
   "source": [
    "# Lines below will give you a hint or solution code\n",
    "#step_3.a.hint()\n",
    "#step_3.a.solution()"
   ]
  },
  {
   "cell_type": "markdown",
   "id": "e24b9b67",
   "metadata": {
    "papermill": {
     "duration": 0.038819,
     "end_time": "2021-08-28T15:09:19.223058",
     "exception": false,
     "start_time": "2021-08-28T15:09:19.184239",
     "status": "completed"
    },
    "tags": []
   },
   "source": [
    "### Part B\n",
    "\n",
    "For large datasets with many rows, one-hot encoding can greatly expand the size of the dataset.  For this reason, we typically will only one-hot encode columns with relatively low cardinality.  Then, high cardinality columns can either be dropped from the dataset, or we can use ordinal encoding.\n",
    "\n",
    "As an example, consider a dataset with 10,000 rows, and containing one categorical column with 100 unique entries.  \n",
    "- If this column is replaced with the corresponding one-hot encoding, how many entries are added to the dataset?  \n",
    "- If we instead replace the column with the ordinal encoding, how many entries are added?  \n",
    "\n",
    "Use your answers to fill in the lines below."
   ]
  },
  {
   "cell_type": "code",
   "execution_count": 18,
   "id": "26f22fc7",
   "metadata": {
    "execution": {
     "iopub.execute_input": "2021-08-28T15:09:19.309542Z",
     "iopub.status.busy": "2021-08-28T15:09:19.308752Z",
     "iopub.status.idle": "2021-08-28T15:09:19.315476Z",
     "shell.execute_reply": "2021-08-28T15:09:19.316019Z",
     "shell.execute_reply.started": "2021-08-28T14:48:01.780306Z"
    },
    "papermill": {
     "duration": 0.053948,
     "end_time": "2021-08-28T15:09:19.316208",
     "exception": false,
     "start_time": "2021-08-28T15:09:19.262260",
     "status": "completed"
    },
    "tags": []
   },
   "outputs": [
    {
     "data": {
      "application/javascript": [
       "parent.postMessage({\"jupyterEvent\": \"custom.exercise_interaction\", \"data\": {\"outcomeType\": 1, \"valueTowardsCompletion\": 0.5, \"interactionType\": 1, \"questionType\": 1, \"questionId\": \"3.2_CardinalityB\", \"learnToolsVersion\": \"0.3.4\", \"failureMessage\": \"\", \"exceptionClass\": \"\", \"trace\": \"\"}}, \"*\")"
      ],
      "text/plain": [
       "<IPython.core.display.Javascript object>"
      ]
     },
     "metadata": {},
     "output_type": "display_data"
    },
    {
     "data": {
      "text/markdown": [
       "<span style=\"color:#33cc33\">Correct</span>"
      ],
      "text/plain": [
       "Correct"
      ]
     },
     "metadata": {},
     "output_type": "display_data"
    }
   ],
   "source": [
    "# Fill in the line below: How many entries are added to the dataset by \n",
    "# replacing the column with a one-hot encoding?\n",
    "OH_entries_added = 10000 * 100 - 10000\n",
    "\n",
    "# Fill in the line below: How many entries are added to the dataset by\n",
    "# replacing the column with an ordinal encoding?\n",
    "label_entries_added = 0\n",
    "\n",
    "# Check your answers\n",
    "step_3.b.check()"
   ]
  },
  {
   "cell_type": "code",
   "execution_count": 19,
   "id": "6779c635",
   "metadata": {
    "execution": {
     "iopub.execute_input": "2021-08-28T15:09:19.406831Z",
     "iopub.status.busy": "2021-08-28T15:09:19.406163Z",
     "iopub.status.idle": "2021-08-28T15:09:19.408973Z",
     "shell.execute_reply": "2021-08-28T15:09:19.409462Z"
    },
    "papermill": {
     "duration": 0.05121,
     "end_time": "2021-08-28T15:09:19.409634",
     "exception": false,
     "start_time": "2021-08-28T15:09:19.358424",
     "status": "completed"
    },
    "tags": []
   },
   "outputs": [],
   "source": [
    "# Lines below will give you a hint or solution code\n",
    "#step_3.b.hint()\n",
    "#step_3.b.solution()"
   ]
  },
  {
   "cell_type": "markdown",
   "id": "377583ee",
   "metadata": {
    "papermill": {
     "duration": 0.040002,
     "end_time": "2021-08-28T15:09:19.490699",
     "exception": false,
     "start_time": "2021-08-28T15:09:19.450697",
     "status": "completed"
    },
    "tags": []
   },
   "source": [
    "Next, you'll experiment with one-hot encoding.  But, instead of encoding all of the categorical variables in the dataset, you'll only create a one-hot encoding for columns with cardinality less than 10.\n",
    "\n",
    "Run the code cell below without changes to set `low_cardinality_cols` to a Python list containing the columns that will be one-hot encoded.  Likewise, `high_cardinality_cols` contains a list of categorical columns that will be dropped from the dataset."
   ]
  },
  {
   "cell_type": "code",
   "execution_count": 20,
   "id": "5b4b8484",
   "metadata": {
    "execution": {
     "iopub.execute_input": "2021-08-28T15:09:19.579660Z",
     "iopub.status.busy": "2021-08-28T15:09:19.577329Z",
     "iopub.status.idle": "2021-08-28T15:09:19.595119Z",
     "shell.execute_reply": "2021-08-28T15:09:19.594411Z",
     "shell.execute_reply.started": "2021-08-28T14:49:21.943990Z"
    },
    "papermill": {
     "duration": 0.065653,
     "end_time": "2021-08-28T15:09:19.595271",
     "exception": false,
     "start_time": "2021-08-28T15:09:19.529618",
     "status": "completed"
    },
    "tags": []
   },
   "outputs": [
    {
     "name": "stdout",
     "output_type": "stream",
     "text": [
      "Categorical columns that will be one-hot encoded: ['MSZoning', 'Street', 'LotShape', 'LandContour', 'Utilities', 'LotConfig', 'LandSlope', 'Condition1', 'Condition2', 'BldgType', 'HouseStyle', 'RoofStyle', 'RoofMatl', 'ExterQual', 'ExterCond', 'Foundation', 'Heating', 'HeatingQC', 'CentralAir', 'KitchenQual', 'Functional', 'PavedDrive', 'SaleType', 'SaleCondition']\n",
      "\n",
      "Categorical columns that will be dropped from the dataset: ['Neighborhood', 'Exterior1st', 'Exterior2nd']\n"
     ]
    }
   ],
   "source": [
    "# Columns that will be one-hot encoded\n",
    "low_cardinality_cols = [col for col in object_cols if X_train[col].nunique() < 10]\n",
    "\n",
    "# Columns that will be dropped from the dataset\n",
    "high_cardinality_cols = list(set(object_cols)-set(low_cardinality_cols))\n",
    "\n",
    "print('Categorical columns that will be one-hot encoded:', low_cardinality_cols)\n",
    "print('\\nCategorical columns that will be dropped from the dataset:', high_cardinality_cols)"
   ]
  },
  {
   "cell_type": "markdown",
   "id": "26def438",
   "metadata": {
    "papermill": {
     "duration": 0.04076,
     "end_time": "2021-08-28T15:09:19.677012",
     "exception": false,
     "start_time": "2021-08-28T15:09:19.636252",
     "status": "completed"
    },
    "tags": []
   },
   "source": [
    "# Step 4: One-hot encoding\n",
    "\n",
    "Use the next code cell to one-hot encode the data in `X_train` and `X_valid`.  Set the preprocessed DataFrames to `OH_X_train` and `OH_X_valid`, respectively.  \n",
    "- The full list of categorical columns in the dataset can be found in the Python list `object_cols`.\n",
    "- You should only one-hot encode the categorical columns in `low_cardinality_cols`.  All other categorical columns should be dropped from the dataset. "
   ]
  },
  {
   "cell_type": "code",
   "execution_count": 21,
   "id": "38aa26a5",
   "metadata": {
    "execution": {
     "iopub.execute_input": "2021-08-28T15:09:19.763229Z",
     "iopub.status.busy": "2021-08-28T15:09:19.762473Z",
     "iopub.status.idle": "2021-08-28T15:09:19.766831Z",
     "shell.execute_reply": "2021-08-28T15:09:19.766309Z",
     "shell.execute_reply.started": "2021-08-28T15:03:29.938680Z"
    },
    "papermill": {
     "duration": 0.048957,
     "end_time": "2021-08-28T15:09:19.766999",
     "exception": false,
     "start_time": "2021-08-28T15:09:19.718042",
     "status": "completed"
    },
    "tags": []
   },
   "outputs": [
    {
     "data": {
      "text/plain": [
       "{'1stFlrSF',\n",
       " '2ndFlrSF',\n",
       " '3SsnPorch',\n",
       " 'BedroomAbvGr',\n",
       " 'BsmtFinSF1',\n",
       " 'BsmtFinSF2',\n",
       " 'BsmtFullBath',\n",
       " 'BsmtHalfBath',\n",
       " 'BsmtUnfSF',\n",
       " 'EnclosedPorch',\n",
       " 'Fireplaces',\n",
       " 'FullBath',\n",
       " 'GarageArea',\n",
       " 'GarageCars',\n",
       " 'GrLivArea',\n",
       " 'HalfBath',\n",
       " 'KitchenAbvGr',\n",
       " 'LotArea',\n",
       " 'LowQualFinSF',\n",
       " 'MSSubClass',\n",
       " 'MiscVal',\n",
       " 'MoSold',\n",
       " 'OpenPorchSF',\n",
       " 'OverallCond',\n",
       " 'OverallQual',\n",
       " 'PoolArea',\n",
       " 'ScreenPorch',\n",
       " 'TotRmsAbvGrd',\n",
       " 'TotalBsmtSF',\n",
       " 'WoodDeckSF',\n",
       " 'YearBuilt',\n",
       " 'YearRemodAdd',\n",
       " 'YrSold'}"
      ]
     },
     "execution_count": 21,
     "metadata": {},
     "output_type": "execute_result"
    }
   ],
   "source": [
    "set(X_train.columns)-set(object_cols)"
   ]
  },
  {
   "cell_type": "code",
   "execution_count": 22,
   "id": "562270bc",
   "metadata": {
    "execution": {
     "iopub.execute_input": "2021-08-28T15:09:19.865737Z",
     "iopub.status.busy": "2021-08-28T15:09:19.857112Z",
     "iopub.status.idle": "2021-08-28T15:09:19.904454Z",
     "shell.execute_reply": "2021-08-28T15:09:19.903766Z",
     "shell.execute_reply.started": "2021-08-28T15:07:47.663689Z"
    },
    "papermill": {
     "duration": 0.096126,
     "end_time": "2021-08-28T15:09:19.904597",
     "exception": false,
     "start_time": "2021-08-28T15:09:19.808471",
     "status": "completed"
    },
    "tags": []
   },
   "outputs": [
    {
     "data": {
      "application/javascript": [
       "parent.postMessage({\"jupyterEvent\": \"custom.exercise_interaction\", \"data\": {\"outcomeType\": 1, \"valueTowardsCompletion\": 0.5, \"interactionType\": 1, \"questionType\": 2, \"questionId\": \"4_OneHot\", \"learnToolsVersion\": \"0.3.4\", \"failureMessage\": \"\", \"exceptionClass\": \"\", \"trace\": \"\"}}, \"*\")"
      ],
      "text/plain": [
       "<IPython.core.display.Javascript object>"
      ]
     },
     "metadata": {},
     "output_type": "display_data"
    },
    {
     "data": {
      "text/markdown": [
       "<span style=\"color:#33cc33\">Correct</span>"
      ],
      "text/plain": [
       "Correct"
      ]
     },
     "metadata": {},
     "output_type": "display_data"
    }
   ],
   "source": [
    "from sklearn.preprocessing import OneHotEncoder\n",
    "\n",
    "# Use as many lines of code as you need!\n",
    "ohe = OneHotEncoder(handle_unknown='ignore', sparse=False)\n",
    "ohe.fit(X_train[low_cardinality_cols])\n",
    "ohe_train = pd.DataFrame(ohe.transform(X_train[low_cardinality_cols]))\n",
    "ohe_valid = pd.DataFrame(ohe.transform(X_valid[low_cardinality_cols]))\n",
    "\n",
    "ohe_train.index = X_train.index\n",
    "ohe_valid.index = X_valid.index\n",
    "\n",
    "OH_X_train = pd.concat([ohe_train, X_train.drop(object_cols, axis=1)],axis=1) # Your code here\n",
    "OH_X_valid = pd.concat([ohe_valid, X_valid.drop(object_cols, axis=1)],axis=1) # Your code here\n",
    "\n",
    "# Check your answer\n",
    "step_4.check()"
   ]
  },
  {
   "cell_type": "code",
   "execution_count": 23,
   "id": "0d21a38a",
   "metadata": {
    "execution": {
     "iopub.execute_input": "2021-08-28T15:09:19.992740Z",
     "iopub.status.busy": "2021-08-28T15:09:19.992028Z",
     "iopub.status.idle": "2021-08-28T15:09:19.995576Z",
     "shell.execute_reply": "2021-08-28T15:09:19.994906Z"
    },
    "papermill": {
     "duration": 0.049271,
     "end_time": "2021-08-28T15:09:19.995726",
     "exception": false,
     "start_time": "2021-08-28T15:09:19.946455",
     "status": "completed"
    },
    "tags": []
   },
   "outputs": [],
   "source": [
    "# Lines below will give you a hint or solution code\n",
    "#step_4.hint()\n",
    "#step_4.solution()"
   ]
  },
  {
   "cell_type": "markdown",
   "id": "814806a4",
   "metadata": {
    "papermill": {
     "duration": 0.043075,
     "end_time": "2021-08-28T15:09:20.082067",
     "exception": false,
     "start_time": "2021-08-28T15:09:20.038992",
     "status": "completed"
    },
    "tags": []
   },
   "source": [
    "Run the next code cell to get the MAE for this approach."
   ]
  },
  {
   "cell_type": "code",
   "execution_count": 24,
   "id": "f627762f",
   "metadata": {
    "execution": {
     "iopub.execute_input": "2021-08-28T15:09:20.174150Z",
     "iopub.status.busy": "2021-08-28T15:09:20.173335Z",
     "iopub.status.idle": "2021-08-28T15:09:22.206461Z",
     "shell.execute_reply": "2021-08-28T15:09:22.205944Z",
     "shell.execute_reply.started": "2021-08-28T15:07:54.937100Z"
    },
    "papermill": {
     "duration": 2.083,
     "end_time": "2021-08-28T15:09:22.206608",
     "exception": false,
     "start_time": "2021-08-28T15:09:20.123608",
     "status": "completed"
    },
    "tags": []
   },
   "outputs": [
    {
     "name": "stdout",
     "output_type": "stream",
     "text": [
      "MAE from Approach 3 (One-Hot Encoding):\n",
      "17537.55444063927\n"
     ]
    }
   ],
   "source": [
    "print(\"MAE from Approach 3 (One-Hot Encoding):\") \n",
    "print(score_dataset(OH_X_train, OH_X_valid, y_train, y_valid))"
   ]
  },
  {
   "cell_type": "markdown",
   "id": "9fc2e630",
   "metadata": {
    "papermill": {
     "duration": 0.040847,
     "end_time": "2021-08-28T15:09:22.289231",
     "exception": false,
     "start_time": "2021-08-28T15:09:22.248384",
     "status": "completed"
    },
    "tags": []
   },
   "source": [
    "# Generate test predictions and submit your results\n",
    "\n",
    "After you complete Step 4, if you'd like to use what you've learned to submit your results to the leaderboard, you'll need to preprocess the test data before generating predictions.\n",
    "\n",
    "**This step is completely optional, and you do not need to submit results to the leaderboard to successfully complete the exercise.**\n",
    "\n",
    "Check out the previous exercise if you need help with remembering how to [join the competition](https://www.kaggle.com/c/home-data-for-ml-course) or save your results to CSV.  Once you have generated a file with your results, follow the instructions below:\n",
    "1. Begin by clicking on the **Save Version** button in the top right corner of the window.  This will generate a pop-up window.  \n",
    "2. Ensure that the **Save and Run All** option is selected, and then click on the **Save** button.\n",
    "3. This generates a window in the bottom left corner of the notebook.  After it has finished running, click on the number to the right of the **Save Version** button.  This pulls up a list of versions on the right of the screen.  Click on the ellipsis **(...)** to the right of the most recent version, and select **Open in Viewer**.  This brings you into view mode of the same page. You will need to scroll down to get back to these instructions.\n",
    "4. Click on the **Output** tab on the right of the screen.  Then, click on the file you would like to submit, and click on the blue **Submit** button to submit your results to the leaderboard.\n",
    "\n",
    "You have now successfully submitted to the competition!\n",
    "\n",
    "If you want to keep working to improve your performance, select the **Edit** button in the top right of the screen. Then you can change your code and repeat the process. There's a lot of room to improve, and you will climb up the leaderboard as you work.\n"
   ]
  },
  {
   "cell_type": "code",
   "execution_count": 25,
   "id": "4a84262e",
   "metadata": {
    "execution": {
     "iopub.execute_input": "2021-08-28T15:09:22.380482Z",
     "iopub.status.busy": "2021-08-28T15:09:22.379435Z",
     "iopub.status.idle": "2021-08-28T15:09:22.382372Z",
     "shell.execute_reply": "2021-08-28T15:09:22.381735Z"
    },
    "papermill": {
     "duration": 0.052,
     "end_time": "2021-08-28T15:09:22.382523",
     "exception": false,
     "start_time": "2021-08-28T15:09:22.330523",
     "status": "completed"
    },
    "tags": []
   },
   "outputs": [],
   "source": [
    "# (Optional) Your code here"
   ]
  },
  {
   "cell_type": "markdown",
   "id": "15ce9e28",
   "metadata": {
    "papermill": {
     "duration": 0.041067,
     "end_time": "2021-08-28T15:09:22.466936",
     "exception": false,
     "start_time": "2021-08-28T15:09:22.425869",
     "status": "completed"
    },
    "tags": []
   },
   "source": [
    "# Keep going\n",
    "\n",
    "With missing value handling and categorical encoding, your modeling process is getting complex. This complexity gets worse when you want to save your model to use in the future. The key to managing this complexity is something called **pipelines**. \n",
    "\n",
    "**[Learn to use pipelines](https://www.kaggle.com/alexisbcook/pipelines)** to preprocess datasets with categorical variables, missing values and any other messiness your data throws at you."
   ]
  },
  {
   "cell_type": "markdown",
   "id": "55604594",
   "metadata": {
    "papermill": {
     "duration": 0.04344,
     "end_time": "2021-08-28T15:09:22.552549",
     "exception": false,
     "start_time": "2021-08-28T15:09:22.509109",
     "status": "completed"
    },
    "tags": []
   },
   "source": [
    "---\n",
    "\n",
    "\n",
    "\n",
    "\n",
    "*Have questions or comments? Visit the [Learn Discussion forum](https://www.kaggle.com/learn-forum/161289) to chat with other Learners.*"
   ]
  }
 ],
 "metadata": {
  "kernelspec": {
   "display_name": "Python 3",
   "language": "python",
   "name": "python3"
  },
  "language_info": {
   "codemirror_mode": {
    "name": "ipython",
    "version": 3
   },
   "file_extension": ".py",
   "mimetype": "text/x-python",
   "name": "python",
   "nbconvert_exporter": "python",
   "pygments_lexer": "ipython3",
   "version": "3.7.10"
  },
  "papermill": {
   "default_parameters": {},
   "duration": 20.954794,
   "end_time": "2021-08-28T15:09:24.365178",
   "environment_variables": {},
   "exception": null,
   "input_path": "__notebook__.ipynb",
   "output_path": "__notebook__.ipynb",
   "parameters": {},
   "start_time": "2021-08-28T15:09:03.410384",
   "version": "2.3.3"
  }
 },
 "nbformat": 4,
 "nbformat_minor": 5
}
