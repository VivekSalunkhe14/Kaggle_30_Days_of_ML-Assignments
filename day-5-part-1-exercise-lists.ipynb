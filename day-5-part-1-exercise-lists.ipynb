{
 "cells": [
  {
   "cell_type": "markdown",
   "id": "4bee74a3",
   "metadata": {
    "papermill": {
     "duration": 0.016487,
     "end_time": "2021-08-24T07:16:23.534820",
     "exception": false,
     "start_time": "2021-08-24T07:16:23.518333",
     "status": "completed"
    },
    "tags": []
   },
   "source": [
    "**This notebook is an exercise in the [Python](https://www.kaggle.com/learn/python) course.  You can reference the tutorial at [this link](https://www.kaggle.com/colinmorris/lists).**\n",
    "\n",
    "---\n"
   ]
  },
  {
   "cell_type": "markdown",
   "id": "3c65efd2",
   "metadata": {
    "papermill": {
     "duration": 0.014921,
     "end_time": "2021-08-24T07:16:23.565745",
     "exception": false,
     "start_time": "2021-08-24T07:16:23.550824",
     "status": "completed"
    },
    "tags": []
   },
   "source": [
    "Things get more interesting with lists. You'll apply your new knowledge to solve the questions below. Remember to run the following cell first."
   ]
  },
  {
   "cell_type": "code",
   "execution_count": 1,
   "id": "ca0766c4",
   "metadata": {
    "execution": {
     "iopub.execute_input": "2021-08-24T07:16:23.610036Z",
     "iopub.status.busy": "2021-08-24T07:16:23.609350Z",
     "iopub.status.idle": "2021-08-24T07:16:23.743375Z",
     "shell.execute_reply": "2021-08-24T07:16:23.742286Z",
     "shell.execute_reply.started": "2021-08-24T06:45:44.448844Z"
    },
    "papermill": {
     "duration": 0.161028,
     "end_time": "2021-08-24T07:16:23.743654",
     "exception": false,
     "start_time": "2021-08-24T07:16:23.582626",
     "status": "completed"
    },
    "tags": []
   },
   "outputs": [
    {
     "name": "stdout",
     "output_type": "stream",
     "text": [
      "Setup complete.\n"
     ]
    }
   ],
   "source": [
    "from learntools.core import binder; binder.bind(globals())\n",
    "from learntools.python.ex4 import *\n",
    "print('Setup complete.')"
   ]
  },
  {
   "cell_type": "markdown",
   "id": "47e3e4b2",
   "metadata": {
    "papermill": {
     "duration": 0.015916,
     "end_time": "2021-08-24T07:16:23.777708",
     "exception": false,
     "start_time": "2021-08-24T07:16:23.761792",
     "status": "completed"
    },
    "tags": []
   },
   "source": [
    "# 1.\n",
    "\n",
    "Complete the function below according to its docstring."
   ]
  },
  {
   "cell_type": "code",
   "execution_count": 2,
   "id": "26c0f02d",
   "metadata": {
    "execution": {
     "iopub.execute_input": "2021-08-24T07:16:23.819334Z",
     "iopub.status.busy": "2021-08-24T07:16:23.818634Z",
     "iopub.status.idle": "2021-08-24T07:16:23.825221Z",
     "shell.execute_reply": "2021-08-24T07:16:23.824599Z",
     "shell.execute_reply.started": "2021-08-24T06:46:27.160746Z"
    },
    "papermill": {
     "duration": 0.030933,
     "end_time": "2021-08-24T07:16:23.825356",
     "exception": false,
     "start_time": "2021-08-24T07:16:23.794423",
     "status": "completed"
    },
    "tags": []
   },
   "outputs": [
    {
     "data": {
      "application/javascript": [
       "parent.postMessage({\"jupyterEvent\": \"custom.exercise_interaction\", \"data\": {\"outcomeType\": 1, \"valueTowardsCompletion\": 0.2, \"interactionType\": 1, \"questionType\": 2, \"questionId\": \"1_SelectSecondItem\", \"learnToolsVersion\": \"0.3.4\", \"failureMessage\": \"\", \"exceptionClass\": \"\", \"trace\": \"\"}}, \"*\")"
      ],
      "text/plain": [
       "<IPython.core.display.Javascript object>"
      ]
     },
     "metadata": {},
     "output_type": "display_data"
    },
    {
     "data": {
      "text/markdown": [
       "<span style=\"color:#33cc33\">Correct</span>"
      ],
      "text/plain": [
       "Correct"
      ]
     },
     "metadata": {},
     "output_type": "display_data"
    }
   ],
   "source": [
    "def select_second(L):\n",
    "    \"\"\"Return the second element of the given list. If the list has no second\n",
    "    element, return None.\n",
    "    \"\"\"\n",
    "    return (None if len(L) < 2 else L[1])\n",
    "\n",
    "# Check your answer\n",
    "q1.check()"
   ]
  },
  {
   "cell_type": "code",
   "execution_count": 3,
   "id": "aa4aec26",
   "metadata": {
    "execution": {
     "iopub.execute_input": "2021-08-24T07:16:23.863779Z",
     "iopub.status.busy": "2021-08-24T07:16:23.863085Z",
     "iopub.status.idle": "2021-08-24T07:16:23.866377Z",
     "shell.execute_reply": "2021-08-24T07:16:23.865808Z"
    },
    "papermill": {
     "duration": 0.024099,
     "end_time": "2021-08-24T07:16:23.866537",
     "exception": false,
     "start_time": "2021-08-24T07:16:23.842438",
     "status": "completed"
    },
    "tags": []
   },
   "outputs": [],
   "source": [
    "#q1.hint()\n",
    "#q1.solution()"
   ]
  },
  {
   "cell_type": "markdown",
   "id": "4fc03ea3",
   "metadata": {
    "papermill": {
     "duration": 0.016709,
     "end_time": "2021-08-24T07:16:23.901072",
     "exception": false,
     "start_time": "2021-08-24T07:16:23.884363",
     "status": "completed"
    },
    "tags": []
   },
   "source": [
    "# 2.\n",
    "\n",
    "You are analyzing sports teams.  Members of each team are stored in a list. The Coach is the first name in the list, the captain is the second name in the list, and other players are listed after that. \n",
    "These lists are stored in another list, which starts with the best team and proceeds through the list to the worst team last.  Complete the function below to select the **captain** of the worst team."
   ]
  },
  {
   "cell_type": "code",
   "execution_count": 4,
   "id": "552d31d2",
   "metadata": {
    "execution": {
     "iopub.execute_input": "2021-08-24T07:16:23.940872Z",
     "iopub.status.busy": "2021-08-24T07:16:23.940194Z",
     "iopub.status.idle": "2021-08-24T07:16:23.942891Z",
     "shell.execute_reply": "2021-08-24T07:16:23.943407Z",
     "shell.execute_reply.started": "2021-08-24T06:51:04.610923Z"
    },
    "papermill": {
     "duration": 0.024831,
     "end_time": "2021-08-24T07:16:23.943602",
     "exception": false,
     "start_time": "2021-08-24T07:16:23.918771",
     "status": "completed"
    },
    "tags": []
   },
   "outputs": [],
   "source": [
    "teams = [\n",
    "    [\"co1\",\"ca1\"],\n",
    "    [\"co2\",\"ca2\"],\n",
    "    [\"co3\",\"ca3\"],\n",
    "    [\"co4\",\"ca4\"]\n",
    "]"
   ]
  },
  {
   "cell_type": "code",
   "execution_count": 5,
   "id": "24e00278",
   "metadata": {
    "execution": {
     "iopub.execute_input": "2021-08-24T07:16:23.984436Z",
     "iopub.status.busy": "2021-08-24T07:16:23.983501Z",
     "iopub.status.idle": "2021-08-24T07:16:23.988288Z",
     "shell.execute_reply": "2021-08-24T07:16:23.987507Z",
     "shell.execute_reply.started": "2021-08-24T06:51:51.764014Z"
    },
    "papermill": {
     "duration": 0.027708,
     "end_time": "2021-08-24T07:16:23.988428",
     "exception": false,
     "start_time": "2021-08-24T07:16:23.960720",
     "status": "completed"
    },
    "tags": []
   },
   "outputs": [
    {
     "data": {
      "text/plain": [
       "'ca4'"
      ]
     },
     "execution_count": 5,
     "metadata": {},
     "output_type": "execute_result"
    }
   ],
   "source": [
    "teams[len(teams)-1][1]"
   ]
  },
  {
   "cell_type": "code",
   "execution_count": 6,
   "id": "ecb8323d",
   "metadata": {
    "execution": {
     "iopub.execute_input": "2021-08-24T07:16:24.029746Z",
     "iopub.status.busy": "2021-08-24T07:16:24.029001Z",
     "iopub.status.idle": "2021-08-24T07:16:24.036492Z",
     "shell.execute_reply": "2021-08-24T07:16:24.035964Z",
     "shell.execute_reply.started": "2021-08-24T06:52:05.493905Z"
    },
    "papermill": {
     "duration": 0.030789,
     "end_time": "2021-08-24T07:16:24.036645",
     "exception": false,
     "start_time": "2021-08-24T07:16:24.005856",
     "status": "completed"
    },
    "tags": []
   },
   "outputs": [
    {
     "data": {
      "application/javascript": [
       "parent.postMessage({\"jupyterEvent\": \"custom.exercise_interaction\", \"data\": {\"outcomeType\": 1, \"valueTowardsCompletion\": 0.2, \"interactionType\": 1, \"questionType\": 2, \"questionId\": \"2_LosingTeamCaptain\", \"learnToolsVersion\": \"0.3.4\", \"failureMessage\": \"\", \"exceptionClass\": \"\", \"trace\": \"\"}}, \"*\")"
      ],
      "text/plain": [
       "<IPython.core.display.Javascript object>"
      ]
     },
     "metadata": {},
     "output_type": "display_data"
    },
    {
     "data": {
      "text/markdown": [
       "<span style=\"color:#33cc33\">Correct</span>"
      ],
      "text/plain": [
       "Correct"
      ]
     },
     "metadata": {},
     "output_type": "display_data"
    }
   ],
   "source": [
    "def losing_team_captain(teams):\n",
    "    \"\"\"Given a list of teams, where each team is a list of names, return the 2nd player (captain)\n",
    "    from the last listed team\n",
    "    \"\"\"\n",
    "    return teams[len(teams)-1][1]\n",
    "\n",
    "# Check your answer\n",
    "q2.check()"
   ]
  },
  {
   "cell_type": "code",
   "execution_count": 7,
   "id": "2f189a43",
   "metadata": {
    "collapsed": true,
    "execution": {
     "iopub.execute_input": "2021-08-24T07:16:24.079018Z",
     "iopub.status.busy": "2021-08-24T07:16:24.078223Z",
     "iopub.status.idle": "2021-08-24T07:16:24.081927Z",
     "shell.execute_reply": "2021-08-24T07:16:24.080882Z"
    },
    "jupyter": {
     "outputs_hidden": true
    },
    "papermill": {
     "duration": 0.026354,
     "end_time": "2021-08-24T07:16:24.082072",
     "exception": false,
     "start_time": "2021-08-24T07:16:24.055718",
     "status": "completed"
    },
    "tags": []
   },
   "outputs": [],
   "source": [
    "#q2.hint()\n",
    "#q2.solution()"
   ]
  },
  {
   "cell_type": "markdown",
   "id": "f8ef0983",
   "metadata": {
    "papermill": {
     "duration": 0.0177,
     "end_time": "2021-08-24T07:16:24.118364",
     "exception": false,
     "start_time": "2021-08-24T07:16:24.100664",
     "status": "completed"
    },
    "tags": []
   },
   "source": [
    "# 3.\n",
    "\n",
    "The next iteration of Mario Kart will feature an extra-infuriating new item, the *Purple Shell*. When used, it warps the last place racer into first place and the first place racer into last place. Complete the function below to implement the Purple Shell's effect."
   ]
  },
  {
   "cell_type": "code",
   "execution_count": 8,
   "id": "c5676be1",
   "metadata": {
    "execution": {
     "iopub.execute_input": "2021-08-24T07:16:24.163822Z",
     "iopub.status.busy": "2021-08-24T07:16:24.162376Z",
     "iopub.status.idle": "2021-08-24T07:16:24.168806Z",
     "shell.execute_reply": "2021-08-24T07:16:24.168275Z",
     "shell.execute_reply.started": "2021-08-24T06:58:13.438905Z"
    },
    "papermill": {
     "duration": 0.031371,
     "end_time": "2021-08-24T07:16:24.168951",
     "exception": false,
     "start_time": "2021-08-24T07:16:24.137580",
     "status": "completed"
    },
    "tags": []
   },
   "outputs": [
    {
     "data": {
      "application/javascript": [
       "parent.postMessage({\"jupyterEvent\": \"custom.exercise_interaction\", \"data\": {\"outcomeType\": 1, \"valueTowardsCompletion\": 0.2, \"interactionType\": 1, \"questionType\": 2, \"questionId\": \"3_PurpleShell\", \"learnToolsVersion\": \"0.3.4\", \"failureMessage\": \"\", \"exceptionClass\": \"\", \"trace\": \"\"}}, \"*\")"
      ],
      "text/plain": [
       "<IPython.core.display.Javascript object>"
      ]
     },
     "metadata": {},
     "output_type": "display_data"
    },
    {
     "data": {
      "text/markdown": [
       "<span style=\"color:#33cc33\">Correct</span>"
      ],
      "text/plain": [
       "Correct"
      ]
     },
     "metadata": {},
     "output_type": "display_data"
    }
   ],
   "source": [
    "def purple_shell(racers):\n",
    "    \"\"\"Given a list of racers, set the first place racer (at the front of the list) to last\n",
    "    place and vice versa.\n",
    "    \n",
    "    >>> r = [\"Mario\", \"Bowser\", \"Luigi\"]\n",
    "    >>> purple_shell(r)\n",
    "    >>> r\n",
    "    [\"Luigi\", \"Bowser\", \"Mario\"]\n",
    "    \"\"\"\n",
    "    racers[0], racers[-1] = racers[-1], racers[0]\n",
    "\n",
    "# Check your answer\n",
    "q3.check()"
   ]
  },
  {
   "cell_type": "code",
   "execution_count": 9,
   "id": "22c698f4",
   "metadata": {
    "collapsed": true,
    "execution": {
     "iopub.execute_input": "2021-08-24T07:16:24.212422Z",
     "iopub.status.busy": "2021-08-24T07:16:24.211440Z",
     "iopub.status.idle": "2021-08-24T07:16:24.214904Z",
     "shell.execute_reply": "2021-08-24T07:16:24.214249Z"
    },
    "jupyter": {
     "outputs_hidden": true
    },
    "papermill": {
     "duration": 0.026429,
     "end_time": "2021-08-24T07:16:24.215045",
     "exception": false,
     "start_time": "2021-08-24T07:16:24.188616",
     "status": "completed"
    },
    "tags": []
   },
   "outputs": [],
   "source": [
    "#q3.hint()\n",
    "#q3.solution()"
   ]
  },
  {
   "cell_type": "markdown",
   "id": "46007739",
   "metadata": {
    "papermill": {
     "duration": 0.018972,
     "end_time": "2021-08-24T07:16:24.253981",
     "exception": false,
     "start_time": "2021-08-24T07:16:24.235009",
     "status": "completed"
    },
    "tags": []
   },
   "source": [
    "# 4.\n",
    "\n",
    "What are the lengths of the following lists? Fill in the variable `lengths` with your predictions. (Try to make a prediction for each list *without* just calling `len()` on it.)"
   ]
  },
  {
   "cell_type": "code",
   "execution_count": 10,
   "id": "513a672e",
   "metadata": {
    "execution": {
     "iopub.execute_input": "2021-08-24T07:16:24.295767Z",
     "iopub.status.busy": "2021-08-24T07:16:24.295126Z",
     "iopub.status.idle": "2021-08-24T07:16:24.305126Z",
     "shell.execute_reply": "2021-08-24T07:16:24.304447Z",
     "shell.execute_reply.started": "2021-08-24T06:59:54.942999Z"
    },
    "papermill": {
     "duration": 0.031922,
     "end_time": "2021-08-24T07:16:24.305266",
     "exception": false,
     "start_time": "2021-08-24T07:16:24.273344",
     "status": "completed"
    },
    "tags": []
   },
   "outputs": [
    {
     "data": {
      "application/javascript": [
       "parent.postMessage({\"jupyterEvent\": \"custom.exercise_interaction\", \"data\": {\"outcomeType\": 1, \"valueTowardsCompletion\": 0.2, \"interactionType\": 1, \"questionType\": 1, \"questionId\": \"4_UnderstandLen\", \"learnToolsVersion\": \"0.3.4\", \"failureMessage\": \"\", \"exceptionClass\": \"\", \"trace\": \"\"}}, \"*\")"
      ],
      "text/plain": [
       "<IPython.core.display.Javascript object>"
      ]
     },
     "metadata": {},
     "output_type": "display_data"
    },
    {
     "data": {
      "text/markdown": [
       "<span style=\"color:#33cc33\">Correct:</span> \n",
       "\n",
       "\n",
       "- a: There are three items in this list. Nothing tricky yet.\n",
       "- b: The list `[2, 3]` counts as a single item. It has one item before it. So we have 2 items in the list\n",
       "- c: The empty list has 0 items\n",
       "- d: The expression is the same as the list `[2, 3]`, which has length 2."
      ],
      "text/plain": [
       "Correct: \n",
       "\n",
       "\n",
       "- a: There are three items in this list. Nothing tricky yet.\n",
       "- b: The list `[2, 3]` counts as a single item. It has one item before it. So we have 2 items in the list\n",
       "- c: The empty list has 0 items\n",
       "- d: The expression is the same as the list `[2, 3]`, which has length 2."
      ]
     },
     "metadata": {},
     "output_type": "display_data"
    }
   ],
   "source": [
    "a = [1, 2, 3]\n",
    "b = [1, [2, 3]]\n",
    "c = []\n",
    "d = [1, 2, 3][1:]\n",
    "\n",
    "# Put your predictions in the list below. Lengths should contain 4 numbers, the\n",
    "# first being the length of a, the second being the length of b and so on.\n",
    "lengths = [3, 2, 0, 2]\n",
    "\n",
    "# Check your answer\n",
    "q4.check()"
   ]
  },
  {
   "cell_type": "code",
   "execution_count": 11,
   "id": "2d5456d7",
   "metadata": {
    "collapsed": true,
    "execution": {
     "iopub.execute_input": "2021-08-24T07:16:24.352137Z",
     "iopub.status.busy": "2021-08-24T07:16:24.351429Z",
     "iopub.status.idle": "2021-08-24T07:16:24.353864Z",
     "shell.execute_reply": "2021-08-24T07:16:24.353315Z"
    },
    "jupyter": {
     "outputs_hidden": true
    },
    "papermill": {
     "duration": 0.027854,
     "end_time": "2021-08-24T07:16:24.353999",
     "exception": false,
     "start_time": "2021-08-24T07:16:24.326145",
     "status": "completed"
    },
    "tags": []
   },
   "outputs": [],
   "source": [
    "# line below provides some explanation\n",
    "#q4.solution()"
   ]
  },
  {
   "cell_type": "markdown",
   "id": "1b2f6fef",
   "metadata": {
    "papermill": {
     "duration": 0.021109,
     "end_time": "2021-08-24T07:16:24.395906",
     "exception": false,
     "start_time": "2021-08-24T07:16:24.374797",
     "status": "completed"
    },
    "tags": []
   },
   "source": [
    "# 5. <span title=\"A bit spicy\" style=\"color: darkgreen \">🌶️</span>\n",
    "\n",
    "We're using lists to record people who attended our party and what order they arrived in. For example, the following list represents a party with 7 guests, in which Adela showed up first and Ford was the last to arrive:\n",
    "\n",
    "    party_attendees = ['Adela', 'Fleda', 'Owen', 'May', 'Mona', 'Gilbert', 'Ford']\n",
    "\n",
    "A guest is considered 'fashionably late' if they arrived after at least half of the party's guests. However, they must not be the very last guest (that's taking it too far). In the above example, Mona and Gilbert are the only guests who were fashionably late.\n",
    "\n",
    "Complete the function below which takes a list of party attendees as well as a person, and tells us whether that person is fashionably late."
   ]
  },
  {
   "cell_type": "code",
   "execution_count": 12,
   "id": "4a52e1ea",
   "metadata": {
    "execution": {
     "iopub.execute_input": "2021-08-24T07:16:24.444252Z",
     "iopub.status.busy": "2021-08-24T07:16:24.443090Z",
     "iopub.status.idle": "2021-08-24T07:16:24.448573Z",
     "shell.execute_reply": "2021-08-24T07:16:24.449181Z",
     "shell.execute_reply.started": "2021-08-24T07:10:10.501857Z"
    },
    "papermill": {
     "duration": 0.032947,
     "end_time": "2021-08-24T07:16:24.449343",
     "exception": false,
     "start_time": "2021-08-24T07:16:24.416396",
     "status": "completed"
    },
    "tags": []
   },
   "outputs": [
    {
     "data": {
      "application/javascript": [
       "parent.postMessage({\"jupyterEvent\": \"custom.exercise_interaction\", \"data\": {\"outcomeType\": 1, \"valueTowardsCompletion\": 0.2, \"interactionType\": 1, \"questionType\": 2, \"questionId\": \"5_FashionablyLate\", \"learnToolsVersion\": \"0.3.4\", \"failureMessage\": \"\", \"exceptionClass\": \"\", \"trace\": \"\"}}, \"*\")"
      ],
      "text/plain": [
       "<IPython.core.display.Javascript object>"
      ]
     },
     "metadata": {},
     "output_type": "display_data"
    },
    {
     "data": {
      "text/markdown": [
       "<span style=\"color:#33cc33\">Correct</span>"
      ],
      "text/plain": [
       "Correct"
      ]
     },
     "metadata": {},
     "output_type": "display_data"
    }
   ],
   "source": [
    "def fashionably_late(arrivals, name):\n",
    "    \"\"\"Given an ordered list of arrivals to the party and a name, return whether the guest with that\n",
    "    name was fashionably late.\n",
    "    \"\"\"\n",
    "    if name == arrivals[-1]:\n",
    "        return False\n",
    "    num_guests = len(arrivals)\n",
    "    name_index = arrivals.index(name)\n",
    "    return name_index >= num_guests / 2 \n",
    "\n",
    "# Check your answer\n",
    "q5.check()"
   ]
  },
  {
   "cell_type": "code",
   "execution_count": 13,
   "id": "ff695644",
   "metadata": {
    "collapsed": true,
    "execution": {
     "iopub.execute_input": "2021-08-24T07:16:24.495379Z",
     "iopub.status.busy": "2021-08-24T07:16:24.494761Z",
     "iopub.status.idle": "2021-08-24T07:16:24.498694Z",
     "shell.execute_reply": "2021-08-24T07:16:24.498102Z"
    },
    "jupyter": {
     "outputs_hidden": true
    },
    "papermill": {
     "duration": 0.027926,
     "end_time": "2021-08-24T07:16:24.498830",
     "exception": false,
     "start_time": "2021-08-24T07:16:24.470904",
     "status": "completed"
    },
    "tags": []
   },
   "outputs": [],
   "source": [
    "#q5.hint()\n",
    "#q5.solution()"
   ]
  },
  {
   "cell_type": "markdown",
   "id": "7bececaa",
   "metadata": {
    "papermill": {
     "duration": 0.021427,
     "end_time": "2021-08-24T07:16:24.541760",
     "exception": false,
     "start_time": "2021-08-24T07:16:24.520333",
     "status": "completed"
    },
    "tags": []
   },
   "source": [
    "# Keep Going\n",
    "\n",
    "That's it for lists and tuples! Now you have the baseline knowledge to **[learn about loops](https://www.kaggle.com/colinmorris/loops-and-list-comprehensions)**, which is where lists and tuples get really interesting. "
   ]
  },
  {
   "cell_type": "markdown",
   "id": "8c65a2f9",
   "metadata": {
    "papermill": {
     "duration": 0.021358,
     "end_time": "2021-08-24T07:16:24.584697",
     "exception": false,
     "start_time": "2021-08-24T07:16:24.563339",
     "status": "completed"
    },
    "tags": []
   },
   "source": [
    "---\n",
    "\n",
    "\n",
    "\n",
    "\n",
    "*Have questions or comments? Visit the [Learn Discussion forum](https://www.kaggle.com/learn-forum/161283) to chat with other Learners.*"
   ]
  }
 ],
 "metadata": {
  "kernelspec": {
   "display_name": "Python 3",
   "language": "python",
   "name": "python3"
  },
  "language_info": {
   "codemirror_mode": {
    "name": "ipython",
    "version": 3
   },
   "file_extension": ".py",
   "mimetype": "text/x-python",
   "name": "python",
   "nbconvert_exporter": "python",
   "pygments_lexer": "ipython3",
   "version": "3.7.10"
  },
  "papermill": {
   "default_parameters": {},
   "duration": 9.751885,
   "end_time": "2021-08-24T07:16:25.318752",
   "environment_variables": {},
   "exception": null,
   "input_path": "__notebook__.ipynb",
   "output_path": "__notebook__.ipynb",
   "parameters": {},
   "start_time": "2021-08-24T07:16:15.566867",
   "version": "2.3.3"
  }
 },
 "nbformat": 4,
 "nbformat_minor": 5
}
