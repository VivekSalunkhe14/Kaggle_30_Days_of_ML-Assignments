{
 "cells": [
  {
   "cell_type": "markdown",
   "id": "a57e9ef7",
   "metadata": {
    "papermill": {
     "duration": 0.014782,
     "end_time": "2021-08-24T05:58:14.418951",
     "exception": false,
     "start_time": "2021-08-24T05:58:14.404169",
     "status": "completed"
    },
    "tags": []
   },
   "source": [
    "**This notebook is an exercise in the [Python](https://www.kaggle.com/learn/python) course.  You can reference the tutorial at [this link](https://www.kaggle.com/colinmorris/functions-and-getting-help).**\n",
    "\n",
    "---\n"
   ]
  },
  {
   "cell_type": "markdown",
   "id": "b9bd7f29",
   "metadata": {
    "papermill": {
     "duration": 0.013627,
     "end_time": "2021-08-24T05:58:14.447157",
     "exception": false,
     "start_time": "2021-08-24T05:58:14.433530",
     "status": "completed"
    },
    "tags": []
   },
   "source": [
    "Functions are powerful. Try writing some yourself.\n",
    "\n",
    "As before, don't forget to run the setup code below before jumping into question 1."
   ]
  },
  {
   "cell_type": "code",
   "execution_count": 1,
   "id": "69ecba21",
   "metadata": {
    "_kg_hide-input": true,
    "_kg_hide-output": true,
    "execution": {
     "iopub.execute_input": "2021-08-24T05:58:14.487146Z",
     "iopub.status.busy": "2021-08-24T05:58:14.486358Z",
     "iopub.status.idle": "2021-08-24T05:58:14.614530Z",
     "shell.execute_reply": "2021-08-24T05:58:14.615036Z",
     "shell.execute_reply.started": "2021-08-24T05:51:14.133187Z"
    },
    "papermill": {
     "duration": 0.154294,
     "end_time": "2021-08-24T05:58:14.615321",
     "exception": false,
     "start_time": "2021-08-24T05:58:14.461027",
     "status": "completed"
    },
    "tags": []
   },
   "outputs": [
    {
     "name": "stdout",
     "output_type": "stream",
     "text": [
      "Setup complete.\n"
     ]
    }
   ],
   "source": [
    "# SETUP. You don't need to worry for now about what this code does or how it works.\n",
    "from learntools.core import binder; binder.bind(globals())\n",
    "from learntools.python.ex2 import *\n",
    "print('Setup complete.')"
   ]
  },
  {
   "cell_type": "markdown",
   "id": "028851fe",
   "metadata": {
    "papermill": {
     "duration": 0.014319,
     "end_time": "2021-08-24T05:58:14.644567",
     "exception": false,
     "start_time": "2021-08-24T05:58:14.630248",
     "status": "completed"
    },
    "tags": []
   },
   "source": [
    "# 1.\n",
    "\n",
    "Complete the body of the following function according to its docstring.\n",
    "\n",
    "HINT: Python has a built-in function `round`."
   ]
  },
  {
   "cell_type": "code",
   "execution_count": 2,
   "id": "cba79fa1",
   "metadata": {
    "execution": {
     "iopub.execute_input": "2021-08-24T05:58:14.681631Z",
     "iopub.status.busy": "2021-08-24T05:58:14.681013Z",
     "iopub.status.idle": "2021-08-24T05:58:14.686915Z",
     "shell.execute_reply": "2021-08-24T05:58:14.686288Z",
     "shell.execute_reply.started": "2021-08-24T05:51:39.869744Z"
    },
    "papermill": {
     "duration": 0.027965,
     "end_time": "2021-08-24T05:58:14.687069",
     "exception": false,
     "start_time": "2021-08-24T05:58:14.659104",
     "status": "completed"
    },
    "tags": []
   },
   "outputs": [
    {
     "data": {
      "application/javascript": [
       "parent.postMessage({\"jupyterEvent\": \"custom.exercise_interaction\", \"data\": {\"outcomeType\": 1, \"valueTowardsCompletion\": 0.16666666666666666, \"interactionType\": 1, \"questionType\": 2, \"questionId\": \"1_RoundFunctionProblem\", \"learnToolsVersion\": \"0.3.4\", \"failureMessage\": \"\", \"exceptionClass\": \"\", \"trace\": \"\"}}, \"*\")"
      ],
      "text/plain": [
       "<IPython.core.display.Javascript object>"
      ]
     },
     "metadata": {},
     "output_type": "display_data"
    },
    {
     "data": {
      "text/markdown": [
       "<span style=\"color:#33cc33\">Correct</span>"
      ],
      "text/plain": [
       "Correct"
      ]
     },
     "metadata": {},
     "output_type": "display_data"
    }
   ],
   "source": [
    "def round_to_two_places(num):\n",
    "    \"\"\"Return the given number rounded to two decimal places. \n",
    "    \n",
    "    >>> round_to_two_places(3.14159)\n",
    "    3.14\n",
    "    \"\"\"\n",
    "    # Replace this body with your own code.\n",
    "    # (\"pass\" is a keyword that does literally nothing. We used it as a placeholder\n",
    "    # because after we begin a code block, Python requires at least one line of code)\n",
    "    return round(num,2)\n",
    "\n",
    "# Check your answer\n",
    "q1.check()"
   ]
  },
  {
   "cell_type": "code",
   "execution_count": 3,
   "id": "2a59f340",
   "metadata": {
    "execution": {
     "iopub.execute_input": "2021-08-24T05:58:14.722509Z",
     "iopub.status.busy": "2021-08-24T05:58:14.721534Z",
     "iopub.status.idle": "2021-08-24T05:58:14.724595Z",
     "shell.execute_reply": "2021-08-24T05:58:14.724004Z"
    },
    "papermill": {
     "duration": 0.022266,
     "end_time": "2021-08-24T05:58:14.724729",
     "exception": false,
     "start_time": "2021-08-24T05:58:14.702463",
     "status": "completed"
    },
    "tags": []
   },
   "outputs": [],
   "source": [
    "# Uncomment the following for a hint\n",
    "#q1.hint()\n",
    "# Or uncomment the following to peek at the solution\n",
    "#q1.solution()"
   ]
  },
  {
   "cell_type": "markdown",
   "id": "aaa91035",
   "metadata": {
    "papermill": {
     "duration": 0.015948,
     "end_time": "2021-08-24T05:58:14.756295",
     "exception": false,
     "start_time": "2021-08-24T05:58:14.740347",
     "status": "completed"
    },
    "tags": []
   },
   "source": [
    "# 2.\n",
    "The help for `round` says that `ndigits` (the second argument) may be negative.\n",
    "What do you think will happen when it is? Try some examples in the following cell."
   ]
  },
  {
   "cell_type": "code",
   "execution_count": 4,
   "id": "370b75a1",
   "metadata": {
    "execution": {
     "iopub.execute_input": "2021-08-24T05:58:14.793114Z",
     "iopub.status.busy": "2021-08-24T05:58:14.791967Z",
     "iopub.status.idle": "2021-08-24T05:58:14.796947Z",
     "shell.execute_reply": "2021-08-24T05:58:14.796274Z",
     "shell.execute_reply.started": "2021-08-24T05:53:11.257034Z"
    },
    "papermill": {
     "duration": 0.025311,
     "end_time": "2021-08-24T05:58:14.797088",
     "exception": false,
     "start_time": "2021-08-24T05:58:14.771777",
     "status": "completed"
    },
    "tags": []
   },
   "outputs": [
    {
     "name": "stdout",
     "output_type": "stream",
     "text": [
      "3.14\n",
      "300.0\n"
     ]
    }
   ],
   "source": [
    "print(round(3.14159,2))\n",
    "print(round(343.14159,-2))"
   ]
  },
  {
   "cell_type": "markdown",
   "id": "2f1e1cad",
   "metadata": {
    "papermill": {
     "duration": 0.015519,
     "end_time": "2021-08-24T05:58:14.828931",
     "exception": false,
     "start_time": "2021-08-24T05:58:14.813412",
     "status": "completed"
    },
    "tags": []
   },
   "source": [
    "Can you think of a case where this would be useful?  Once you're ready, run the code cell below to see the answer and to receive credit for completing the problem."
   ]
  },
  {
   "cell_type": "code",
   "execution_count": 5,
   "id": "fcf6b67c",
   "metadata": {
    "execution": {
     "iopub.execute_input": "2021-08-24T05:58:14.868818Z",
     "iopub.status.busy": "2021-08-24T05:58:14.867861Z",
     "iopub.status.idle": "2021-08-24T05:58:14.874239Z",
     "shell.execute_reply": "2021-08-24T05:58:14.873628Z",
     "shell.execute_reply.started": "2021-08-24T05:53:18.524538Z"
    },
    "papermill": {
     "duration": 0.02932,
     "end_time": "2021-08-24T05:58:14.874371",
     "exception": false,
     "start_time": "2021-08-24T05:58:14.845051",
     "status": "completed"
    },
    "tags": []
   },
   "outputs": [
    {
     "data": {
      "application/javascript": [
       "parent.postMessage({\"jupyterEvent\": \"custom.exercise_interaction\", \"data\": {\"interactionType\": 3, \"questionType\": 4, \"questionId\": \"2_RoundNdigitsProblem\", \"learnToolsVersion\": \"0.3.4\", \"valueTowardsCompletion\": 0.0, \"failureMessage\": \"\", \"exceptionClass\": \"\", \"trace\": \"\", \"outcomeType\": 4}}, \"*\")"
      ],
      "text/plain": [
       "<IPython.core.display.Javascript object>"
      ]
     },
     "metadata": {},
     "output_type": "display_data"
    },
    {
     "data": {
      "text/markdown": [
       "<span style=\"color:#33cc99\">Solution:</span> As you've seen, `ndigits=-1` rounds to the nearest 10, `ndigits=-2` rounds to the nearest 100 and so on. Where might this be useful? Suppose we're dealing with large numbers:\n",
       "\n",
       "> The area of Finland is 338,424 km²  \n",
       "> The area of Greenland is 2,166,086 km²\n",
       "\n",
       "We probably don't care whether it's really 338,424, or 338,425, or 338,177. All those digits of accuracy are just distracting. We can chop them off by calling `round()` with `ndigits=-3`:\n",
       "\n",
       "> The area of Finland is 338,000 km²  \n",
       "> The area of Greenland is 2,166,000 km²\n",
       "\n",
       "(We'll talk about how we would get the commas later when we talk about string formatting :))\n"
      ],
      "text/plain": [
       "Solution: As you've seen, `ndigits=-1` rounds to the nearest 10, `ndigits=-2` rounds to the nearest 100 and so on. Where might this be useful? Suppose we're dealing with large numbers:\n",
       "\n",
       "> The area of Finland is 338,424 km²  \n",
       "> The area of Greenland is 2,166,086 km²\n",
       "\n",
       "We probably don't care whether it's really 338,424, or 338,425, or 338,177. All those digits of accuracy are just distracting. We can chop them off by calling `round()` with `ndigits=-3`:\n",
       "\n",
       "> The area of Finland is 338,000 km²  \n",
       "> The area of Greenland is 2,166,000 km²\n",
       "\n",
       "(We'll talk about how we would get the commas later when we talk about string formatting :))"
      ]
     },
     "metadata": {},
     "output_type": "display_data"
    }
   ],
   "source": [
    "# Check your answer (Run this code cell to receive credit!)\n",
    "q2.solution()"
   ]
  },
  {
   "cell_type": "markdown",
   "id": "7a2830a4",
   "metadata": {
    "papermill": {
     "duration": 0.016454,
     "end_time": "2021-08-24T05:58:14.907803",
     "exception": false,
     "start_time": "2021-08-24T05:58:14.891349",
     "status": "completed"
    },
    "tags": []
   },
   "source": [
    "# 3.\n",
    "\n",
    "In the previous exercise, the candy-sharing friends Alice, Bob and Carol tried to split candies evenly. For the sake of their friendship, any candies left over would be smashed. For example, if they collectively bring home 91 candies, they'll take 30 each and smash 1.\n",
    "\n",
    "Below is a simple function that will calculate the number of candies to smash for *any* number of total candies.\n",
    "\n",
    "Modify it so that it optionally takes a second argument representing the number of friends the candies are being split between. If no second argument is provided, it should assume 3 friends, as before.\n",
    "\n",
    "Update the docstring to reflect this new behaviour."
   ]
  },
  {
   "cell_type": "code",
   "execution_count": 6,
   "id": "159c054b",
   "metadata": {
    "execution": {
     "iopub.execute_input": "2021-08-24T05:58:14.947703Z",
     "iopub.status.busy": "2021-08-24T05:58:14.947033Z",
     "iopub.status.idle": "2021-08-24T05:58:14.951982Z",
     "shell.execute_reply": "2021-08-24T05:58:14.951459Z",
     "shell.execute_reply.started": "2021-08-24T05:55:55.022227Z"
    },
    "papermill": {
     "duration": 0.02712,
     "end_time": "2021-08-24T05:58:14.952115",
     "exception": false,
     "start_time": "2021-08-24T05:58:14.924995",
     "status": "completed"
    },
    "tags": []
   },
   "outputs": [
    {
     "data": {
      "application/javascript": [
       "parent.postMessage({\"jupyterEvent\": \"custom.exercise_interaction\", \"data\": {\"outcomeType\": 1, \"valueTowardsCompletion\": 0.16666666666666666, \"interactionType\": 1, \"questionType\": 2, \"questionId\": \"3_CandySmashingFunctionProblem\", \"learnToolsVersion\": \"0.3.4\", \"failureMessage\": \"\", \"exceptionClass\": \"\", \"trace\": \"\"}}, \"*\")"
      ],
      "text/plain": [
       "<IPython.core.display.Javascript object>"
      ]
     },
     "metadata": {},
     "output_type": "display_data"
    },
    {
     "data": {
      "text/markdown": [
       "<span style=\"color:#33cc33\">Correct</span>"
      ],
      "text/plain": [
       "Correct"
      ]
     },
     "metadata": {},
     "output_type": "display_data"
    }
   ],
   "source": [
    "def to_smash(total_candies, number_of_friends=3):\n",
    "    \"\"\"Return the number of leftover candies that must be smashed after distributing\n",
    "    the given number of candies evenly between 3 friends.\n",
    "    \n",
    "    >>> to_smash(91)\n",
    "    1\n",
    "    \"\"\"\n",
    "    return total_candies % number_of_friends\n",
    "\n",
    "# Check your answer\n",
    "q3.check()"
   ]
  },
  {
   "cell_type": "code",
   "execution_count": 7,
   "id": "23925c9b",
   "metadata": {
    "execution": {
     "iopub.execute_input": "2021-08-24T05:58:14.994818Z",
     "iopub.status.busy": "2021-08-24T05:58:14.994112Z",
     "iopub.status.idle": "2021-08-24T05:58:14.995989Z",
     "shell.execute_reply": "2021-08-24T05:58:14.996475Z"
    },
    "papermill": {
     "duration": 0.026771,
     "end_time": "2021-08-24T05:58:14.996638",
     "exception": false,
     "start_time": "2021-08-24T05:58:14.969867",
     "status": "completed"
    },
    "tags": []
   },
   "outputs": [],
   "source": [
    "#q3.hint()"
   ]
  },
  {
   "cell_type": "code",
   "execution_count": 8,
   "id": "f9ce89b1",
   "metadata": {
    "execution": {
     "iopub.execute_input": "2021-08-24T05:58:15.048638Z",
     "iopub.status.busy": "2021-08-24T05:58:15.047431Z",
     "iopub.status.idle": "2021-08-24T05:58:15.050763Z",
     "shell.execute_reply": "2021-08-24T05:58:15.051656Z"
    },
    "papermill": {
     "duration": 0.030838,
     "end_time": "2021-08-24T05:58:15.051824",
     "exception": false,
     "start_time": "2021-08-24T05:58:15.020986",
     "status": "completed"
    },
    "tags": []
   },
   "outputs": [],
   "source": [
    "#q3.solution()"
   ]
  },
  {
   "cell_type": "markdown",
   "id": "fb50c2fc",
   "metadata": {
    "papermill": {
     "duration": 0.017995,
     "end_time": "2021-08-24T05:58:15.092256",
     "exception": false,
     "start_time": "2021-08-24T05:58:15.074261",
     "status": "completed"
    },
    "tags": []
   },
   "source": [
    "# 4. (Optional)\n",
    "\n",
    "It may not be fun, but reading and understanding error messages will be an important part of your Python career.\n",
    "\n",
    "Each code cell below contains some commented buggy code. For each cell...\n",
    "\n",
    "1. Read the code and predict what you think will happen when it's run.\n",
    "2. Then uncomment the code and run it to see what happens. (**Tip**: In the kernel editor, you can highlight several lines and press `ctrl`+`/` to toggle commenting.)\n",
    "3. Fix the code (so that it accomplishes its intended purpose without throwing an exception)\n",
    "\n",
    "<!-- TODO: should this be autochecked? Delta is probably pretty small. -->"
   ]
  },
  {
   "cell_type": "code",
   "execution_count": 9,
   "id": "17679ca7",
   "metadata": {
    "execution": {
     "iopub.execute_input": "2021-08-24T05:58:15.132129Z",
     "iopub.status.busy": "2021-08-24T05:58:15.131509Z",
     "iopub.status.idle": "2021-08-24T05:58:15.135977Z",
     "shell.execute_reply": "2021-08-24T05:58:15.136451Z",
     "shell.execute_reply.started": "2021-08-24T05:57:23.819270Z"
    },
    "papermill": {
     "duration": 0.026287,
     "end_time": "2021-08-24T05:58:15.136608",
     "exception": false,
     "start_time": "2021-08-24T05:58:15.110321",
     "status": "completed"
    },
    "tags": []
   },
   "outputs": [
    {
     "data": {
      "text/plain": [
       "10.0"
      ]
     },
     "execution_count": 9,
     "metadata": {},
     "output_type": "execute_result"
    }
   ],
   "source": [
    "round_to_two_places(9.9999)"
   ]
  },
  {
   "cell_type": "code",
   "execution_count": 10,
   "id": "0fe1de89",
   "metadata": {
    "execution": {
     "iopub.execute_input": "2021-08-24T05:58:15.176051Z",
     "iopub.status.busy": "2021-08-24T05:58:15.175463Z",
     "iopub.status.idle": "2021-08-24T05:58:15.180664Z",
     "shell.execute_reply": "2021-08-24T05:58:15.181178Z",
     "shell.execute_reply.started": "2021-08-24T05:57:19.202305Z"
    },
    "papermill": {
     "duration": 0.026334,
     "end_time": "2021-08-24T05:58:15.181333",
     "exception": false,
     "start_time": "2021-08-24T05:58:15.154999",
     "status": "completed"
    },
    "tags": []
   },
   "outputs": [
    {
     "data": {
      "text/plain": [
       "5"
      ]
     },
     "execution_count": 10,
     "metadata": {},
     "output_type": "execute_result"
    }
   ],
   "source": [
    "x = -10\n",
    "y = 5\n",
    "# Which of the two variables above has the smallest absolute value?\n",
    "smallest_abs = min(abs(x), abs(y))\n",
    "smallest_abs"
   ]
  },
  {
   "cell_type": "markdown",
   "id": "35d4c7ab",
   "metadata": {
    "papermill": {
     "duration": 0.018225,
     "end_time": "2021-08-24T05:58:15.218246",
     "exception": false,
     "start_time": "2021-08-24T05:58:15.200021",
     "status": "completed"
    },
    "tags": []
   },
   "source": []
  },
  {
   "cell_type": "code",
   "execution_count": 11,
   "id": "14c6b7e3",
   "metadata": {
    "execution": {
     "iopub.execute_input": "2021-08-24T05:58:15.258944Z",
     "iopub.status.busy": "2021-08-24T05:58:15.258318Z",
     "iopub.status.idle": "2021-08-24T05:58:15.264121Z",
     "shell.execute_reply": "2021-08-24T05:58:15.264914Z",
     "shell.execute_reply.started": "2021-08-24T05:57:43.054068Z"
    },
    "papermill": {
     "duration": 0.027695,
     "end_time": "2021-08-24T05:58:15.265129",
     "exception": false,
     "start_time": "2021-08-24T05:58:15.237434",
     "status": "completed"
    },
    "tags": []
   },
   "outputs": [
    {
     "name": "stdout",
     "output_type": "stream",
     "text": [
      "5\n"
     ]
    }
   ],
   "source": [
    "def f(x):\n",
    "    y = abs(x)\n",
    "    return y\n",
    "\n",
    "print(f(5))"
   ]
  },
  {
   "cell_type": "markdown",
   "id": "3e7a9bf9",
   "metadata": {
    "papermill": {
     "duration": 0.018677,
     "end_time": "2021-08-24T05:58:15.303429",
     "exception": false,
     "start_time": "2021-08-24T05:58:15.284752",
     "status": "completed"
    },
    "tags": []
   },
   "source": [
    "# Keep Going\n",
    "\n",
    "Nice job with the code. Next up, you'll learn about *conditionals*, which you'll need to **[write interesting programs](https://www.kaggle.com/colinmorris/booleans-and-conditionals)**. "
   ]
  },
  {
   "cell_type": "markdown",
   "id": "94550a7a",
   "metadata": {
    "papermill": {
     "duration": 0.019131,
     "end_time": "2021-08-24T05:58:15.342717",
     "exception": false,
     "start_time": "2021-08-24T05:58:15.323586",
     "status": "completed"
    },
    "tags": []
   },
   "source": [
    "---\n",
    "\n",
    "\n",
    "\n",
    "\n",
    "*Have questions or comments? Visit the [Learn Discussion forum](https://www.kaggle.com/learn-forum/161283) to chat with other Learners.*"
   ]
  }
 ],
 "metadata": {
  "kernelspec": {
   "display_name": "Python 3",
   "language": "python",
   "name": "python3"
  },
  "language_info": {
   "codemirror_mode": {
    "name": "ipython",
    "version": 3
   },
   "file_extension": ".py",
   "mimetype": "text/x-python",
   "name": "python",
   "nbconvert_exporter": "python",
   "pygments_lexer": "ipython3",
   "version": "3.7.10"
  },
  "papermill": {
   "default_parameters": {},
   "duration": 9.351481,
   "end_time": "2021-08-24T05:58:15.971427",
   "environment_variables": {},
   "exception": null,
   "input_path": "__notebook__.ipynb",
   "output_path": "__notebook__.ipynb",
   "parameters": {},
   "start_time": "2021-08-24T05:58:06.619946",
   "version": "2.3.3"
  }
 },
 "nbformat": 4,
 "nbformat_minor": 5
}
