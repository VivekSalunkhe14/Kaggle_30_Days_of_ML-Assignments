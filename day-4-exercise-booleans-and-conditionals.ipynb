{
 "cells": [
  {
   "cell_type": "markdown",
   "id": "fddd43ec",
   "metadata": {
    "papermill": {
     "duration": 0.03818,
     "end_time": "2021-08-24T06:44:24.910299",
     "exception": false,
     "start_time": "2021-08-24T06:44:24.872119",
     "status": "completed"
    },
    "tags": []
   },
   "source": [
    "**This notebook is an exercise in the [Python](https://www.kaggle.com/learn/python) course.  You can reference the tutorial at [this link](https://www.kaggle.com/colinmorris/booleans-and-conditionals).**\n",
    "\n",
    "---\n"
   ]
  },
  {
   "cell_type": "markdown",
   "id": "f460ace3",
   "metadata": {
    "papermill": {
     "duration": 0.028812,
     "end_time": "2021-08-24T06:44:24.968860",
     "exception": false,
     "start_time": "2021-08-24T06:44:24.940048",
     "status": "completed"
    },
    "tags": []
   },
   "source": [
    "In this exercise, you'll put to work what you have learned about booleans and conditionals.\n",
    "\n",
    "To get started, **run the setup code below** before writing your own code (and if you leave this notebook and come back later, don't forget to run the setup code again)."
   ]
  },
  {
   "cell_type": "code",
   "execution_count": 1,
   "id": "d06c27bc",
   "metadata": {
    "execution": {
     "iopub.execute_input": "2021-08-24T06:44:25.040136Z",
     "iopub.status.busy": "2021-08-24T06:44:25.039503Z",
     "iopub.status.idle": "2021-08-24T06:44:25.166085Z",
     "shell.execute_reply": "2021-08-24T06:44:25.166571Z",
     "shell.execute_reply.started": "2021-08-24T05:59:44.991571Z"
    },
    "papermill": {
     "duration": 0.166947,
     "end_time": "2021-08-24T06:44:25.166865",
     "exception": false,
     "start_time": "2021-08-24T06:44:24.999918",
     "status": "completed"
    },
    "tags": []
   },
   "outputs": [
    {
     "name": "stdout",
     "output_type": "stream",
     "text": [
      "Setup complete.\n"
     ]
    }
   ],
   "source": [
    "from learntools.core import binder; binder.bind(globals())\n",
    "from learntools.python.ex3 import *\n",
    "print('Setup complete.')"
   ]
  },
  {
   "cell_type": "markdown",
   "id": "d77439e8",
   "metadata": {
    "papermill": {
     "duration": 0.030814,
     "end_time": "2021-08-24T06:44:25.230741",
     "exception": false,
     "start_time": "2021-08-24T06:44:25.199927",
     "status": "completed"
    },
    "tags": []
   },
   "source": [
    "# 1.\n",
    "\n",
    "Many programming languages have [`sign`](https://en.wikipedia.org/wiki/Sign_function) available as a built-in function. Python doesn't, but we can define our own!\n",
    "\n",
    "In the cell below, define a function called `sign` which takes a numerical argument and returns -1 if it's negative, 1 if it's positive, and 0 if it's 0."
   ]
  },
  {
   "cell_type": "code",
   "execution_count": 2,
   "id": "2a67c957",
   "metadata": {
    "execution": {
     "iopub.execute_input": "2021-08-24T06:44:25.297193Z",
     "iopub.status.busy": "2021-08-24T06:44:25.296180Z",
     "iopub.status.idle": "2021-08-24T06:44:25.301618Z",
     "shell.execute_reply": "2021-08-24T06:44:25.300956Z",
     "shell.execute_reply.started": "2021-08-24T06:01:41.293046Z"
    },
    "papermill": {
     "duration": 0.041936,
     "end_time": "2021-08-24T06:44:25.301750",
     "exception": false,
     "start_time": "2021-08-24T06:44:25.259814",
     "status": "completed"
    },
    "tags": []
   },
   "outputs": [
    {
     "data": {
      "application/javascript": [
       "parent.postMessage({\"jupyterEvent\": \"custom.exercise_interaction\", \"data\": {\"outcomeType\": 1, \"valueTowardsCompletion\": 0.2, \"interactionType\": 1, \"questionType\": 2, \"questionId\": \"1_SignFunctionProblem\", \"learnToolsVersion\": \"0.3.4\", \"failureMessage\": \"\", \"exceptionClass\": \"\", \"trace\": \"\"}}, \"*\")"
      ],
      "text/plain": [
       "<IPython.core.display.Javascript object>"
      ]
     },
     "metadata": {},
     "output_type": "display_data"
    },
    {
     "data": {
      "text/markdown": [
       "<span style=\"color:#33cc33\">Correct</span>"
      ],
      "text/plain": [
       "Correct"
      ]
     },
     "metadata": {},
     "output_type": "display_data"
    }
   ],
   "source": [
    "# Your code goes here. Define a function called 'sign'\n",
    "def sign(num):\n",
    "    if num==0:\n",
    "        return num\n",
    "    elif num<0:\n",
    "        return -1\n",
    "    else:\n",
    "        return 1\n",
    "\n",
    "# Check your answer\n",
    "q1.check()"
   ]
  },
  {
   "cell_type": "code",
   "execution_count": 3,
   "id": "30db8faf",
   "metadata": {
    "execution": {
     "iopub.execute_input": "2021-08-24T06:44:25.366602Z",
     "iopub.status.busy": "2021-08-24T06:44:25.365753Z",
     "iopub.status.idle": "2021-08-24T06:44:25.368339Z",
     "shell.execute_reply": "2021-08-24T06:44:25.367730Z"
    },
    "papermill": {
     "duration": 0.03703,
     "end_time": "2021-08-24T06:44:25.368465",
     "exception": false,
     "start_time": "2021-08-24T06:44:25.331435",
     "status": "completed"
    },
    "tags": []
   },
   "outputs": [],
   "source": [
    "#q1.solution()"
   ]
  },
  {
   "cell_type": "markdown",
   "id": "5435c0d3",
   "metadata": {
    "papermill": {
     "duration": 0.029169,
     "end_time": "2021-08-24T06:44:25.427667",
     "exception": false,
     "start_time": "2021-08-24T06:44:25.398498",
     "status": "completed"
    },
    "tags": []
   },
   "source": [
    "# 2.\n",
    "\n",
    "We've decided to add \"logging\" to our `to_smash` function from the previous exercise."
   ]
  },
  {
   "cell_type": "code",
   "execution_count": 4,
   "id": "baa669ed",
   "metadata": {
    "execution": {
     "iopub.execute_input": "2021-08-24T06:44:25.491107Z",
     "iopub.status.busy": "2021-08-24T06:44:25.490389Z",
     "iopub.status.idle": "2021-08-24T06:44:25.498756Z",
     "shell.execute_reply": "2021-08-24T06:44:25.499201Z",
     "shell.execute_reply.started": "2021-08-24T06:03:02.146345Z"
    },
    "papermill": {
     "duration": 0.041946,
     "end_time": "2021-08-24T06:44:25.499385",
     "exception": false,
     "start_time": "2021-08-24T06:44:25.457439",
     "status": "completed"
    },
    "tags": []
   },
   "outputs": [
    {
     "name": "stdout",
     "output_type": "stream",
     "text": [
      "Splitting 91 candies\n"
     ]
    },
    {
     "data": {
      "text/plain": [
       "1"
      ]
     },
     "execution_count": 4,
     "metadata": {},
     "output_type": "execute_result"
    }
   ],
   "source": [
    "def to_smash(total_candies):\n",
    "    \"\"\"Return the number of leftover candies that must be smashed after distributing\n",
    "    the given number of candies evenly between 3 friends.\n",
    "    \n",
    "    >>> to_smash(91)\n",
    "    1\n",
    "    \"\"\"\n",
    "    print(\"Splitting\", total_candies, \"candies\")\n",
    "    return total_candies % 3\n",
    "\n",
    "to_smash(91)"
   ]
  },
  {
   "cell_type": "markdown",
   "id": "0b174598",
   "metadata": {
    "papermill": {
     "duration": 0.030445,
     "end_time": "2021-08-24T06:44:25.560662",
     "exception": false,
     "start_time": "2021-08-24T06:44:25.530217",
     "status": "completed"
    },
    "tags": []
   },
   "source": [
    "What happens if we call it with `total_candies = 1`?"
   ]
  },
  {
   "cell_type": "code",
   "execution_count": 5,
   "id": "c459cc5e",
   "metadata": {
    "execution": {
     "iopub.execute_input": "2021-08-24T06:44:25.626088Z",
     "iopub.status.busy": "2021-08-24T06:44:25.625107Z",
     "iopub.status.idle": "2021-08-24T06:44:25.631712Z",
     "shell.execute_reply": "2021-08-24T06:44:25.632256Z",
     "shell.execute_reply.started": "2021-08-24T06:03:04.135511Z"
    },
    "papermill": {
     "duration": 0.041349,
     "end_time": "2021-08-24T06:44:25.632437",
     "exception": false,
     "start_time": "2021-08-24T06:44:25.591088",
     "status": "completed"
    },
    "tags": []
   },
   "outputs": [
    {
     "name": "stdout",
     "output_type": "stream",
     "text": [
      "Splitting 1 candies\n"
     ]
    },
    {
     "data": {
      "text/plain": [
       "1"
      ]
     },
     "execution_count": 5,
     "metadata": {},
     "output_type": "execute_result"
    }
   ],
   "source": [
    "to_smash(1)"
   ]
  },
  {
   "cell_type": "markdown",
   "id": "44e8b582",
   "metadata": {
    "papermill": {
     "duration": 0.031769,
     "end_time": "2021-08-24T06:44:25.695294",
     "exception": false,
     "start_time": "2021-08-24T06:44:25.663525",
     "status": "completed"
    },
    "tags": []
   },
   "source": [
    "That isn't great grammar!\n",
    "\n",
    "Modify the definition in the cell below to correct the grammar of our print statement. (If there's only one candy, we should use the singular \"candy\" instead of the plural \"candies\")"
   ]
  },
  {
   "cell_type": "code",
   "execution_count": 6,
   "id": "1e17daf7",
   "metadata": {
    "execution": {
     "iopub.execute_input": "2021-08-24T06:44:25.766650Z",
     "iopub.status.busy": "2021-08-24T06:44:25.765600Z",
     "iopub.status.idle": "2021-08-24T06:44:25.770865Z",
     "shell.execute_reply": "2021-08-24T06:44:25.770366Z",
     "shell.execute_reply.started": "2021-08-24T06:03:57.483797Z"
    },
    "papermill": {
     "duration": 0.044067,
     "end_time": "2021-08-24T06:44:25.770996",
     "exception": false,
     "start_time": "2021-08-24T06:44:25.726929",
     "status": "completed"
    },
    "tags": []
   },
   "outputs": [
    {
     "name": "stdout",
     "output_type": "stream",
     "text": [
      "Splitting 91 candies\n",
      "Splitting 1 candy\n"
     ]
    },
    {
     "data": {
      "text/plain": [
       "1"
      ]
     },
     "execution_count": 6,
     "metadata": {},
     "output_type": "execute_result"
    }
   ],
   "source": [
    "def to_smash(total_candies):\n",
    "    \"\"\"Return the number of leftover candies that must be smashed after distributing\n",
    "    the given number of candies evenly between 3 friends.\n",
    "    \n",
    "    >>> to_smash(91)\n",
    "    1\n",
    "    \"\"\"\n",
    "    if total_candies == 1:\n",
    "        print(\"Splitting\", total_candies, \"candy\")\n",
    "    else:\n",
    "        print(\"Splitting\", total_candies, \"candies\")\n",
    "    return total_candies % 3\n",
    "\n",
    "to_smash(91)\n",
    "to_smash(1)"
   ]
  },
  {
   "cell_type": "markdown",
   "id": "690946de",
   "metadata": {
    "papermill": {
     "duration": 0.030909,
     "end_time": "2021-08-24T06:44:25.833070",
     "exception": false,
     "start_time": "2021-08-24T06:44:25.802161",
     "status": "completed"
    },
    "tags": []
   },
   "source": [
    "To get credit for completing this problem, and to see the official answer, run the code cell below."
   ]
  },
  {
   "cell_type": "code",
   "execution_count": 7,
   "id": "145a9a32",
   "metadata": {
    "execution": {
     "iopub.execute_input": "2021-08-24T06:44:25.900420Z",
     "iopub.status.busy": "2021-08-24T06:44:25.899597Z",
     "iopub.status.idle": "2021-08-24T06:44:25.905663Z",
     "shell.execute_reply": "2021-08-24T06:44:25.904897Z",
     "shell.execute_reply.started": "2021-08-24T06:03:32.060353Z"
    },
    "papermill": {
     "duration": 0.041919,
     "end_time": "2021-08-24T06:44:25.905803",
     "exception": false,
     "start_time": "2021-08-24T06:44:25.863884",
     "status": "completed"
    },
    "tags": []
   },
   "outputs": [
    {
     "data": {
      "application/javascript": [
       "parent.postMessage({\"jupyterEvent\": \"custom.exercise_interaction\", \"data\": {\"interactionType\": 3, \"questionType\": 4, \"questionId\": \"2_PluralizationProblem\", \"learnToolsVersion\": \"0.3.4\", \"valueTowardsCompletion\": 0.0, \"failureMessage\": \"\", \"exceptionClass\": \"\", \"trace\": \"\", \"outcomeType\": 4}}, \"*\")"
      ],
      "text/plain": [
       "<IPython.core.display.Javascript object>"
      ]
     },
     "metadata": {},
     "output_type": "display_data"
    },
    {
     "data": {
      "text/markdown": [
       "<span style=\"color:#33cc99\">Solution:</span> A straightforward (and totally fine) solution is to replace the original `print` call with:\n",
       "\n",
       "```python\n",
       "if total_candies == 1:\n",
       "    print(\"Splitting 1 candy\")\n",
       "else:\n",
       "    print(\"Splitting\", total_candies, \"candies\")\n",
       "```\n",
       "\n",
       "Here's a slightly more succinct solution using a conditional expression:\n",
       "\n",
       "```python\n",
       "print(\"Splitting\", total_candies, \"candy\" if total_candies == 1 else \"candies\")\n",
       "```"
      ],
      "text/plain": [
       "Solution: A straightforward (and totally fine) solution is to replace the original `print` call with:\n",
       "\n",
       "```python\n",
       "if total_candies == 1:\n",
       "    print(\"Splitting 1 candy\")\n",
       "else:\n",
       "    print(\"Splitting\", total_candies, \"candies\")\n",
       "```\n",
       "\n",
       "Here's a slightly more succinct solution using a conditional expression:\n",
       "\n",
       "```python\n",
       "print(\"Splitting\", total_candies, \"candy\" if total_candies == 1 else \"candies\")\n",
       "```"
      ]
     },
     "metadata": {},
     "output_type": "display_data"
    }
   ],
   "source": [
    "# Check your answer (Run this code cell to receive credit!)\n",
    "q2.solution()"
   ]
  },
  {
   "cell_type": "markdown",
   "id": "9a7b1af4",
   "metadata": {
    "papermill": {
     "duration": 0.032208,
     "end_time": "2021-08-24T06:44:25.969935",
     "exception": false,
     "start_time": "2021-08-24T06:44:25.937727",
     "status": "completed"
    },
    "tags": []
   },
   "source": [
    "# 3. <span title=\"A bit spicy\" style=\"color: darkgreen \">🌶️</span>\n",
    "\n",
    "In the tutorial, we talked about deciding whether we're prepared for the weather. I said that I'm safe from today's weather if...\n",
    "- I have an umbrella...\n",
    "- or if the rain isn't too heavy and I have a hood...\n",
    "- otherwise, I'm still fine unless it's raining *and* it's a workday\n",
    "\n",
    "The function below uses our first attempt at turning this logic into a Python expression. I claimed that there was a bug in that code. Can you find it?\n",
    "\n",
    "To prove that `prepared_for_weather` is buggy, come up with a set of inputs where either:\n",
    "- the function returns `False` (but should have returned `True`), or\n",
    "- the function returned `True` (but should have returned `False`).\n",
    "\n",
    "To get credit for completing this question, your code should return a <font color='#33cc33'>Correct</font> result."
   ]
  },
  {
   "cell_type": "code",
   "execution_count": 8,
   "id": "420817aa",
   "metadata": {
    "execution": {
     "iopub.execute_input": "2021-08-24T06:44:26.041651Z",
     "iopub.status.busy": "2021-08-24T06:44:26.040949Z",
     "iopub.status.idle": "2021-08-24T06:44:26.048428Z",
     "shell.execute_reply": "2021-08-24T06:44:26.047557Z",
     "shell.execute_reply.started": "2021-08-24T06:21:17.645795Z"
    },
    "papermill": {
     "duration": 0.046949,
     "end_time": "2021-08-24T06:44:26.048583",
     "exception": false,
     "start_time": "2021-08-24T06:44:26.001634",
     "status": "completed"
    },
    "tags": []
   },
   "outputs": [
    {
     "name": "stdout",
     "output_type": "stream",
     "text": [
      "False\n"
     ]
    },
    {
     "data": {
      "application/javascript": [
       "parent.postMessage({\"jupyterEvent\": \"custom.exercise_interaction\", \"data\": {\"outcomeType\": 1, \"valueTowardsCompletion\": 0.2, \"interactionType\": 1, \"questionType\": 1, \"questionId\": \"3_WeatherDebug\", \"learnToolsVersion\": \"0.3.4\", \"failureMessage\": \"\", \"exceptionClass\": \"\", \"trace\": \"\"}}, \"*\")"
      ],
      "text/plain": [
       "<IPython.core.display.Javascript object>"
      ]
     },
     "metadata": {},
     "output_type": "display_data"
    },
    {
     "data": {
      "text/markdown": [
       "<span style=\"color:#33cc33\">Correct:</span> \n",
       "\n",
       "One example of a failing test case is:\n",
       "\n",
       "```python\n",
       "have_umbrella = False\n",
       "rain_level = 0.0\n",
       "have_hood = False\n",
       "is_workday = False\n",
       "```\n",
       "\n",
       "Clearly we're prepared for the weather in this case. It's not raining. Not only that, it's not a workday, so we don't even need to leave the house! But our function will return False on these inputs.\n",
       "\n",
       "The key problem is that Python implictly parenthesizes the last part as:\n",
       "\n",
       "```python\n",
       "(not (rain_level > 0)) and is_workday\n",
       "```\n",
       "\n",
       "Whereas what we were trying to express would look more like:\n",
       "\n",
       "```python\n",
       "not (rain_level > 0 and is_workday)\n",
       "```\n"
      ],
      "text/plain": [
       "Correct: \n",
       "\n",
       "One example of a failing test case is:\n",
       "\n",
       "```python\n",
       "have_umbrella = False\n",
       "rain_level = 0.0\n",
       "have_hood = False\n",
       "is_workday = False\n",
       "```\n",
       "\n",
       "Clearly we're prepared for the weather in this case. It's not raining. Not only that, it's not a workday, so we don't even need to leave the house! But our function will return False on these inputs.\n",
       "\n",
       "The key problem is that Python implictly parenthesizes the last part as:\n",
       "\n",
       "```python\n",
       "(not (rain_level > 0)) and is_workday\n",
       "```\n",
       "\n",
       "Whereas what we were trying to express would look more like:\n",
       "\n",
       "```python\n",
       "not (rain_level > 0 and is_workday)\n",
       "```"
      ]
     },
     "metadata": {},
     "output_type": "display_data"
    }
   ],
   "source": [
    "def prepared_for_weather(have_umbrella, rain_level, have_hood, is_workday):\n",
    "    # Don't change this code. Our goal is just to find the bug, not fix it!\n",
    "    # false or true and false or true and false\n",
    "    # false or false or false\n",
    "    return have_umbrella or rain_level < 5 and have_hood or not rain_level > 0 and is_workday\n",
    "\n",
    "# Change the values of these inputs so they represent a case where prepared_for_weather\n",
    "# returns the wrong answer.\n",
    "have_umbrella = False\n",
    "rain_level = 0.0\n",
    "have_hood = False\n",
    "is_workday = False\n",
    "\n",
    "# Check what the function returns given the current values of the variables above\n",
    "actual = prepared_for_weather(have_umbrella, rain_level, have_hood, is_workday)\n",
    "print(actual)\n",
    "\n",
    "# Check your answer\n",
    "q3.check()"
   ]
  },
  {
   "cell_type": "code",
   "execution_count": 9,
   "id": "18f50ec5",
   "metadata": {
    "execution": {
     "iopub.execute_input": "2021-08-24T06:44:26.120004Z",
     "iopub.status.busy": "2021-08-24T06:44:26.119401Z",
     "iopub.status.idle": "2021-08-24T06:44:26.122737Z",
     "shell.execute_reply": "2021-08-24T06:44:26.122132Z",
     "shell.execute_reply.started": "2021-08-24T06:19:59.887655Z"
    },
    "papermill": {
     "duration": 0.04098,
     "end_time": "2021-08-24T06:44:26.122873",
     "exception": false,
     "start_time": "2021-08-24T06:44:26.081893",
     "status": "completed"
    },
    "tags": []
   },
   "outputs": [],
   "source": [
    "#q3.hint()\n",
    "#q3.solution()"
   ]
  },
  {
   "cell_type": "markdown",
   "id": "46d509f9",
   "metadata": {
    "papermill": {
     "duration": 0.032971,
     "end_time": "2021-08-24T06:44:26.189669",
     "exception": false,
     "start_time": "2021-08-24T06:44:26.156698",
     "status": "completed"
    },
    "tags": []
   },
   "source": [
    "# 4.\n",
    "\n",
    "The function `is_negative` below is implemented correctly - it returns True if the given number is negative and False otherwise.\n",
    "\n",
    "However, it's more verbose than it needs to be. We can actually reduce the number of lines of code in this function by *75%* while keeping the same behaviour. \n",
    "\n",
    "See if you can come up with an equivalent body that uses just **one line** of code, and put it in the function `concise_is_negative`. (HINT: you don't even need Python's ternary syntax)"
   ]
  },
  {
   "cell_type": "code",
   "execution_count": 10,
   "id": "9199f731",
   "metadata": {
    "execution": {
     "iopub.execute_input": "2021-08-24T06:44:26.261949Z",
     "iopub.status.busy": "2021-08-24T06:44:26.261352Z",
     "iopub.status.idle": "2021-08-24T06:44:26.267214Z",
     "shell.execute_reply": "2021-08-24T06:44:26.266732Z",
     "shell.execute_reply.started": "2021-08-24T06:32:45.520056Z"
    },
    "papermill": {
     "duration": 0.044567,
     "end_time": "2021-08-24T06:44:26.267357",
     "exception": false,
     "start_time": "2021-08-24T06:44:26.222790",
     "status": "completed"
    },
    "tags": []
   },
   "outputs": [
    {
     "data": {
      "application/javascript": [
       "parent.postMessage({\"jupyterEvent\": \"custom.exercise_interaction\", \"data\": {\"outcomeType\": 1, \"valueTowardsCompletion\": 0.2, \"interactionType\": 1, \"questionType\": 2, \"questionId\": \"4_ConciseIsNegative\", \"learnToolsVersion\": \"0.3.4\", \"failureMessage\": \"\", \"exceptionClass\": \"\", \"trace\": \"\"}}, \"*\")"
      ],
      "text/plain": [
       "<IPython.core.display.Javascript object>"
      ]
     },
     "metadata": {},
     "output_type": "display_data"
    },
    {
     "data": {
      "text/markdown": [
       "<span style=\"color:#33cc33\">Correct</span>"
      ],
      "text/plain": [
       "Correct"
      ]
     },
     "metadata": {},
     "output_type": "display_data"
    }
   ],
   "source": [
    "def is_negative(number):\n",
    "    if number < 0:\n",
    "        return True\n",
    "    else:\n",
    "        return False\n",
    "\n",
    "def concise_is_negative(number):\n",
    "    return (True if number<0 else False) # Your code goes here (try to keep it to one line!)\n",
    "    \n",
    "\n",
    "# Check your answer\n",
    "q4.check()"
   ]
  },
  {
   "cell_type": "code",
   "execution_count": 11,
   "id": "24e14cfd",
   "metadata": {
    "execution": {
     "iopub.execute_input": "2021-08-24T06:44:26.339973Z",
     "iopub.status.busy": "2021-08-24T06:44:26.339162Z",
     "iopub.status.idle": "2021-08-24T06:44:26.341871Z",
     "shell.execute_reply": "2021-08-24T06:44:26.341310Z"
    },
    "papermill": {
     "duration": 0.040475,
     "end_time": "2021-08-24T06:44:26.341990",
     "exception": false,
     "start_time": "2021-08-24T06:44:26.301515",
     "status": "completed"
    },
    "tags": []
   },
   "outputs": [],
   "source": [
    "#q4.hint()\n",
    "#q4.solution()"
   ]
  },
  {
   "cell_type": "markdown",
   "id": "3cb16bed",
   "metadata": {
    "papermill": {
     "duration": 0.034051,
     "end_time": "2021-08-24T06:44:26.410136",
     "exception": false,
     "start_time": "2021-08-24T06:44:26.376085",
     "status": "completed"
    },
    "tags": []
   },
   "source": [
    "# 5a.\n",
    "\n",
    "The boolean variables `ketchup`, `mustard` and `onion` represent whether a customer wants a particular topping on their hot dog. We want to implement a number of boolean functions that correspond to some yes-or-no questions about the customer's order. For example:"
   ]
  },
  {
   "cell_type": "code",
   "execution_count": 12,
   "id": "abffd4e5",
   "metadata": {
    "execution": {
     "iopub.execute_input": "2021-08-24T06:44:26.483013Z",
     "iopub.status.busy": "2021-08-24T06:44:26.482434Z",
     "iopub.status.idle": "2021-08-24T06:44:26.485301Z",
     "shell.execute_reply": "2021-08-24T06:44:26.484831Z",
     "shell.execute_reply.started": "2021-08-24T06:33:11.335660Z"
    },
    "papermill": {
     "duration": 0.041303,
     "end_time": "2021-08-24T06:44:26.485423",
     "exception": false,
     "start_time": "2021-08-24T06:44:26.444120",
     "status": "completed"
    },
    "tags": []
   },
   "outputs": [],
   "source": [
    "def onionless(ketchup, mustard, onion):\n",
    "    \"\"\"Return whether the customer doesn't want onions.\n",
    "    \"\"\"\n",
    "    return not onion"
   ]
  },
  {
   "cell_type": "code",
   "execution_count": 13,
   "id": "17c943a6",
   "metadata": {
    "execution": {
     "iopub.execute_input": "2021-08-24T06:44:26.560260Z",
     "iopub.status.busy": "2021-08-24T06:44:26.559236Z",
     "iopub.status.idle": "2021-08-24T06:44:26.565766Z",
     "shell.execute_reply": "2021-08-24T06:44:26.565057Z",
     "shell.execute_reply.started": "2021-08-24T06:33:45.478892Z"
    },
    "papermill": {
     "duration": 0.046361,
     "end_time": "2021-08-24T06:44:26.565898",
     "exception": false,
     "start_time": "2021-08-24T06:44:26.519537",
     "status": "completed"
    },
    "tags": []
   },
   "outputs": [
    {
     "data": {
      "application/javascript": [
       "parent.postMessage({\"jupyterEvent\": \"custom.exercise_interaction\", \"data\": {\"outcomeType\": 1, \"valueTowardsCompletion\": 0.2, \"interactionType\": 1, \"questionType\": 2, \"questionId\": \"5.1_AllToppings\", \"learnToolsVersion\": \"0.3.4\", \"failureMessage\": \"\", \"exceptionClass\": \"\", \"trace\": \"\"}}, \"*\")"
      ],
      "text/plain": [
       "<IPython.core.display.Javascript object>"
      ]
     },
     "metadata": {},
     "output_type": "display_data"
    },
    {
     "data": {
      "text/markdown": [
       "<span style=\"color:#33cc33\">Correct</span>"
      ],
      "text/plain": [
       "Correct"
      ]
     },
     "metadata": {},
     "output_type": "display_data"
    }
   ],
   "source": [
    "def wants_all_toppings(ketchup, mustard, onion):\n",
    "    \"\"\"Return whether the customer wants \"the works\" (all 3 toppings)\n",
    "    \"\"\"\n",
    "    return ketchup and mustard and onion\n",
    "\n",
    "# Check your answer\n",
    "q5.a.check()"
   ]
  },
  {
   "cell_type": "code",
   "execution_count": 14,
   "id": "20b94410",
   "metadata": {
    "execution": {
     "iopub.execute_input": "2021-08-24T06:44:26.646158Z",
     "iopub.status.busy": "2021-08-24T06:44:26.645505Z",
     "iopub.status.idle": "2021-08-24T06:44:26.650549Z",
     "shell.execute_reply": "2021-08-24T06:44:26.649933Z"
    },
    "papermill": {
     "duration": 0.048525,
     "end_time": "2021-08-24T06:44:26.650677",
     "exception": false,
     "start_time": "2021-08-24T06:44:26.602152",
     "status": "completed"
    },
    "tags": []
   },
   "outputs": [],
   "source": [
    "#q5.a.hint()\n",
    "#q5.a.solution()"
   ]
  },
  {
   "cell_type": "markdown",
   "id": "cf5f33ac",
   "metadata": {
    "papermill": {
     "duration": 0.041118,
     "end_time": "2021-08-24T06:44:26.737703",
     "exception": false,
     "start_time": "2021-08-24T06:44:26.696585",
     "status": "completed"
    },
    "tags": []
   },
   "source": [
    "# 5b.\n",
    "\n",
    "For the next function, fill in the body to match the English description in the docstring. "
   ]
  },
  {
   "cell_type": "code",
   "execution_count": 15,
   "id": "0eeafdfb",
   "metadata": {
    "execution": {
     "iopub.execute_input": "2021-08-24T06:44:26.814061Z",
     "iopub.status.busy": "2021-08-24T06:44:26.813419Z",
     "iopub.status.idle": "2021-08-24T06:44:26.817788Z",
     "shell.execute_reply": "2021-08-24T06:44:26.818413Z",
     "shell.execute_reply.started": "2021-08-24T06:34:49.865976Z"
    },
    "papermill": {
     "duration": 0.045386,
     "end_time": "2021-08-24T06:44:26.818566",
     "exception": false,
     "start_time": "2021-08-24T06:44:26.773180",
     "status": "completed"
    },
    "tags": []
   },
   "outputs": [
    {
     "data": {
      "application/javascript": [
       "parent.postMessage({\"jupyterEvent\": \"custom.exercise_interaction\", \"data\": {\"outcomeType\": 1, \"valueTowardsCompletion\": 0.2, \"interactionType\": 1, \"questionType\": 2, \"questionId\": \"5.2_PlainDog\", \"learnToolsVersion\": \"0.3.4\", \"failureMessage\": \"\", \"exceptionClass\": \"\", \"trace\": \"\"}}, \"*\")"
      ],
      "text/plain": [
       "<IPython.core.display.Javascript object>"
      ]
     },
     "metadata": {},
     "output_type": "display_data"
    },
    {
     "data": {
      "text/markdown": [
       "<span style=\"color:#33cc33\">Correct:</span> \n",
       "\n",
       "One solution looks like:\n",
       "```python\n",
       "return not ketchup and not mustard and not onion\n",
       "```\n",
       "\n",
       "We can also [\"factor out\" the nots](https://en.wikipedia.org/wiki/De_Morgan%27s_laws) to get:\n",
       "\n",
       "```python\n",
       "return not (ketchup or mustard or onion)\n",
       "```"
      ],
      "text/plain": [
       "Correct: \n",
       "\n",
       "One solution looks like:\n",
       "```python\n",
       "return not ketchup and not mustard and not onion\n",
       "```\n",
       "\n",
       "We can also [\"factor out\" the nots](https://en.wikipedia.org/wiki/De_Morgan%27s_laws) to get:\n",
       "\n",
       "```python\n",
       "return not (ketchup or mustard or onion)\n",
       "```"
      ]
     },
     "metadata": {},
     "output_type": "display_data"
    }
   ],
   "source": [
    "def wants_plain_hotdog(ketchup, mustard, onion):\n",
    "    \"\"\"Return whether the customer wants a plain hot dog with no toppings.\n",
    "    \"\"\"\n",
    "    return not (ketchup or mustard or onion)\n",
    "\n",
    "# Check your answer\n",
    "q5.b.check()"
   ]
  },
  {
   "cell_type": "code",
   "execution_count": 16,
   "id": "bb595cd2",
   "metadata": {
    "execution": {
     "iopub.execute_input": "2021-08-24T06:44:26.894179Z",
     "iopub.status.busy": "2021-08-24T06:44:26.893582Z",
     "iopub.status.idle": "2021-08-24T06:44:26.896660Z",
     "shell.execute_reply": "2021-08-24T06:44:26.897251Z"
    },
    "papermill": {
     "duration": 0.042495,
     "end_time": "2021-08-24T06:44:26.897427",
     "exception": false,
     "start_time": "2021-08-24T06:44:26.854932",
     "status": "completed"
    },
    "tags": []
   },
   "outputs": [],
   "source": [
    "#q5.b.hint()\n",
    "#q5.b.solution()"
   ]
  },
  {
   "cell_type": "markdown",
   "id": "f890d7fe",
   "metadata": {
    "papermill": {
     "duration": 0.037185,
     "end_time": "2021-08-24T06:44:26.972869",
     "exception": false,
     "start_time": "2021-08-24T06:44:26.935684",
     "status": "completed"
    },
    "tags": []
   },
   "source": [
    "# 5c.\n",
    "\n",
    "You know what to do: for the next function, fill in the body to match the English description in the docstring."
   ]
  },
  {
   "cell_type": "code",
   "execution_count": 17,
   "id": "efdca911",
   "metadata": {
    "execution": {
     "iopub.execute_input": "2021-08-24T06:44:27.055851Z",
     "iopub.status.busy": "2021-08-24T06:44:27.054750Z",
     "iopub.status.idle": "2021-08-24T06:44:27.060593Z",
     "shell.execute_reply": "2021-08-24T06:44:27.059931Z",
     "shell.execute_reply.started": "2021-08-24T06:37:00.819787Z"
    },
    "papermill": {
     "duration": 0.049565,
     "end_time": "2021-08-24T06:44:27.060723",
     "exception": false,
     "start_time": "2021-08-24T06:44:27.011158",
     "status": "completed"
    },
    "tags": []
   },
   "outputs": [
    {
     "data": {
      "application/javascript": [
       "parent.postMessage({\"jupyterEvent\": \"custom.exercise_interaction\", \"data\": {\"outcomeType\": 1, \"valueTowardsCompletion\": 0.2, \"interactionType\": 1, \"questionType\": 2, \"questionId\": \"5.3_OneSauce\", \"learnToolsVersion\": \"0.3.4\", \"failureMessage\": \"\", \"exceptionClass\": \"\", \"trace\": \"\"}}, \"*\")"
      ],
      "text/plain": [
       "<IPython.core.display.Javascript object>"
      ]
     },
     "metadata": {},
     "output_type": "display_data"
    },
    {
     "data": {
      "text/markdown": [
       "<span style=\"color:#33cc33\">Correct</span>"
      ],
      "text/plain": [
       "Correct"
      ]
     },
     "metadata": {},
     "output_type": "display_data"
    }
   ],
   "source": [
    "def exactly_one_sauce(ketchup, mustard, onion):\n",
    "    \"\"\"Return whether the customer wants either ketchup or mustard, but not both.\n",
    "    (You may be familiar with this operation under the name \"exclusive or\")\n",
    "    \"\"\"\n",
    "    return (ketchup and not mustard) or (mustard and not ketchup) and onion\n",
    "\n",
    "# Check your answer\n",
    "q5.c.check()"
   ]
  },
  {
   "cell_type": "code",
   "execution_count": 18,
   "id": "d1d76803",
   "metadata": {
    "execution": {
     "iopub.execute_input": "2021-08-24T06:44:27.142484Z",
     "iopub.status.busy": "2021-08-24T06:44:27.141863Z",
     "iopub.status.idle": "2021-08-24T06:44:27.144751Z",
     "shell.execute_reply": "2021-08-24T06:44:27.144156Z"
    },
    "papermill": {
     "duration": 0.045115,
     "end_time": "2021-08-24T06:44:27.144894",
     "exception": false,
     "start_time": "2021-08-24T06:44:27.099779",
     "status": "completed"
    },
    "tags": []
   },
   "outputs": [],
   "source": [
    "#q5.c.hint()\n",
    "#q5.c.solution()"
   ]
  },
  {
   "cell_type": "markdown",
   "id": "b8a5abc1",
   "metadata": {
    "papermill": {
     "duration": 0.038025,
     "end_time": "2021-08-24T06:44:27.221756",
     "exception": false,
     "start_time": "2021-08-24T06:44:27.183731",
     "status": "completed"
    },
    "tags": []
   },
   "source": [
    "# 6. <span title=\"A bit spicy\" style=\"color: darkgreen \">🌶️</span>\n",
    "\n",
    "We’ve seen that calling `bool()` on an integer returns `False` if it’s equal to 0 and `True` otherwise. What happens if we call `int()` on a bool? Try it out in the notebook cell below.\n",
    "\n",
    "Can you take advantage of this to write a succinct function that corresponds to the English sentence \"does the customer want exactly one topping?\"?"
   ]
  },
  {
   "cell_type": "code",
   "execution_count": 19,
   "id": "ab84f1a3",
   "metadata": {
    "execution": {
     "iopub.execute_input": "2021-08-24T06:44:27.301782Z",
     "iopub.status.busy": "2021-08-24T06:44:27.301146Z",
     "iopub.status.idle": "2021-08-24T06:44:27.308418Z",
     "shell.execute_reply": "2021-08-24T06:44:27.308905Z",
     "shell.execute_reply.started": "2021-08-24T06:41:21.166618Z"
    },
    "papermill": {
     "duration": 0.049125,
     "end_time": "2021-08-24T06:44:27.309073",
     "exception": false,
     "start_time": "2021-08-24T06:44:27.259948",
     "status": "completed"
    },
    "tags": []
   },
   "outputs": [
    {
     "data": {
      "application/javascript": [
       "parent.postMessage({\"jupyterEvent\": \"custom.exercise_interaction\", \"data\": {\"outcomeType\": 1, \"valueTowardsCompletion\": 0.2, \"interactionType\": 1, \"questionType\": 2, \"questionId\": \"6_OneTopping\", \"learnToolsVersion\": \"0.3.4\", \"failureMessage\": \"\", \"exceptionClass\": \"\", \"trace\": \"\"}}, \"*\")"
      ],
      "text/plain": [
       "<IPython.core.display.Javascript object>"
      ]
     },
     "metadata": {},
     "output_type": "display_data"
    },
    {
     "data": {
      "text/markdown": [
       "<span style=\"color:#33cc33\">Correct:</span> \n",
       "\n",
       "This condition would be pretty complicated to express using just `and`, `or` and `not`, but using boolean-to-integer conversion gives us this short solution:\n",
       "```python\n",
       "return (int(ketchup) + int(mustard) + int(onion)) == 1\n",
       "```\n",
       "\n",
       "Fun fact: we don't technically need to call `int` on the arguments. Just by doing addition with booleans, Python implicitly does the integer conversion. So we could also write...\n",
       "\n",
       "```python\n",
       "return (ketchup + mustard + onion) == 1\n",
       "```"
      ],
      "text/plain": [
       "Correct: \n",
       "\n",
       "This condition would be pretty complicated to express using just `and`, `or` and `not`, but using boolean-to-integer conversion gives us this short solution:\n",
       "```python\n",
       "return (int(ketchup) + int(mustard) + int(onion)) == 1\n",
       "```\n",
       "\n",
       "Fun fact: we don't technically need to call `int` on the arguments. Just by doing addition with booleans, Python implicitly does the integer conversion. So we could also write...\n",
       "\n",
       "```python\n",
       "return (ketchup + mustard + onion) == 1\n",
       "```"
      ]
     },
     "metadata": {},
     "output_type": "display_data"
    }
   ],
   "source": [
    "def exactly_one_topping(ketchup, mustard, onion):\n",
    "    \"\"\"Return whether the customer wants exactly one of the three available toppings\n",
    "    on their hot dog.\n",
    "    \"\"\"\n",
    "    return (ketchup + mustard + onion) == 1\n",
    "\n",
    "# Check your answer\n",
    "q6.check()"
   ]
  },
  {
   "cell_type": "code",
   "execution_count": 20,
   "id": "2144057e",
   "metadata": {
    "execution": {
     "iopub.execute_input": "2021-08-24T06:44:27.392327Z",
     "iopub.status.busy": "2021-08-24T06:44:27.391695Z",
     "iopub.status.idle": "2021-08-24T06:44:27.395050Z",
     "shell.execute_reply": "2021-08-24T06:44:27.395548Z"
    },
    "papermill": {
     "duration": 0.046308,
     "end_time": "2021-08-24T06:44:27.395720",
     "exception": false,
     "start_time": "2021-08-24T06:44:27.349412",
     "status": "completed"
    },
    "tags": []
   },
   "outputs": [],
   "source": [
    "#q6.hint()\n",
    "#q6.solution()"
   ]
  },
  {
   "cell_type": "markdown",
   "id": "f32141fe",
   "metadata": {
    "papermill": {
     "duration": 0.038764,
     "end_time": "2021-08-24T06:44:27.474198",
     "exception": false,
     "start_time": "2021-08-24T06:44:27.435434",
     "status": "completed"
    },
    "tags": []
   },
   "source": [
    "# 7. <span title=\"A bit spicy\" style=\"color: darkgreen \">🌶️</span> (Optional)\n",
    "\n",
    "In this problem we'll be working with a simplified version of [blackjack](https://en.wikipedia.org/wiki/Blackjack) (aka twenty-one). In this version there is one player (who you'll control) and a dealer. Play proceeds as follows:\n",
    "\n",
    "- The player is dealt two face-up cards. The dealer is dealt one face-up card.\n",
    "- The player may ask to be dealt another card ('hit') as many times as they wish. If the sum of their cards exceeds 21, they lose the round immediately.\n",
    "- The dealer then deals additional cards to himself until either:\n",
    "    - the sum of the dealer's cards exceeds 21, in which case the player wins the round\n",
    "    - the sum of the dealer's cards is greater than or equal to 17. If the player's total is greater than the dealer's, the player wins. Otherwise, the dealer wins (even in case of a tie).\n",
    "    \n",
    "When calculating the sum of cards, Jack, Queen, and King count for 10. Aces can count as 1 or 11 (when referring to a player's \"total\" above, we mean the largest total that can be made without exceeding 21. So e.g. A+8 = 19, A+8+8 = 17)\n",
    "\n",
    "For this problem, you'll write a function representing the player's decision-making strategy in this game. We've provided a very unintelligent implementation below:"
   ]
  },
  {
   "cell_type": "code",
   "execution_count": 21,
   "id": "6884a4f4",
   "metadata": {
    "execution": {
     "iopub.execute_input": "2021-08-24T06:44:27.557806Z",
     "iopub.status.busy": "2021-08-24T06:44:27.557161Z",
     "iopub.status.idle": "2021-08-24T06:44:27.562187Z",
     "shell.execute_reply": "2021-08-24T06:44:27.561571Z",
     "shell.execute_reply.started": "2021-08-24T06:43:41.557731Z"
    },
    "papermill": {
     "duration": 0.048297,
     "end_time": "2021-08-24T06:44:27.562346",
     "exception": false,
     "start_time": "2021-08-24T06:44:27.514049",
     "status": "completed"
    },
    "tags": []
   },
   "outputs": [],
   "source": [
    "def should_hit(dealer_total, player_total, player_low_aces, player_high_aces):\n",
    "    \"\"\"Return True if the player should hit (request another card) given the current game\n",
    "    state, or False if the player should stay.\n",
    "    When calculating a hand's total value, we count aces as \"high\" (with value 11) if doing so\n",
    "    doesn't bring the total above 21, otherwise we count them as low (with value 1). \n",
    "    For example, if the player's hand is {A, A, A, 7}, we will count it as 11 + 1 + 1 + 7,\n",
    "    and therefore set player_total=20, player_low_aces=2, player_high_aces=1.\n",
    "    \"\"\"\n",
    "    return False"
   ]
  },
  {
   "cell_type": "markdown",
   "id": "33a09cee",
   "metadata": {
    "papermill": {
     "duration": 0.039926,
     "end_time": "2021-08-24T06:44:27.642286",
     "exception": false,
     "start_time": "2021-08-24T06:44:27.602360",
     "status": "completed"
    },
    "tags": []
   },
   "source": [
    "This very conservative agent *always* sticks with the hand of two cards that they're dealt.\n",
    "\n",
    "We'll be simulating games between your player agent and our own dealer agent by calling your function.\n",
    "\n",
    "Try running the function below to see an example of a simulated game:"
   ]
  },
  {
   "cell_type": "code",
   "execution_count": 22,
   "id": "8b325e3f",
   "metadata": {
    "execution": {
     "iopub.execute_input": "2021-08-24T06:44:27.726485Z",
     "iopub.status.busy": "2021-08-24T06:44:27.725827Z",
     "iopub.status.idle": "2021-08-24T06:44:27.730564Z",
     "shell.execute_reply": "2021-08-24T06:44:27.730056Z",
     "shell.execute_reply.started": "2021-08-24T06:43:43.791561Z"
    },
    "papermill": {
     "duration": 0.048667,
     "end_time": "2021-08-24T06:44:27.730693",
     "exception": false,
     "start_time": "2021-08-24T06:44:27.682026",
     "status": "completed"
    },
    "tags": []
   },
   "outputs": [
    {
     "name": "stdout",
     "output_type": "stream",
     "text": [
      "Player starts with 10 and 10 (total = 20)\n",
      "Dealer starts with 6\n",
      "\n",
      "__Player's turn__\n",
      "Player stays\n",
      "\n",
      "__Dealer's turn__\n",
      "Dealer hits and receives 4. (total = 10)\n",
      "Dealer hits and receives K. (total = 20)\n",
      "Dealer stands.\n",
      "Dealer wins. 20 >= 20\n"
     ]
    }
   ],
   "source": [
    "q7.simulate_one_game()"
   ]
  },
  {
   "cell_type": "markdown",
   "id": "ef0cccb6",
   "metadata": {
    "papermill": {
     "duration": 0.038309,
     "end_time": "2021-08-24T06:44:27.807714",
     "exception": false,
     "start_time": "2021-08-24T06:44:27.769405",
     "status": "completed"
    },
    "tags": []
   },
   "source": [
    "The real test of your agent's mettle is their average win rate over many games. Try calling the function below to simulate 50000 games of blackjack (it may take a couple seconds):"
   ]
  },
  {
   "cell_type": "code",
   "execution_count": 23,
   "id": "1a37415b",
   "metadata": {
    "execution": {
     "iopub.execute_input": "2021-08-24T06:44:27.920103Z",
     "iopub.status.busy": "2021-08-24T06:44:27.914999Z",
     "iopub.status.idle": "2021-08-24T06:44:29.900773Z",
     "shell.execute_reply": "2021-08-24T06:44:29.901464Z",
     "shell.execute_reply.started": "2021-08-24T06:43:49.959674Z"
    },
    "papermill": {
     "duration": 2.054979,
     "end_time": "2021-08-24T06:44:29.901697",
     "exception": false,
     "start_time": "2021-08-24T06:44:27.846718",
     "status": "completed"
    },
    "tags": []
   },
   "outputs": [
    {
     "name": "stdout",
     "output_type": "stream",
     "text": [
      "Player won 19056 out of 50000 games (win rate = 38.1%)\n"
     ]
    }
   ],
   "source": [
    "q7.simulate(n_games=50000)"
   ]
  },
  {
   "cell_type": "markdown",
   "id": "68df69d8",
   "metadata": {
    "papermill": {
     "duration": 0.039743,
     "end_time": "2021-08-24T06:44:29.982881",
     "exception": false,
     "start_time": "2021-08-24T06:44:29.943138",
     "status": "completed"
    },
    "tags": []
   },
   "source": [
    "Our dumb agent that completely ignores the game state still manages to win shockingly often!\n",
    "\n",
    "Try adding some more smarts to the `should_hit` function and see how it affects the results."
   ]
  },
  {
   "cell_type": "code",
   "execution_count": 24,
   "id": "24e06290",
   "metadata": {
    "execution": {
     "iopub.execute_input": "2021-08-24T06:44:30.092493Z",
     "iopub.status.busy": "2021-08-24T06:44:30.091447Z",
     "iopub.status.idle": "2021-08-24T06:44:32.050664Z",
     "shell.execute_reply": "2021-08-24T06:44:32.050006Z",
     "shell.execute_reply.started": "2021-08-24T06:43:55.516771Z"
    },
    "papermill": {
     "duration": 2.027951,
     "end_time": "2021-08-24T06:44:32.050806",
     "exception": false,
     "start_time": "2021-08-24T06:44:30.022855",
     "status": "completed"
    },
    "tags": []
   },
   "outputs": [
    {
     "name": "stdout",
     "output_type": "stream",
     "text": [
      "Player won 18991 out of 50000 games (win rate = 38.0%)\n"
     ]
    }
   ],
   "source": [
    "def should_hit(dealer_total, player_total, player_low_aces, player_high_aces):\n",
    "    \"\"\"Return True if the player should hit (request another card) given the current game\n",
    "    state, or False if the player should stay.\n",
    "    When calculating a hand's total value, we count aces as \"high\" (with value 11) if doing so\n",
    "    doesn't bring the total above 21, otherwise we count them as low (with value 1). \n",
    "    For example, if the player's hand is {A, A, A, 7}, we will count it as 11 + 1 + 1 + 7,\n",
    "    and therefore set player_total=20, player_low_aces=2, player_high_aces=1.\n",
    "    \"\"\"\n",
    "    return False\n",
    "\n",
    "q7.simulate(n_games=50000)"
   ]
  },
  {
   "cell_type": "markdown",
   "id": "4dd06848",
   "metadata": {
    "papermill": {
     "duration": 0.039901,
     "end_time": "2021-08-24T06:44:32.129432",
     "exception": false,
     "start_time": "2021-08-24T06:44:32.089531",
     "status": "completed"
    },
    "tags": []
   },
   "source": [
    "# Keep Going\n",
    "\n",
    "Learn about **[lists and tuples](https://www.kaggle.com/colinmorris/lists)** to handle multiple items of data in a systematic way."
   ]
  },
  {
   "cell_type": "markdown",
   "id": "e0f270ac",
   "metadata": {
    "papermill": {
     "duration": 0.038731,
     "end_time": "2021-08-24T06:44:32.207567",
     "exception": false,
     "start_time": "2021-08-24T06:44:32.168836",
     "status": "completed"
    },
    "tags": []
   },
   "source": [
    "---\n",
    "\n",
    "\n",
    "\n",
    "\n",
    "*Have questions or comments? Visit the [Learn Discussion forum](https://www.kaggle.com/learn-forum/161283) to chat with other Learners.*"
   ]
  }
 ],
 "metadata": {
  "kernelspec": {
   "display_name": "Python 3",
   "language": "python",
   "name": "python3"
  },
  "language_info": {
   "codemirror_mode": {
    "name": "ipython",
    "version": 3
   },
   "file_extension": ".py",
   "mimetype": "text/x-python",
   "name": "python",
   "nbconvert_exporter": "python",
   "pygments_lexer": "ipython3",
   "version": "3.7.10"
  },
  "papermill": {
   "default_parameters": {},
   "duration": 15.475345,
   "end_time": "2021-08-24T06:44:32.856703",
   "environment_variables": {},
   "exception": null,
   "input_path": "__notebook__.ipynb",
   "output_path": "__notebook__.ipynb",
   "parameters": {},
   "start_time": "2021-08-24T06:44:17.381358",
   "version": "2.3.3"
  }
 },
 "nbformat": 4,
 "nbformat_minor": 5
}
