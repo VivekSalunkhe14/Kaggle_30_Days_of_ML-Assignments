{
 "cells": [
  {
   "cell_type": "markdown",
   "id": "32d80321",
   "metadata": {
    "papermill": {
     "duration": 0.012461,
     "end_time": "2021-08-24T11:33:14.256186",
     "exception": false,
     "start_time": "2021-08-24T11:33:14.243725",
     "status": "completed"
    },
    "tags": []
   },
   "source": [
    "**This notebook is an exercise in the [Introduction to Machine Learning](https://www.kaggle.com/learn/intro-to-machine-learning) course.  You can reference the tutorial at [this link](https://www.kaggle.com/dansbecker/underfitting-and-overfitting).**\n",
    "\n",
    "---\n"
   ]
  },
  {
   "cell_type": "markdown",
   "id": "eb73cdea",
   "metadata": {
    "papermill": {
     "duration": 0.011062,
     "end_time": "2021-08-24T11:33:14.280437",
     "exception": false,
     "start_time": "2021-08-24T11:33:14.269375",
     "status": "completed"
    },
    "tags": []
   },
   "source": [
    "## Recap\n",
    "You've built your first model, and now it's time to optimize the size of the tree to make better predictions. Run this cell to set up your coding environment where the previous step left off."
   ]
  },
  {
   "cell_type": "code",
   "execution_count": 1,
   "id": "38166eaa",
   "metadata": {
    "execution": {
     "iopub.execute_input": "2021-08-24T11:33:14.306392Z",
     "iopub.status.busy": "2021-08-24T11:33:14.305079Z",
     "iopub.status.idle": "2021-08-24T11:33:15.751175Z",
     "shell.execute_reply": "2021-08-24T11:33:15.750386Z",
     "shell.execute_reply.started": "2021-08-24T11:24:01.519492Z"
    },
    "papermill": {
     "duration": 1.460067,
     "end_time": "2021-08-24T11:33:15.751363",
     "exception": false,
     "start_time": "2021-08-24T11:33:14.291296",
     "status": "completed"
    },
    "tags": []
   },
   "outputs": [
    {
     "name": "stdout",
     "output_type": "stream",
     "text": [
      "Validation MAE: 29,653\n",
      "\n",
      "Setup complete\n"
     ]
    }
   ],
   "source": [
    "# Code you have previously used to load data\n",
    "import pandas as pd\n",
    "from sklearn.metrics import mean_absolute_error\n",
    "from sklearn.model_selection import train_test_split\n",
    "from sklearn.tree import DecisionTreeRegressor\n",
    "\n",
    "\n",
    "# Path of the file to read\n",
    "iowa_file_path = '../input/home-data-for-ml-course/train.csv'\n",
    "\n",
    "home_data = pd.read_csv(iowa_file_path)\n",
    "# Create target object and call it y\n",
    "y = home_data.SalePrice\n",
    "# Create X\n",
    "features = ['LotArea', 'YearBuilt', '1stFlrSF', '2ndFlrSF', 'FullBath', 'BedroomAbvGr', 'TotRmsAbvGrd']\n",
    "X = home_data[features]\n",
    "\n",
    "# Split into validation and training data\n",
    "train_X, val_X, train_y, val_y = train_test_split(X, y, random_state=1)\n",
    "\n",
    "# Specify Model\n",
    "iowa_model = DecisionTreeRegressor(random_state=1)\n",
    "# Fit Model\n",
    "iowa_model.fit(train_X, train_y)\n",
    "\n",
    "# Make validation predictions and calculate mean absolute error\n",
    "val_predictions = iowa_model.predict(val_X)\n",
    "val_mae = mean_absolute_error(val_predictions, val_y)\n",
    "print(\"Validation MAE: {:,.0f}\".format(val_mae))\n",
    "\n",
    "# Set up code checking\n",
    "from learntools.core import binder\n",
    "binder.bind(globals())\n",
    "from learntools.machine_learning.ex5 import *\n",
    "print(\"\\nSetup complete\")"
   ]
  },
  {
   "cell_type": "markdown",
   "id": "083f0cd5",
   "metadata": {
    "papermill": {
     "duration": 0.010917,
     "end_time": "2021-08-24T11:33:15.774263",
     "exception": false,
     "start_time": "2021-08-24T11:33:15.763346",
     "status": "completed"
    },
    "tags": []
   },
   "source": [
    "# Exercises\n",
    "You could write the function `get_mae` yourself. For now, we'll supply it. This is the same function you read about in the previous lesson. Just run the cell below."
   ]
  },
  {
   "cell_type": "code",
   "execution_count": 2,
   "id": "3d0b74f2",
   "metadata": {
    "execution": {
     "iopub.execute_input": "2021-08-24T11:33:15.802968Z",
     "iopub.status.busy": "2021-08-24T11:33:15.802292Z",
     "iopub.status.idle": "2021-08-24T11:33:15.804291Z",
     "shell.execute_reply": "2021-08-24T11:33:15.804751Z",
     "shell.execute_reply.started": "2021-08-24T11:24:25.180914Z"
    },
    "papermill": {
     "duration": 0.019172,
     "end_time": "2021-08-24T11:33:15.804931",
     "exception": false,
     "start_time": "2021-08-24T11:33:15.785759",
     "status": "completed"
    },
    "tags": []
   },
   "outputs": [],
   "source": [
    "def get_mae(max_leaf_nodes, train_X, val_X, train_y, val_y):\n",
    "    model = DecisionTreeRegressor(max_leaf_nodes=max_leaf_nodes, random_state=0)\n",
    "    model.fit(train_X, train_y)\n",
    "    preds_val = model.predict(val_X)\n",
    "    mae = mean_absolute_error(val_y, preds_val)\n",
    "    return(mae)"
   ]
  },
  {
   "cell_type": "markdown",
   "id": "f15f0084",
   "metadata": {
    "papermill": {
     "duration": 0.010925,
     "end_time": "2021-08-24T11:33:15.827251",
     "exception": false,
     "start_time": "2021-08-24T11:33:15.816326",
     "status": "completed"
    },
    "tags": []
   },
   "source": [
    "## Step 1: Compare Different Tree Sizes\n",
    "Write a loop that tries the following values for *max_leaf_nodes* from a set of possible values.\n",
    "\n",
    "Call the *get_mae* function on each value of max_leaf_nodes. Store the output in some way that allows you to select the value of `max_leaf_nodes` that gives the most accurate model on your data."
   ]
  },
  {
   "cell_type": "code",
   "execution_count": 3,
   "id": "b2706f53",
   "metadata": {
    "execution": {
     "iopub.execute_input": "2021-08-24T11:33:15.853232Z",
     "iopub.status.busy": "2021-08-24T11:33:15.852557Z",
     "iopub.status.idle": "2021-08-24T11:33:15.857886Z",
     "shell.execute_reply": "2021-08-24T11:33:15.857115Z",
     "shell.execute_reply.started": "2021-08-24T11:27:55.452243Z"
    },
    "papermill": {
     "duration": 0.019493,
     "end_time": "2021-08-24T11:33:15.858048",
     "exception": false,
     "start_time": "2021-08-24T11:33:15.838555",
     "status": "completed"
    },
    "tags": []
   },
   "outputs": [],
   "source": [
    "import numpy as np"
   ]
  },
  {
   "cell_type": "code",
   "execution_count": 4,
   "id": "79b54bd2",
   "metadata": {
    "execution": {
     "iopub.execute_input": "2021-08-24T11:33:15.884844Z",
     "iopub.status.busy": "2021-08-24T11:33:15.884111Z",
     "iopub.status.idle": "2021-08-24T11:33:15.938169Z",
     "shell.execute_reply": "2021-08-24T11:33:15.938629Z",
     "shell.execute_reply.started": "2021-08-24T11:29:07.949735Z"
    },
    "papermill": {
     "duration": 0.068869,
     "end_time": "2021-08-24T11:33:15.938802",
     "exception": false,
     "start_time": "2021-08-24T11:33:15.869933",
     "status": "completed"
    },
    "tags": []
   },
   "outputs": [
    {
     "data": {
      "application/javascript": [
       "parent.postMessage({\"jupyterEvent\": \"custom.exercise_interaction\", \"data\": {\"outcomeType\": 1, \"valueTowardsCompletion\": 0.5, \"interactionType\": 1, \"questionType\": 1, \"questionId\": \"1_BestTreeSize\", \"learnToolsVersion\": \"0.3.4\", \"failureMessage\": \"\", \"exceptionClass\": \"\", \"trace\": \"\"}}, \"*\")"
      ],
      "text/plain": [
       "<IPython.core.display.Javascript object>"
      ]
     },
     "metadata": {},
     "output_type": "display_data"
    },
    {
     "data": {
      "text/markdown": [
       "<span style=\"color:#33cc33\">Correct</span>"
      ],
      "text/plain": [
       "Correct"
      ]
     },
     "metadata": {},
     "output_type": "display_data"
    }
   ],
   "source": [
    "candidate_max_leaf_nodes = [5, 25, 50, 100, 250, 500]\n",
    "# Write loop to find the ideal tree size from candidate_max_leaf_nodes\n",
    "\n",
    "best_mae = np.Inf\n",
    "best_tree_size = -1\n",
    "for candidate in candidate_max_leaf_nodes:\n",
    "    mae = get_mae(candidate, train_X, val_X, train_y, val_y)\n",
    "    if mae < best_mae:\n",
    "        best_mae = mae\n",
    "        best_tree_size = candidate\n",
    "\n",
    "# Store the best value of max_leaf_nodes (it will be either 5, 25, 50, 100, 250 or 500) \n",
    "\n",
    "# Check your answer\n",
    "step_1.check()"
   ]
  },
  {
   "cell_type": "code",
   "execution_count": 5,
   "id": "ad4a555d",
   "metadata": {
    "execution": {
     "iopub.execute_input": "2021-08-24T11:33:15.966957Z",
     "iopub.status.busy": "2021-08-24T11:33:15.966219Z",
     "iopub.status.idle": "2021-08-24T11:33:15.971688Z",
     "shell.execute_reply": "2021-08-24T11:33:15.971143Z",
     "shell.execute_reply.started": "2021-08-24T11:29:55.908831Z"
    },
    "papermill": {
     "duration": 0.020642,
     "end_time": "2021-08-24T11:33:15.971850",
     "exception": false,
     "start_time": "2021-08-24T11:33:15.951208",
     "status": "completed"
    },
    "tags": []
   },
   "outputs": [
    {
     "name": "stdout",
     "output_type": "stream",
     "text": [
      "100\n"
     ]
    }
   ],
   "source": [
    "print(best_tree_size)"
   ]
  },
  {
   "cell_type": "code",
   "execution_count": 6,
   "id": "11c15d91",
   "metadata": {
    "execution": {
     "iopub.execute_input": "2021-08-24T11:33:16.002220Z",
     "iopub.status.busy": "2021-08-24T11:33:16.001512Z",
     "iopub.status.idle": "2021-08-24T11:33:16.004752Z",
     "shell.execute_reply": "2021-08-24T11:33:16.004227Z"
    },
    "papermill": {
     "duration": 0.019843,
     "end_time": "2021-08-24T11:33:16.004897",
     "exception": false,
     "start_time": "2021-08-24T11:33:15.985054",
     "status": "completed"
    },
    "tags": []
   },
   "outputs": [],
   "source": [
    "# The lines below will show you a hint or the solution.\n",
    "# step_1.hint() \n",
    "# step_1.solution()"
   ]
  },
  {
   "cell_type": "markdown",
   "id": "69b68ca0",
   "metadata": {
    "papermill": {
     "duration": 0.012362,
     "end_time": "2021-08-24T11:33:16.030283",
     "exception": false,
     "start_time": "2021-08-24T11:33:16.017921",
     "status": "completed"
    },
    "tags": []
   },
   "source": [
    "## Step 2: Fit Model Using All Data\n",
    "You know the best tree size. If you were going to deploy this model in practice, you would make it even more accurate by using all of the data and keeping that tree size.  That is, you don't need to hold out the validation data now that you've made all your modeling decisions."
   ]
  },
  {
   "cell_type": "code",
   "execution_count": 7,
   "id": "c3a7b5d8",
   "metadata": {
    "execution": {
     "iopub.execute_input": "2021-08-24T11:33:16.065011Z",
     "iopub.status.busy": "2021-08-24T11:33:16.064337Z",
     "iopub.status.idle": "2021-08-24T11:33:16.076393Z",
     "shell.execute_reply": "2021-08-24T11:33:16.077062Z",
     "shell.execute_reply.started": "2021-08-24T11:31:15.148643Z"
    },
    "papermill": {
     "duration": 0.033939,
     "end_time": "2021-08-24T11:33:16.077236",
     "exception": false,
     "start_time": "2021-08-24T11:33:16.043297",
     "status": "completed"
    },
    "tags": []
   },
   "outputs": [
    {
     "data": {
      "application/javascript": [
       "parent.postMessage({\"jupyterEvent\": \"custom.exercise_interaction\", \"data\": {\"outcomeType\": 1, \"valueTowardsCompletion\": 0.5, \"interactionType\": 1, \"questionType\": 2, \"questionId\": \"2_FitModelWithAllData\", \"learnToolsVersion\": \"0.3.4\", \"failureMessage\": \"\", \"exceptionClass\": \"\", \"trace\": \"\"}}, \"*\")"
      ],
      "text/plain": [
       "<IPython.core.display.Javascript object>"
      ]
     },
     "metadata": {},
     "output_type": "display_data"
    },
    {
     "data": {
      "text/markdown": [
       "<span style=\"color:#33cc33\">Correct</span>"
      ],
      "text/plain": [
       "Correct"
      ]
     },
     "metadata": {},
     "output_type": "display_data"
    }
   ],
   "source": [
    "# Fill in argument to make optimal size and uncomment\n",
    "final_model = DecisionTreeRegressor(max_leaf_nodes=best_tree_size, random_state=0)\n",
    "\n",
    "# fit the final model and uncomment the next two lines\n",
    "final_model.fit(X, y)\n",
    "\n",
    "# Check your answer\n",
    "step_2.check()"
   ]
  },
  {
   "cell_type": "code",
   "execution_count": 8,
   "id": "85019c3e",
   "metadata": {
    "execution": {
     "iopub.execute_input": "2021-08-24T11:33:16.110327Z",
     "iopub.status.busy": "2021-08-24T11:33:16.109666Z",
     "iopub.status.idle": "2021-08-24T11:33:16.113432Z",
     "shell.execute_reply": "2021-08-24T11:33:16.112859Z",
     "shell.execute_reply.started": "2021-08-24T11:31:18.444328Z"
    },
    "papermill": {
     "duration": 0.022575,
     "end_time": "2021-08-24T11:33:16.113600",
     "exception": false,
     "start_time": "2021-08-24T11:33:16.091025",
     "status": "completed"
    },
    "tags": []
   },
   "outputs": [],
   "source": [
    "# step_2.hint()\n",
    "# step_2.solution()"
   ]
  },
  {
   "cell_type": "markdown",
   "id": "e8e13545",
   "metadata": {
    "papermill": {
     "duration": 0.013548,
     "end_time": "2021-08-24T11:33:16.141297",
     "exception": false,
     "start_time": "2021-08-24T11:33:16.127749",
     "status": "completed"
    },
    "tags": []
   },
   "source": [
    "You've tuned this model and improved your results. But we are still using Decision Tree models, which are not very sophisticated by modern machine learning standards. In the next step you will learn to use Random Forests to improve your models even more.\n",
    "\n",
    "# Keep Going\n",
    "\n",
    "You are ready for **[Random Forests](https://www.kaggle.com/dansbecker/random-forests).**\n"
   ]
  },
  {
   "cell_type": "markdown",
   "id": "39cf4144",
   "metadata": {
    "papermill": {
     "duration": 0.013577,
     "end_time": "2021-08-24T11:33:16.168708",
     "exception": false,
     "start_time": "2021-08-24T11:33:16.155131",
     "status": "completed"
    },
    "tags": []
   },
   "source": [
    "---\n",
    "\n",
    "\n",
    "\n",
    "\n",
    "*Have questions or comments? Visit the [Learn Discussion forum](https://www.kaggle.com/learn-forum/161285) to chat with other Learners.*"
   ]
  }
 ],
 "metadata": {
  "kernelspec": {
   "display_name": "Python 3",
   "language": "python",
   "name": "python3"
  },
  "language_info": {
   "codemirror_mode": {
    "name": "ipython",
    "version": 3
   },
   "file_extension": ".py",
   "mimetype": "text/x-python",
   "name": "python",
   "nbconvert_exporter": "python",
   "pygments_lexer": "ipython3",
   "version": "3.7.10"
  },
  "papermill": {
   "default_parameters": {},
   "duration": 11.492044,
   "end_time": "2021-08-24T11:33:16.892986",
   "environment_variables": {},
   "exception": null,
   "input_path": "__notebook__.ipynb",
   "output_path": "__notebook__.ipynb",
   "parameters": {},
   "start_time": "2021-08-24T11:33:05.400942",
   "version": "2.3.3"
  }
 },
 "nbformat": 4,
 "nbformat_minor": 5
}
