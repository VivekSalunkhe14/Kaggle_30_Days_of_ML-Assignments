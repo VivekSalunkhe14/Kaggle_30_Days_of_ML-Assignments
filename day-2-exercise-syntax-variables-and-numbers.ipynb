{
 "cells": [
  {
   "cell_type": "markdown",
   "id": "df738b30",
   "metadata": {
    "papermill": {
     "duration": 0.022746,
     "end_time": "2021-08-24T05:48:09.513411",
     "exception": false,
     "start_time": "2021-08-24T05:48:09.490665",
     "status": "completed"
    },
    "tags": []
   },
   "source": [
    "**This notebook is an exercise in the [Python](https://www.kaggle.com/learn/python) course.  You can reference the tutorial at [this link](https://www.kaggle.com/colinmorris/hello-python).**\n",
    "\n",
    "---\n"
   ]
  },
  {
   "cell_type": "markdown",
   "id": "62671ca4",
   "metadata": {
    "papermill": {
     "duration": 0.021074,
     "end_time": "2021-08-24T05:48:09.555803",
     "exception": false,
     "start_time": "2021-08-24T05:48:09.534729",
     "status": "completed"
    },
    "tags": []
   },
   "source": [
    "Welcome to your first set of Python coding problems.  If this is your first time using Kaggle Notebooks, welcome! \n",
    "\n",
    "Notebooks are composed of blocks (called \"cells\") of text and code. Each of these is editable, though you'll mainly be editing the code cells to answer some questions.\n",
    "\n",
    "To get started, try running the code cell below (by pressing the ► button, or clicking on the cell and pressing ctrl+enter on your keyboard)."
   ]
  },
  {
   "cell_type": "code",
   "execution_count": 1,
   "id": "e37aff61",
   "metadata": {
    "execution": {
     "iopub.execute_input": "2021-08-24T05:48:09.603297Z",
     "iopub.status.busy": "2021-08-24T05:48:09.602137Z",
     "iopub.status.idle": "2021-08-24T05:48:09.615320Z",
     "shell.execute_reply": "2021-08-24T05:48:09.614681Z",
     "shell.execute_reply.started": "2021-08-24T05:37:55.831775Z"
    },
    "papermill": {
     "duration": 0.037923,
     "end_time": "2021-08-24T05:48:09.615493",
     "exception": false,
     "start_time": "2021-08-24T05:48:09.577570",
     "status": "completed"
    },
    "tags": []
   },
   "outputs": [
    {
     "name": "stdout",
     "output_type": "stream",
     "text": [
      "You've successfully run some Python code\n",
      "Congratulations!\n"
     ]
    }
   ],
   "source": [
    "print(\"You've successfully run some Python code\")\n",
    "print(\"Congratulations!\")"
   ]
  },
  {
   "cell_type": "markdown",
   "id": "8876c6cd",
   "metadata": {
    "papermill": {
     "duration": 0.0206,
     "end_time": "2021-08-24T05:48:09.657926",
     "exception": false,
     "start_time": "2021-08-24T05:48:09.637326",
     "status": "completed"
    },
    "tags": []
   },
   "source": [
    "Try adding another line of code in the cell above and re-running it. \n",
    "\n",
    "Now let's get a little fancier:  Add a new code cell by clicking on an existing code cell, hitting the escape key, and then hitting the `a` or `b` key.  The `a` key will add a cell above the current cell, and `b` adds a cell below.\n",
    "\n",
    "Great! Now you know how to use Notebooks.\n",
    "\n",
    "Each hands-on exercise starts by setting up our feedback and code checking mechanism. Run the code cell below to do that. Then you'll be ready to move on to question 0."
   ]
  },
  {
   "cell_type": "code",
   "execution_count": 2,
   "id": "e7c22bb0",
   "metadata": {
    "_kg_hide-input": true,
    "_kg_hide-output": true,
    "execution": {
     "iopub.execute_input": "2021-08-24T05:48:09.703997Z",
     "iopub.status.busy": "2021-08-24T05:48:09.703296Z",
     "iopub.status.idle": "2021-08-24T05:48:09.915040Z",
     "shell.execute_reply": "2021-08-24T05:48:09.914223Z",
     "shell.execute_reply.started": "2021-08-24T05:37:55.848078Z"
    },
    "papermill": {
     "duration": 0.235944,
     "end_time": "2021-08-24T05:48:09.915266",
     "exception": false,
     "start_time": "2021-08-24T05:48:09.679322",
     "status": "completed"
    },
    "tags": []
   },
   "outputs": [
    {
     "name": "stdout",
     "output_type": "stream",
     "text": [
      "Setup complete! You're ready to start question 0.\n"
     ]
    }
   ],
   "source": [
    "from learntools.core import binder; binder.bind(globals())\n",
    "from learntools.python.ex1 import *\n",
    "print(\"Setup complete! You're ready to start question 0.\")"
   ]
  },
  {
   "cell_type": "markdown",
   "id": "695768a2",
   "metadata": {
    "papermill": {
     "duration": 0.02167,
     "end_time": "2021-08-24T05:48:09.959292",
     "exception": false,
     "start_time": "2021-08-24T05:48:09.937622",
     "status": "completed"
    },
    "tags": []
   },
   "source": [
    "# 0.\n",
    "\n",
    "*This is a silly question intended as an introduction to the format we use for hands-on exercises throughout all Kaggle courses.*\n",
    "\n",
    "**What is your favorite color? **\n",
    "\n",
    "To complete this question, create a variable called `color` in the cell below with an appropriate value. The function call `q0.check()` (which we've already provided in the cell below) will check your answer."
   ]
  },
  {
   "cell_type": "code",
   "execution_count": 3,
   "id": "c5ddf606",
   "metadata": {
    "execution": {
     "iopub.execute_input": "2021-08-24T05:48:10.012497Z",
     "iopub.status.busy": "2021-08-24T05:48:10.011446Z",
     "iopub.status.idle": "2021-08-24T05:48:10.019710Z",
     "shell.execute_reply": "2021-08-24T05:48:10.019082Z",
     "shell.execute_reply.started": "2021-08-24T05:40:52.348849Z"
    },
    "papermill": {
     "duration": 0.038319,
     "end_time": "2021-08-24T05:48:10.019859",
     "exception": false,
     "start_time": "2021-08-24T05:48:09.981540",
     "status": "completed"
    },
    "tags": []
   },
   "outputs": [
    {
     "data": {
      "application/javascript": [
       "parent.postMessage({\"jupyterEvent\": \"custom.exercise_interaction\", \"data\": {\"outcomeType\": 1, \"valueTowardsCompletion\": 0.25, \"interactionType\": 1, \"questionType\": 2, \"questionId\": \"0_ExerciseFormatTutorial\", \"learnToolsVersion\": \"0.3.4\", \"failureMessage\": \"\", \"exceptionClass\": \"\", \"trace\": \"\"}}, \"*\")"
      ],
      "text/plain": [
       "<IPython.core.display.Javascript object>"
      ]
     },
     "metadata": {},
     "output_type": "display_data"
    },
    {
     "data": {
      "text/markdown": [
       "<span style=\"color:#33cc33\">Correct:</span> What?! You got it right without needing a hint or anything? Drats. Well hey, you should still continue to the next step to get some practice asking for a hint and checking solutions. (Even though you obviously don't need any help here.)"
      ],
      "text/plain": [
       "Correct: What?! You got it right without needing a hint or anything? Drats. Well hey, you should still continue to the next step to get some practice asking for a hint and checking solutions. (Even though you obviously don't need any help here.)"
      ]
     },
     "metadata": {},
     "output_type": "display_data"
    }
   ],
   "source": [
    "# create a variable called color with an appropriate value on the line below\n",
    "# (Remember, strings in Python must be enclosed in 'single' or \"double\" quotes)\n",
    "color=\"blue\"\n",
    "\n",
    "# Check your answer\n",
    "q0.check()"
   ]
  },
  {
   "cell_type": "markdown",
   "id": "83f244da",
   "metadata": {
    "papermill": {
     "duration": 0.022096,
     "end_time": "2021-08-24T05:48:10.064407",
     "exception": false,
     "start_time": "2021-08-24T05:48:10.042311",
     "status": "completed"
    },
    "tags": []
   },
   "source": [
    "Didn't get the right answer? How do you not even know your own favorite color?!\n",
    "\n",
    "Delete the `#` in the line below to make one of the lines run. You can choose between getting a hint or the full answer by choosing which line to remove the `#` from. \n",
    "\n",
    "Removing the `#` is called uncommenting, because it changes that line from a \"comment\" which Python doesn't run to code, which Python does run."
   ]
  },
  {
   "cell_type": "code",
   "execution_count": 4,
   "id": "3530ea15",
   "metadata": {
    "execution": {
     "iopub.execute_input": "2021-08-24T05:48:10.116378Z",
     "iopub.status.busy": "2021-08-24T05:48:10.115470Z",
     "iopub.status.idle": "2021-08-24T05:48:10.119402Z",
     "shell.execute_reply": "2021-08-24T05:48:10.118790Z",
     "shell.execute_reply.started": "2021-08-24T05:40:22.340499Z"
    },
    "papermill": {
     "duration": 0.031002,
     "end_time": "2021-08-24T05:48:10.119551",
     "exception": false,
     "start_time": "2021-08-24T05:48:10.088549",
     "status": "completed"
    },
    "tags": []
   },
   "outputs": [],
   "source": [
    "#q0.hint()\n",
    "#q0.solution()"
   ]
  },
  {
   "cell_type": "markdown",
   "id": "63dfc720",
   "metadata": {
    "papermill": {
     "duration": 0.021956,
     "end_time": "2021-08-24T05:48:10.163920",
     "exception": false,
     "start_time": "2021-08-24T05:48:10.141964",
     "status": "completed"
    },
    "tags": []
   },
   "source": [
    "The upcoming questions work the same way. The only thing that will change are the question numbers. For the next question, you'll call `q1.check()`, `q1.hint()`, `q1.solution()`, for question 2, you'll call `q2.check()`, and so on."
   ]
  },
  {
   "cell_type": "markdown",
   "id": "0ae0544f",
   "metadata": {
    "papermill": {
     "duration": 0.023069,
     "end_time": "2021-08-24T05:48:10.209426",
     "exception": false,
     "start_time": "2021-08-24T05:48:10.186357",
     "status": "completed"
    },
    "tags": []
   },
   "source": [
    "<hr/>\n",
    "\n",
    "# 1.\n",
    "\n",
    "Complete the code below. In case it's helpful, here is the table of available arithmetic operations:\n",
    "\n",
    "\n",
    "\n",
    "| Operator     | Name           | Description                                            |\n",
    "|--------------|----------------|--------------------------------------------------------|\n",
    "| ``a + b``    | Addition       | Sum of ``a`` and ``b``                                 |\n",
    "| ``a - b``    | Subtraction    | Difference of ``a`` and ``b``                          |\n",
    "| ``a * b``    | Multiplication | Product of ``a`` and ``b``                             |\n",
    "| ``a / b``    | True division  | Quotient of ``a`` and ``b``                            |\n",
    "| ``a // b``   | Floor division | Quotient of ``a`` and ``b``, removing fractional parts |\n",
    "| ``a % b``    | Modulus        | Integer remainder after division of ``a`` by ``b``     |\n",
    "| ``a ** b``   | Exponentiation | ``a`` raised to the power of ``b``                     |\n",
    "| ``-a``       | Negation       | The negative of ``a``                                  |\n",
    "\n",
    "<span style=\"display:none\"></span>\n"
   ]
  },
  {
   "cell_type": "code",
   "execution_count": 5,
   "id": "2b5ae02c",
   "metadata": {
    "execution": {
     "iopub.execute_input": "2021-08-24T05:48:10.261365Z",
     "iopub.status.busy": "2021-08-24T05:48:10.260611Z",
     "iopub.status.idle": "2021-08-24T05:48:10.266482Z",
     "shell.execute_reply": "2021-08-24T05:48:10.265790Z",
     "shell.execute_reply.started": "2021-08-24T05:42:40.787435Z"
    },
    "papermill": {
     "duration": 0.034193,
     "end_time": "2021-08-24T05:48:10.266637",
     "exception": false,
     "start_time": "2021-08-24T05:48:10.232444",
     "status": "completed"
    },
    "tags": []
   },
   "outputs": [
    {
     "data": {
      "application/javascript": [
       "parent.postMessage({\"jupyterEvent\": \"custom.exercise_interaction\", \"data\": {\"outcomeType\": 1, \"valueTowardsCompletion\": 0.25, \"interactionType\": 1, \"questionType\": 1, \"questionId\": \"1_CircleArea\", \"learnToolsVersion\": \"0.3.4\", \"failureMessage\": \"\", \"exceptionClass\": \"\", \"trace\": \"\"}}, \"*\")"
      ],
      "text/plain": [
       "<IPython.core.display.Javascript object>"
      ]
     },
     "metadata": {},
     "output_type": "display_data"
    },
    {
     "data": {
      "text/markdown": [
       "<span style=\"color:#33cc33\">Correct</span>"
      ],
      "text/plain": [
       "Correct"
      ]
     },
     "metadata": {},
     "output_type": "display_data"
    }
   ],
   "source": [
    "pi = 3.14159 # approximate\n",
    "diameter = 3\n",
    "\n",
    "# Create a variable called 'radius' equal to half the diameter\n",
    "radius = diameter/2\n",
    "\n",
    "# Create a variable called 'area', using the formula for the area of a circle: pi times the radius squared\n",
    "area = pi * (radius ** 2)\n",
    "\n",
    "# Check your answer\n",
    "q1.check()"
   ]
  },
  {
   "cell_type": "code",
   "execution_count": 6,
   "id": "cf0bf586",
   "metadata": {
    "execution": {
     "iopub.execute_input": "2021-08-24T05:48:10.320516Z",
     "iopub.status.busy": "2021-08-24T05:48:10.319782Z",
     "iopub.status.idle": "2021-08-24T05:48:10.323120Z",
     "shell.execute_reply": "2021-08-24T05:48:10.322590Z"
    },
    "papermill": {
     "duration": 0.033019,
     "end_time": "2021-08-24T05:48:10.323291",
     "exception": false,
     "start_time": "2021-08-24T05:48:10.290272",
     "status": "completed"
    },
    "tags": []
   },
   "outputs": [],
   "source": [
    "# Uncomment and run the lines below if you need help.\n",
    "#q1.hint()\n",
    "#q1.solution()"
   ]
  },
  {
   "cell_type": "markdown",
   "id": "9d448d24",
   "metadata": {
    "papermill": {
     "duration": 0.023818,
     "end_time": "2021-08-24T05:48:10.371380",
     "exception": false,
     "start_time": "2021-08-24T05:48:10.347562",
     "status": "completed"
    },
    "tags": []
   },
   "source": [
    "<hr/>\n",
    "\n",
    "# 2.\n",
    "\n",
    "Add code to the following cell to swap variables `a` and `b` (so that `a` refers to the object previously referred to by `b` and vice versa)."
   ]
  },
  {
   "cell_type": "code",
   "execution_count": 7,
   "id": "1f5e2cad",
   "metadata": {
    "execution": {
     "iopub.execute_input": "2021-08-24T05:48:10.428626Z",
     "iopub.status.busy": "2021-08-24T05:48:10.427856Z",
     "iopub.status.idle": "2021-08-24T05:48:10.435185Z",
     "shell.execute_reply": "2021-08-24T05:48:10.434643Z",
     "shell.execute_reply.started": "2021-08-24T05:43:42.813501Z"
    },
    "papermill": {
     "duration": 0.03965,
     "end_time": "2021-08-24T05:48:10.435354",
     "exception": false,
     "start_time": "2021-08-24T05:48:10.395704",
     "status": "completed"
    },
    "tags": []
   },
   "outputs": [
    {
     "data": {
      "application/javascript": [
       "parent.postMessage({\"jupyterEvent\": \"custom.exercise_interaction\", \"data\": {\"outcomeType\": 1, \"valueTowardsCompletion\": 0.25, \"interactionType\": 1, \"questionType\": 2, \"questionId\": \"2_VariableSwap\", \"learnToolsVersion\": \"0.3.4\", \"failureMessage\": \"\", \"exceptionClass\": \"\", \"trace\": \"\"}}, \"*\")"
      ],
      "text/plain": [
       "<IPython.core.display.Javascript object>"
      ]
     },
     "metadata": {},
     "output_type": "display_data"
    },
    {
     "data": {
      "text/markdown": [
       "<span style=\"color:#33cc33\">Correct:</span> \n",
       "\n",
       "The most straightforward solution is to use a third variable to temporarily store one of the old values. e.g.:\n",
       "\n",
       "    tmp = a\n",
       "    a = b\n",
       "    b = tmp\n",
       "\n",
       "If you've read lots of Python code, you might have seen the following trick to swap two variables in one line:\n",
       "\n",
       "    a, b = b, a\n",
       "\n",
       "We'll demystify this bit of Python magic later when we talk about *tuples*."
      ],
      "text/plain": [
       "Correct: \n",
       "\n",
       "The most straightforward solution is to use a third variable to temporarily store one of the old values. e.g.:\n",
       "\n",
       "    tmp = a\n",
       "    a = b\n",
       "    b = tmp\n",
       "\n",
       "If you've read lots of Python code, you might have seen the following trick to swap two variables in one line:\n",
       "\n",
       "    a, b = b, a\n",
       "\n",
       "We'll demystify this bit of Python magic later when we talk about *tuples*."
      ]
     },
     "metadata": {},
     "output_type": "display_data"
    }
   ],
   "source": [
    "########### Setup code - don't touch this part ######################\n",
    "# If you're curious, these are examples of lists. We'll talk about \n",
    "# them in depth a few lessons from now. For now, just know that they're\n",
    "# yet another type of Python object, like int or float.\n",
    "a = [1, 2, 3]\n",
    "b = [3, 2, 1]\n",
    "q2.store_original_ids()\n",
    "######################################################################\n",
    "\n",
    "# Your code goes here. Swap the values to which a and b refer.\n",
    "# If you get stuck, you can always uncomment one or both of the lines in\n",
    "# the next cell for a hint, or to peek at the solution.\n",
    "a, b = b, a\n",
    "\n",
    "######################################################################\n",
    "\n",
    "# Check your answer\n",
    "q2.check()"
   ]
  },
  {
   "cell_type": "code",
   "execution_count": 8,
   "id": "385701bc",
   "metadata": {
    "execution": {
     "iopub.execute_input": "2021-08-24T05:48:10.491454Z",
     "iopub.status.busy": "2021-08-24T05:48:10.490731Z",
     "iopub.status.idle": "2021-08-24T05:48:10.494359Z",
     "shell.execute_reply": "2021-08-24T05:48:10.493766Z"
    },
    "papermill": {
     "duration": 0.033303,
     "end_time": "2021-08-24T05:48:10.494518",
     "exception": false,
     "start_time": "2021-08-24T05:48:10.461215",
     "status": "completed"
    },
    "tags": []
   },
   "outputs": [],
   "source": [
    "#q2.hint()"
   ]
  },
  {
   "cell_type": "code",
   "execution_count": 9,
   "id": "83436ce6",
   "metadata": {
    "execution": {
     "iopub.execute_input": "2021-08-24T05:48:10.549922Z",
     "iopub.status.busy": "2021-08-24T05:48:10.549244Z",
     "iopub.status.idle": "2021-08-24T05:48:10.551236Z",
     "shell.execute_reply": "2021-08-24T05:48:10.551737Z"
    },
    "papermill": {
     "duration": 0.032198,
     "end_time": "2021-08-24T05:48:10.551929",
     "exception": false,
     "start_time": "2021-08-24T05:48:10.519731",
     "status": "completed"
    },
    "tags": []
   },
   "outputs": [],
   "source": [
    "#q2.solution()"
   ]
  },
  {
   "cell_type": "markdown",
   "id": "dfc16b23",
   "metadata": {
    "papermill": {
     "duration": 0.024707,
     "end_time": "2021-08-24T05:48:10.601609",
     "exception": false,
     "start_time": "2021-08-24T05:48:10.576902",
     "status": "completed"
    },
    "tags": []
   },
   "source": [
    "<hr/>\n",
    "\n",
    "# 3a.\n",
    "\n",
    "Add parentheses to the following expression so that it evaluates to 1."
   ]
  },
  {
   "cell_type": "code",
   "execution_count": 10,
   "id": "5b42a9bb",
   "metadata": {
    "execution": {
     "iopub.execute_input": "2021-08-24T05:48:10.656292Z",
     "iopub.status.busy": "2021-08-24T05:48:10.655585Z",
     "iopub.status.idle": "2021-08-24T05:48:10.660998Z",
     "shell.execute_reply": "2021-08-24T05:48:10.661478Z",
     "shell.execute_reply.started": "2021-08-24T05:44:08.509010Z"
    },
    "papermill": {
     "duration": 0.035023,
     "end_time": "2021-08-24T05:48:10.661661",
     "exception": false,
     "start_time": "2021-08-24T05:48:10.626638",
     "status": "completed"
    },
    "tags": []
   },
   "outputs": [
    {
     "data": {
      "text/plain": [
       "1"
      ]
     },
     "execution_count": 10,
     "metadata": {},
     "output_type": "execute_result"
    }
   ],
   "source": [
    "(5 - 3) // 2"
   ]
  },
  {
   "cell_type": "code",
   "execution_count": 11,
   "id": "5e55432c",
   "metadata": {
    "execution": {
     "iopub.execute_input": "2021-08-24T05:48:10.715664Z",
     "iopub.status.busy": "2021-08-24T05:48:10.714956Z",
     "iopub.status.idle": "2021-08-24T05:48:10.719491Z",
     "shell.execute_reply": "2021-08-24T05:48:10.718847Z"
    },
    "papermill": {
     "duration": 0.032769,
     "end_time": "2021-08-24T05:48:10.719633",
     "exception": false,
     "start_time": "2021-08-24T05:48:10.686864",
     "status": "completed"
    },
    "tags": []
   },
   "outputs": [],
   "source": [
    "#q3.a.hint()"
   ]
  },
  {
   "cell_type": "code",
   "execution_count": 12,
   "id": "086cbddf",
   "metadata": {
    "execution": {
     "iopub.execute_input": "2021-08-24T05:48:10.776617Z",
     "iopub.status.busy": "2021-08-24T05:48:10.775944Z",
     "iopub.status.idle": "2021-08-24T05:48:10.781972Z",
     "shell.execute_reply": "2021-08-24T05:48:10.781462Z",
     "shell.execute_reply.started": "2021-08-24T05:46:07.897148Z"
    },
    "papermill": {
     "duration": 0.036778,
     "end_time": "2021-08-24T05:48:10.782106",
     "exception": false,
     "start_time": "2021-08-24T05:48:10.745328",
     "status": "completed"
    },
    "tags": []
   },
   "outputs": [
    {
     "data": {
      "application/javascript": [
       "parent.postMessage({\"jupyterEvent\": \"custom.exercise_interaction\", \"data\": {\"interactionType\": 3, \"questionType\": 4, \"questionId\": \"3.1_ArithmeticParensEasy\", \"learnToolsVersion\": \"0.3.4\", \"valueTowardsCompletion\": 0.0, \"failureMessage\": \"\", \"exceptionClass\": \"\", \"trace\": \"\", \"outcomeType\": 4}}, \"*\")"
      ],
      "text/plain": [
       "<IPython.core.display.Javascript object>"
      ]
     },
     "metadata": {},
     "output_type": "display_data"
    },
    {
     "data": {
      "text/markdown": [
       "<span style=\"color:#33cc99\">Solution:</span> \n",
       "```python\n",
       "(5 - 3) // 2\n",
       "```"
      ],
      "text/plain": [
       "Solution: \n",
       "```python\n",
       "(5 - 3) // 2\n",
       "```"
      ]
     },
     "metadata": {},
     "output_type": "display_data"
    }
   ],
   "source": [
    "# Check your answer (Run this code cell to receive credit!)\n",
    "q3.a.solution()"
   ]
  },
  {
   "cell_type": "markdown",
   "id": "f2fd7ac8",
   "metadata": {
    "papermill": {
     "duration": 0.026596,
     "end_time": "2021-08-24T05:48:10.835897",
     "exception": false,
     "start_time": "2021-08-24T05:48:10.809301",
     "status": "completed"
    },
    "tags": []
   },
   "source": [
    "# 3b.  <span title=\"A bit spicy\" style=\"color: darkgreen \">🌶️</span>\n",
    "\n",
    "<small>Questions, like this one, marked a spicy pepper are a bit harder.</small>\n",
    "\n",
    "Add parentheses to the following expression so that it evaluates to 0."
   ]
  },
  {
   "cell_type": "code",
   "execution_count": 13,
   "id": "e369bfd4",
   "metadata": {
    "execution": {
     "iopub.execute_input": "2021-08-24T05:48:10.895675Z",
     "iopub.status.busy": "2021-08-24T05:48:10.894998Z",
     "iopub.status.idle": "2021-08-24T05:48:10.898292Z",
     "shell.execute_reply": "2021-08-24T05:48:10.898758Z",
     "shell.execute_reply.started": "2021-08-24T05:45:29.318343Z"
    },
    "papermill": {
     "duration": 0.036227,
     "end_time": "2021-08-24T05:48:10.898960",
     "exception": false,
     "start_time": "2021-08-24T05:48:10.862733",
     "status": "completed"
    },
    "tags": []
   },
   "outputs": [
    {
     "data": {
      "text/plain": [
       "0"
      ]
     },
     "execution_count": 13,
     "metadata": {},
     "output_type": "execute_result"
    }
   ],
   "source": [
    "(8 - (3 * 2)) - (1 + 1)"
   ]
  },
  {
   "cell_type": "code",
   "execution_count": 14,
   "id": "447b9a60",
   "metadata": {
    "execution": {
     "iopub.execute_input": "2021-08-24T05:48:10.957754Z",
     "iopub.status.busy": "2021-08-24T05:48:10.957068Z",
     "iopub.status.idle": "2021-08-24T05:48:10.961786Z",
     "shell.execute_reply": "2021-08-24T05:48:10.962337Z",
     "shell.execute_reply.started": "2021-08-24T05:46:04.525991Z"
    },
    "papermill": {
     "duration": 0.035282,
     "end_time": "2021-08-24T05:48:10.962542",
     "exception": false,
     "start_time": "2021-08-24T05:48:10.927260",
     "status": "completed"
    },
    "tags": []
   },
   "outputs": [
    {
     "data": {
      "text/plain": [
       "0"
      ]
     },
     "execution_count": 14,
     "metadata": {},
     "output_type": "execute_result"
    }
   ],
   "source": [
    "(8 - 3) * (2 - (1 + 1))"
   ]
  },
  {
   "cell_type": "code",
   "execution_count": 15,
   "id": "f82035b1",
   "metadata": {
    "execution": {
     "iopub.execute_input": "2021-08-24T05:48:11.020312Z",
     "iopub.status.busy": "2021-08-24T05:48:11.019646Z",
     "iopub.status.idle": "2021-08-24T05:48:11.022651Z",
     "shell.execute_reply": "2021-08-24T05:48:11.023192Z",
     "shell.execute_reply.started": "2021-08-24T05:45:04.278172Z"
    },
    "papermill": {
     "duration": 0.033596,
     "end_time": "2021-08-24T05:48:11.023392",
     "exception": false,
     "start_time": "2021-08-24T05:48:10.989796",
     "status": "completed"
    },
    "tags": []
   },
   "outputs": [],
   "source": [
    "#q3.b.hint()"
   ]
  },
  {
   "cell_type": "code",
   "execution_count": 16,
   "id": "3631c9f2",
   "metadata": {
    "execution": {
     "iopub.execute_input": "2021-08-24T05:48:11.083790Z",
     "iopub.status.busy": "2021-08-24T05:48:11.083092Z",
     "iopub.status.idle": "2021-08-24T05:48:11.089355Z",
     "shell.execute_reply": "2021-08-24T05:48:11.089853Z",
     "shell.execute_reply.started": "2021-08-24T05:45:50.697611Z"
    },
    "papermill": {
     "duration": 0.038677,
     "end_time": "2021-08-24T05:48:11.090048",
     "exception": false,
     "start_time": "2021-08-24T05:48:11.051371",
     "status": "completed"
    },
    "tags": []
   },
   "outputs": [
    {
     "data": {
      "application/javascript": [
       "parent.postMessage({\"jupyterEvent\": \"custom.exercise_interaction\", \"data\": {\"interactionType\": 3, \"questionType\": 4, \"questionId\": \"3.2_ArithmeticParensHard\", \"learnToolsVersion\": \"0.3.4\", \"valueTowardsCompletion\": 0.0, \"failureMessage\": \"\", \"exceptionClass\": \"\", \"trace\": \"\", \"outcomeType\": 4}}, \"*\")"
      ],
      "text/plain": [
       "<IPython.core.display.Javascript object>"
      ]
     },
     "metadata": {},
     "output_type": "display_data"
    },
    {
     "data": {
      "text/markdown": [
       "<span style=\"color:#33cc99\">Solution:</span> `(8 - 3) * (2 - (1 + 1))` is one solution. There may be others."
      ],
      "text/plain": [
       "Solution: `(8 - 3) * (2 - (1 + 1))` is one solution. There may be others."
      ]
     },
     "metadata": {},
     "output_type": "display_data"
    }
   ],
   "source": [
    "# Check your answer (Run this code cell to receive credit!)\n",
    "q3.b.solution()"
   ]
  },
  {
   "cell_type": "markdown",
   "id": "35fdf468",
   "metadata": {
    "papermill": {
     "duration": 0.028081,
     "end_time": "2021-08-24T05:48:11.146676",
     "exception": false,
     "start_time": "2021-08-24T05:48:11.118595",
     "status": "completed"
    },
    "tags": []
   },
   "source": [
    "<hr/>\n",
    "\n",
    "# 4. \n",
    "Alice, Bob and Carol have agreed to pool their Halloween candy and split it evenly among themselves.\n",
    "For the sake of their friendship, any candies left over will be smashed. For example, if they collectively\n",
    "bring home 91 candies, they'll take 30 each and smash 1.\n",
    "\n",
    "Write an arithmetic expression below to calculate how many candies they must smash for a given haul."
   ]
  },
  {
   "cell_type": "code",
   "execution_count": 17,
   "id": "b8563334",
   "metadata": {
    "execution": {
     "iopub.execute_input": "2021-08-24T05:48:11.207334Z",
     "iopub.status.busy": "2021-08-24T05:48:11.206554Z",
     "iopub.status.idle": "2021-08-24T05:48:11.213556Z",
     "shell.execute_reply": "2021-08-24T05:48:11.214109Z",
     "shell.execute_reply.started": "2021-08-24T05:47:03.838267Z"
    },
    "papermill": {
     "duration": 0.039039,
     "end_time": "2021-08-24T05:48:11.214338",
     "exception": false,
     "start_time": "2021-08-24T05:48:11.175299",
     "status": "completed"
    },
    "tags": []
   },
   "outputs": [
    {
     "data": {
      "application/javascript": [
       "parent.postMessage({\"jupyterEvent\": \"custom.exercise_interaction\", \"data\": {\"outcomeType\": 1, \"valueTowardsCompletion\": 0.25, \"interactionType\": 1, \"questionType\": 1, \"questionId\": \"4_CandySplitting\", \"learnToolsVersion\": \"0.3.4\", \"failureMessage\": \"\", \"exceptionClass\": \"\", \"trace\": \"\"}}, \"*\")"
      ],
      "text/plain": [
       "<IPython.core.display.Javascript object>"
      ]
     },
     "metadata": {},
     "output_type": "display_data"
    },
    {
     "data": {
      "text/markdown": [
       "<span style=\"color:#33cc33\">Correct</span>"
      ],
      "text/plain": [
       "Correct"
      ]
     },
     "metadata": {},
     "output_type": "display_data"
    }
   ],
   "source": [
    "# Variables representing the number of candies collected by alice, bob, and carol\n",
    "alice_candies = 121\n",
    "bob_candies = 77\n",
    "carol_candies = 109\n",
    "\n",
    "# Your code goes here! Replace the right-hand side of this assignment with an expression\n",
    "# involving alice_candies, bob_candies, and carol_candies\n",
    "to_smash = (alice_candies + bob_candies + carol_candies) % 3\n",
    "\n",
    "\n",
    "# Check your answer\n",
    "q4.check()"
   ]
  },
  {
   "cell_type": "code",
   "execution_count": 18,
   "id": "714f9e42",
   "metadata": {
    "execution": {
     "iopub.execute_input": "2021-08-24T05:48:11.277047Z",
     "iopub.status.busy": "2021-08-24T05:48:11.276365Z",
     "iopub.status.idle": "2021-08-24T05:48:11.284145Z",
     "shell.execute_reply": "2021-08-24T05:48:11.283546Z",
     "shell.execute_reply.started": "2021-08-24T05:47:08.388959Z"
    },
    "papermill": {
     "duration": 0.040359,
     "end_time": "2021-08-24T05:48:11.284300",
     "exception": false,
     "start_time": "2021-08-24T05:48:11.243941",
     "status": "completed"
    },
    "tags": []
   },
   "outputs": [
    {
     "data": {
      "application/javascript": [
       "parent.postMessage({\"jupyterEvent\": \"custom.exercise_interaction\", \"data\": {\"interactionType\": 3, \"questionType\": 1, \"questionId\": \"4_CandySplitting\", \"learnToolsVersion\": \"0.3.4\", \"valueTowardsCompletion\": 0.0, \"failureMessage\": \"\", \"exceptionClass\": \"\", \"trace\": \"\", \"outcomeType\": 4}}, \"*\")"
      ],
      "text/plain": [
       "<IPython.core.display.Javascript object>"
      ]
     },
     "metadata": {},
     "output_type": "display_data"
    },
    {
     "data": {
      "text/markdown": [
       "<span style=\"color:#33cc99\">Solution:</span> \n",
       "```python\n",
       "(alice_candies + bob_candies + carol_candies) % 3\n",
       "```"
      ],
      "text/plain": [
       "Solution: \n",
       "```python\n",
       "(alice_candies + bob_candies + carol_candies) % 3\n",
       "```"
      ]
     },
     "metadata": {},
     "output_type": "display_data"
    }
   ],
   "source": [
    "#q4.hint()\n",
    "q4.solution()"
   ]
  },
  {
   "cell_type": "markdown",
   "id": "455ba891",
   "metadata": {
    "papermill": {
     "duration": 0.029905,
     "end_time": "2021-08-24T05:48:11.344360",
     "exception": false,
     "start_time": "2021-08-24T05:48:11.314455",
     "status": "completed"
    },
    "tags": []
   },
   "source": [
    "# Keep Going\n",
    "\n",
    "Next up, you'll **[learn to write new functions and understand functions others write](https://www.kaggle.com/colinmorris/functions-and-getting-help)**. This will make you at least 10 times more productive as a Python programmer. "
   ]
  },
  {
   "cell_type": "markdown",
   "id": "a9465a2c",
   "metadata": {
    "papermill": {
     "duration": 0.030578,
     "end_time": "2021-08-24T05:48:11.404925",
     "exception": false,
     "start_time": "2021-08-24T05:48:11.374347",
     "status": "completed"
    },
    "tags": []
   },
   "source": [
    "---\n",
    "\n",
    "\n",
    "\n",
    "\n",
    "*Have questions or comments? Visit the [Learn Discussion forum](https://www.kaggle.com/learn-forum/161283) to chat with other Learners.*"
   ]
  }
 ],
 "metadata": {
  "kernelspec": {
   "display_name": "Python 3",
   "language": "python",
   "name": "python3"
  },
  "language_info": {
   "codemirror_mode": {
    "name": "ipython",
    "version": 3
   },
   "file_extension": ".py",
   "mimetype": "text/x-python",
   "name": "python",
   "nbconvert_exporter": "python",
   "pygments_lexer": "ipython3",
   "version": "3.7.10"
  },
  "papermill": {
   "default_parameters": {},
   "duration": 11.401001,
   "end_time": "2021-08-24T05:48:12.146416",
   "environment_variables": {},
   "exception": null,
   "input_path": "__notebook__.ipynb",
   "output_path": "__notebook__.ipynb",
   "parameters": {},
   "start_time": "2021-08-24T05:48:00.745415",
   "version": "2.3.3"
  }
 },
 "nbformat": 4,
 "nbformat_minor": 5
}
